{
 "cells": [
  {
   "cell_type": "markdown",
   "id": "f5a0de9e9860a8be",
   "metadata": {},
   "source": [
    "# Functions\n",
    "Functions in Python funktionieren ähnlich zu statischen Methoden in C# und Java.\\\n",
    "Es gibt objektorientierte Funktionen, die dann Methoden genannt werden. Diese werden hier nicht behandelt.\n",
    "\n",
    "Es müssen bei den Parametern und dem Rückgabewert keine Datentypen angegeben werden, es ist aber möglich.\n",
    "\n",
    "Python Functions haben im Gegensatz zu C# und Java keine strenge Signatur!\n",
    "Python unterstützt keine Output-Parameter oder Ref-Parameter wie C#."
   ]
  },
  {
   "cell_type": "markdown",
   "id": "b54c63c0-0ef2-4418-ae27-f4ffd486572d",
   "metadata": {},
   "source": [
    "## Funktionen mit und ohne Inputparameter und mit und ohne Return-Werte"
   ]
  },
  {
   "cell_type": "code",
   "execution_count": null,
   "id": "bbc7af42-4dfa-4045-abb1-9cb23b9007f2",
   "metadata": {
    "ExecuteTime": {
     "end_time": "2024-03-13T18:12:42.558872108Z",
     "start_time": "2024-03-13T18:12:41.683280115Z"
    }
   },
   "outputs": [],
   "source": [
    "# Funktion ohne Parameter und ohne Return-Wert\n",
    "def greet(): \n",
    "    print(\"Hallo!\")\n",
    "\n",
    "greet() # Funktionsaufruf"
   ]
  },
  {
   "cell_type": "code",
   "execution_count": null,
   "id": "8e5f18d0-0020-461e-a854-3f400b61d57c",
   "metadata": {
    "ExecuteTime": {
     "end_time": "2024-03-13T18:12:42.558872108Z",
     "start_time": "2024-03-13T18:12:41.683280115Z"
    }
   },
   "outputs": [],
   "source": [
    "# Funktion mit einem Parameter und ohne Return-Wert\n",
    "def greet(name): \n",
    "    print(f\"Hallo {name}!\")\n",
    "\n",
    "greet('Mohamed')\n",
    "greet('Fabian')"
   ]
  },
  {
   "cell_type": "code",
   "execution_count": null,
   "id": "b0e29e66-7d0c-471d-a24d-e945b6f7476d",
   "metadata": {},
   "outputs": [],
   "source": [
    "# Es gibt keine Typbindung! Man könnte hier auch eine Zahl übergeben\n",
    "greet(42)\n",
    "\n",
    "# Oder auch eine Liste\n",
    "greet(['one', 'two', 'three']);"
   ]
  },
  {
   "cell_type": "code",
   "execution_count": null,
   "id": "42695de4-e30b-4ef0-9f4b-f95a95f21a3e",
   "metadata": {
    "ExecuteTime": {
     "end_time": "2024-03-13T18:12:42.675394935Z",
     "start_time": "2024-03-13T18:12:42.637020953Z"
    }
   },
   "outputs": [],
   "source": [
    "# Funktion mit zwei Inputparametern und Return-Wert\n",
    "def compute(x,y): \n",
    "    result = x**y # potenzieren x^y\n",
    "    return result\n",
    "\n",
    "print(compute(3,4))\n",
    "print(compute(2,5))"
   ]
  },
  {
   "cell_type": "code",
   "execution_count": null,
   "id": "6e135622-5e9f-4b7d-831b-f8295e929729",
   "metadata": {
    "ExecuteTime": {
     "end_time": "2024-03-13T18:12:42.823988541Z",
     "start_time": "2024-03-13T18:12:42.781822339Z"
    }
   },
   "outputs": [],
   "source": [
    "# Funktion mit zwei Inputparametern und einem Tupel als Return-Wert\n",
    "# um mehr als einen Wert zurückgeben zu können.\n",
    "def combine(x,y): \n",
    "    return x+y, x-y, x*y, x/y # Tuple mit Summe, Differenz, Produkt und Quotient\n",
    "\n",
    "print(combine(4,2))"
   ]
  },
  {
   "cell_type": "markdown",
   "id": "61fa8e94-ebd8-4ba4-a153-de2d77505278",
   "metadata": {
    "ExecuteTime": {
     "end_time": "2024-03-13T18:12:42.823988541Z",
     "start_time": "2024-03-13T18:12:42.781822339Z"
    }
   },
   "source": [
    "## `pass` ist ein Platzhalter für eine No-Operation\n",
    "`pass` ist ein leerer Codeblock und wird oft bei Funktionen (aber auch in Schleifen) als Platzhalter für zukünftigen Code verwendet.\n",
    "`pass` entspricht in C# und Java einfach einem leeren Block `{}`."
   ]
  },
  {
   "cell_type": "code",
   "execution_count": null,
   "id": "4ea16178-99b6-48f3-a5b2-4998460027f1",
   "metadata": {
    "ExecuteTime": {
     "end_time": "2024-03-13T18:12:42.823988541Z",
     "start_time": "2024-03-13T18:12:42.781822339Z"
    }
   },
   "outputs": [],
   "source": [
    "# Funktion die (noch) nichts tut und erst auf eine Implementierung wartet, \n",
    "# hat einfach `pass` als Body.\n",
    "\n",
    "def somefunction(x): \n",
    "    pass\n",
    "    \n",
    "print(somefunction(3))"
   ]
  },
  {
   "cell_type": "markdown",
   "id": "532d5498-4e57-4a72-ac73-aa795dccee98",
   "metadata": {
    "ExecuteTime": {
     "end_time": "2024-03-13T18:12:42.924971398Z",
     "start_time": "2024-03-13T18:12:42.817248149Z"
    }
   },
   "source": [
    "## Funktionen mit Typangaben\n",
    "Type hinting (Typehinweise) werden seit Python 3.5 unterstützt.\\\n",
    "Siehe **https://docs.python.org/3.10/library/typing.html**"
   ]
  },
  {
   "cell_type": "code",
   "execution_count": null,
   "id": "27358186-6126-435f-8303-0467e938aa1f",
   "metadata": {
    "ExecuteTime": {
     "end_time": "2024-03-13T18:12:42.963203332Z",
     "start_time": "2024-03-13T18:12:42.903417576Z"
    },
    "editable": true,
    "slideshow": {
     "slide_type": ""
    },
    "tags": []
   },
   "outputs": [],
   "source": [
    "def greet() -> None: \n",
    "    print(\"Hallo!\")\n",
    "\n",
    "greet()"
   ]
  },
  {
   "cell_type": "code",
   "execution_count": null,
   "id": "db43c742-4357-4ef0-9338-db0547e999b5",
   "metadata": {
    "ExecuteTime": {
     "end_time": "2024-03-13T18:12:43.092952924Z",
     "start_time": "2024-03-13T18:12:42.955010896Z"
    }
   },
   "outputs": [],
   "source": [
    "def greeting(name: str) -> None: # eine void-Funktion\n",
    "    print(f\"Hallo {name}!\")\n",
    "\n",
    "greeting('Luka')"
   ]
  },
  {
   "cell_type": "code",
   "execution_count": null,
   "id": "5db077b7-1c85-4c2f-b58b-c6a6df5aceca",
   "metadata": {
    "ExecuteTime": {
     "end_time": "2024-03-13T18:12:42.823988541Z",
     "start_time": "2024-03-13T18:12:42.781822339Z"
    }
   },
   "outputs": [],
   "source": [
    "def combineAll(x:float,y:float) -> tuple: \n",
    "    return x+y, x-y, x*y, x/y # Tuple mit Summe, Differenz, Produkt und Quotient zweier Zahlen.\n",
    "\n",
    "print(combineAll(4,2))"
   ]
  },
  {
   "cell_type": "markdown",
   "id": "ea64cf0a-f9b6-4900-b123-c770951577b9",
   "metadata": {},
   "source": [
    "## Information über ´Funktionen"
   ]
  },
  {
   "cell_type": "code",
   "execution_count": null,
   "id": "e166d935-a96b-46e6-9463-7142d3612238",
   "metadata": {},
   "outputs": [],
   "source": [
    "# Info über Funktionen\n",
    "?len"
   ]
  },
  {
   "cell_type": "markdown",
   "id": "9054b674-fc08-4706-a881-5d34343ad1b7",
   "metadata": {},
   "source": [
    "## Dokumentation von Functions mit Docstrings"
   ]
  },
  {
   "cell_type": "code",
   "execution_count": null,
   "id": "81d9dd8e-49f4-4df4-bda1-070cb021a216",
   "metadata": {
    "ExecuteTime": {
     "end_time": "2024-03-13T18:12:45.253249899Z",
     "start_time": "2024-03-13T18:12:45.197103140Z"
    },
    "collapsed": false,
    "jupyter": {
     "outputs_hidden": false
    }
   },
   "outputs": [],
   "source": [
    "# Einfache Docstrings\n",
    "def add(a, b):\n",
    "    \"\"\"Addiert zwei Zahlen und gibt das Ergebnis zurück.\"\"\"\n",
    "    return a + b"
   ]
  },
  {
   "cell_type": "code",
   "execution_count": null,
   "id": "f7d9672a-5c78-4371-b703-c9392ab3b8a7",
   "metadata": {
    "ExecuteTime": {
     "end_time": "2024-03-13T18:12:45.202671547Z",
     "start_time": "2024-03-13T18:12:45.042959650Z"
    }
   },
   "outputs": [],
   "source": [
    "# ausführliche Docstrings\n",
    "def add(a, b):\n",
    "    \"\"\"\n",
    "    Addiert zwei Zahlen.\n",
    "\n",
    "    Diese Funktion nimmt zwei numerische Werte als Eingabe und gibt ihre Summe zurück.\n",
    "\n",
    "    Parameter:\n",
    "    a (int, float): Die erste Zahl.\n",
    "    b (int, float): Die zweite Zahl.\n",
    "\n",
    "    Rückgabewert:\n",
    "    int, float: Die Summe von a und b.\n",
    "\n",
    "    Beispiel:\n",
    "    >>> add(2, 3)\n",
    "    5\n",
    "    \"\"\"\n",
    "    return a + b"
   ]
  },
  {
   "cell_type": "code",
   "execution_count": null,
   "id": "f03f274d-385e-4793-8a1d-74caa7a9bb9a",
   "metadata": {},
   "outputs": [],
   "source": [
    "# reStructuredText (reST) Format\n",
    "def add(a, b):\n",
    "    \"\"\"\n",
    "    Addiert zwei Zahlen.\n",
    "\n",
    "    :param a: Die erste Zahl.\n",
    "    :type a: int, float\n",
    "    :param b: Die zweite Zahl.\n",
    "    :type b: int, float\n",
    "    :return: Die Summe von a und b.\n",
    "    :rtype: int, float\n",
    "    \"\"\"\n",
    "    return a + b"
   ]
  },
  {
   "cell_type": "code",
   "execution_count": null,
   "id": "d2122902-4702-457f-9d3c-1687d51c346b",
   "metadata": {},
   "outputs": [],
   "source": [
    "# Google Style Format\n",
    "def add(a, b):\n",
    "    \"\"\"\n",
    "    Addiert zwei Zahlen.\n",
    "\n",
    "    Args:\n",
    "        a (int, float): Die erste Zahl.\n",
    "        b (int, float): Die zweite Zahl.\n",
    "\n",
    "    Returns:\n",
    "        int, float: Die Summe von a und b.\n",
    "\n",
    "    Example:\n",
    "        >>> add(2, 3)\n",
    "        5\n",
    "    \"\"\"\n",
    "    return a + b"
   ]
  }
 ],
 "metadata": {
  "kernelspec": {
   "display_name": "Python 3 (ipykernel)",
   "language": "python",
   "name": "python3"
  },
  "language_info": {
   "codemirror_mode": {
    "name": "ipython",
    "version": 3
   },
   "file_extension": ".py",
   "mimetype": "text/x-python",
   "name": "python",
   "nbconvert_exporter": "python",
   "pygments_lexer": "ipython3",
   "version": "3.11.3"
  }
 },
 "nbformat": 4,
 "nbformat_minor": 5
}
