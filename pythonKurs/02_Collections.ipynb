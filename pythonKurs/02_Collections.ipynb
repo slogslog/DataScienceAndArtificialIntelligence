{
 "cells": [
  {
   "cell_type": "markdown",
   "id": "f5a0de9e9860a8be",
   "metadata": {
    "jp-MarkdownHeadingCollapsed": true
   },
   "source": [
    "# Collections in Python\n",
    "- `tuple`  \n",
    "  Eine geordnete Sammlung von Elementen, die veränderbar ist.  \n",
    "  Beispiel: `meine_liste = [1, 2, 3, \"Hallo\"]`\n",
    "\n",
    "- `set`  \n",
    "  Eine ungeordnete Sammlung von eindeutigen Elementen.  \n",
    "  Beispiel: `mein_set = {1, 2, 3, 4}`\n",
    "\n",
    "- `dict`  \n",
    "  Eine Sammlung von Schlüssel-Wert-Paaren.\\\n",
    "  Beispiel: `mein_dict = {\"name\": \"Alice\", \"alter\": 30}`\\\n",
    "  **Anmerkung:** Seit Python 3.7 sind die Keys entsprechend der Einfügereihenfolge sortiert."
   ]
  },
  {
   "cell_type": "markdown",
   "id": "9ae1751c-1203-4011-b6e9-12b1f774b733",
   "metadata": {
    "ExecuteTime": {
     "end_time": "2024-08-13T06:27:06.933050Z",
     "start_time": "2024-08-13T06:27:06.920500Z"
    }
   },
   "source": [
    "# `list`  \n",
    "Listen: Eine geordnete Sammlung von Elementen, die veränderbar ist.\\\n",
    "In C# entspricht das einer *ArrayList* (ist wie List<object>)"
   ]
  },
  {
   "cell_type": "markdown",
   "id": "7fbc4ea1-5d53-4299-a013-47698f44da9c",
   "metadata": {},
   "source": [
    "## Anlegen einer Liste"
   ]
  },
  {
   "cell_type": "code",
   "execution_count": null,
   "id": "e266758c-05d4-45e1-8ea0-ebaf90db4b37",
   "metadata": {
    "ExecuteTime": {
     "end_time": "2024-02-27T21:15:11.436544795Z",
     "start_time": "2024-02-27T21:15:11.285320089Z"
    }
   },
   "outputs": [],
   "source": [
    "liste = ['htl', 'donaustadt', 1220, 'Wien' ]\n",
    "print(liste)"
   ]
  },
  {
   "cell_type": "code",
   "execution_count": null,
   "id": "24dd93f4-f3f6-4d0a-8dbe-8eee5b1c6bd2",
   "metadata": {
    "ExecuteTime": {
     "end_time": "2024-02-27T21:15:11.690952787Z",
     "start_time": "2024-02-27T21:15:11.604365254Z"
    }
   },
   "outputs": [],
   "source": [
    "# in Jupyter Notebooks auch ohne print\n",
    "liste"
   ]
  },
  {
   "cell_type": "code",
   "execution_count": null,
   "id": "94542bd3-d535-4bbf-9302-e9b7e3ba880a",
   "metadata": {},
   "outputs": [],
   "source": [
    "len(liste) # Länge einer Liste"
   ]
  },
  {
   "cell_type": "code",
   "execution_count": null,
   "id": "f8432ae2-2819-46ab-babb-9c54155a708e",
   "metadata": {
    "ExecuteTime": {
     "end_time": "2024-02-27T21:15:11.812073586Z",
     "start_time": "2024-02-27T21:15:11.682229605Z"
    }
   },
   "outputs": [],
   "source": [
    "type(liste)"
   ]
  },
  {
   "cell_type": "markdown",
   "id": "83d4f457-074c-4ae5-9f65-fe32b840a303",
   "metadata": {
    "ExecuteTime": {
     "end_time": "2024-02-27T21:15:11.812073586Z",
     "start_time": "2024-02-27T21:15:11.682229605Z"
    }
   },
   "source": [
    "### Kopieren einer Liste mit `list`"
   ]
  },
  {
   "cell_type": "code",
   "execution_count": null,
   "id": "283ff997-2fa0-46ff-bccb-a7355c55f713",
   "metadata": {},
   "outputs": [],
   "source": [
    "liste1 = [10, 20, 30]\n",
    "\n",
    "liste2 = liste1.copy()\n",
    "liste2.append(40)\n",
    "\n",
    "print(liste1)\n",
    "print(liste2)"
   ]
  },
  {
   "cell_type": "code",
   "execution_count": null,
   "id": "365ad400-5f7c-44a8-b598-e283287b82ed",
   "metadata": {},
   "outputs": [],
   "source": [
    "# Achtung! Das ist keine Kopie! liste3 speichert eine Referenz auf liste1!\n",
    "liste3 = liste1\n",
    "liste3.append(40)\n",
    "\n",
    "# Beide Listen sind daher gleich!\n",
    "print(liste1)\n",
    "print(liste3)"
   ]
  },
  {
   "cell_type": "markdown",
   "id": "b8fc6c22-8d9e-4621-b397-94026b9dc16d",
   "metadata": {},
   "source": [
    "## Slicing: Zugriff über den Index"
   ]
  },
  {
   "cell_type": "code",
   "execution_count": null,
   "id": "cbeb85c4-e61b-4297-9034-610cc02f98a0",
   "metadata": {},
   "outputs": [],
   "source": [
    "liste[0] # -> das erste Element der Liste"
   ]
  },
  {
   "cell_type": "code",
   "execution_count": null,
   "id": "30a4e720-7253-45ef-8f5c-b07d5ffbbf42",
   "metadata": {
    "ExecuteTime": {
     "end_time": "2024-02-27T21:15:11.888382747Z",
     "start_time": "2024-02-27T21:15:11.801995598Z"
    }
   },
   "outputs": [],
   "source": [
    "# slicing\n",
    "type(liste[0])"
   ]
  },
  {
   "cell_type": "code",
   "execution_count": null,
   "id": "875563ac-c025-4bb2-9428-cd725f461fac",
   "metadata": {
    "ExecuteTime": {
     "end_time": "2024-02-27T21:15:12.094328042Z",
     "start_time": "2024-02-27T21:15:11.994848037Z"
    }
   },
   "outputs": [],
   "source": [
    "liste[0:1] # -> eine neue Liste mit dem ersten Element"
   ]
  },
  {
   "cell_type": "code",
   "execution_count": null,
   "id": "8339d49f-7826-4b8a-b8e8-dabcf56e664c",
   "metadata": {
    "ExecuteTime": {
     "end_time": "2024-02-27T21:15:12.317221448Z",
     "start_time": "2024-02-27T21:15:12.089417886Z"
    }
   },
   "outputs": [],
   "source": [
    "type(liste[0:0])"
   ]
  },
  {
   "cell_type": "code",
   "execution_count": null,
   "id": "6f0da38e-f477-4bea-b278-44fc4319a0a7",
   "metadata": {
    "ExecuteTime": {
     "end_time": "2024-02-27T21:15:12.370971080Z",
     "start_time": "2024-02-27T21:15:12.270074723Z"
    }
   },
   "outputs": [],
   "source": [
    "type(liste[0])"
   ]
  },
  {
   "cell_type": "code",
   "execution_count": null,
   "id": "66374ad0-3711-4671-be6e-5998a7aed6b9",
   "metadata": {
    "ExecuteTime": {
     "end_time": "2024-02-27T21:15:12.525532460Z",
     "start_time": "2024-02-27T21:15:12.367808624Z"
    }
   },
   "outputs": [],
   "source": [
    "len(liste) # Anzahl der Elemente"
   ]
  },
  {
   "cell_type": "code",
   "execution_count": null,
   "id": "dc9848ba-187e-47fd-8f01-bd71c5059cb6",
   "metadata": {
    "ExecuteTime": {
     "end_time": "2024-02-27T21:15:12.582316185Z",
     "start_time": "2024-02-27T21:15:12.496302435Z"
    }
   },
   "outputs": [],
   "source": [
    "# Listen können auch andere Listen enthalten\n",
    "andereListe = [10, [20, 30], 40, 50, [60, 70, 80]]\n",
    "len(andereListe)"
   ]
  },
  {
   "cell_type": "code",
   "execution_count": null,
   "id": "aff40b06-211f-412f-ae25-75bbe86a5dd8",
   "metadata": {},
   "outputs": [],
   "source": [
    "andereListe[4]"
   ]
  },
  {
   "cell_type": "code",
   "execution_count": null,
   "id": "d5db11ea-8fa6-4aaf-bfa3-50f844bc078f",
   "metadata": {},
   "outputs": [],
   "source": [
    "len(andereListe[4])"
   ]
  },
  {
   "cell_type": "code",
   "execution_count": null,
   "id": "3fb629a4-2eaa-4377-a07a-532a7aee4341",
   "metadata": {},
   "outputs": [],
   "source": [
    "# Elemente können einfach verändert werden\n",
    "liste = ['htl', 'donaustadt', 1220, 'Wien' ]\n",
    "liste[0] = liste[0].upper()\n",
    "liste[3] = \"Vienna\"\n",
    "liste"
   ]
  },
  {
   "cell_type": "markdown",
   "id": "783d8d23-8edb-4ea0-9cc7-80a581e74aaf",
   "metadata": {},
   "source": [
    "## Überprüfen ob ein Element in der Liste enthalten ist\n",
    "Entspricht *Contains* in C'."
   ]
  },
  {
   "cell_type": "code",
   "execution_count": null,
   "id": "b1e02992-cf46-4470-95f9-f305aacecb4a",
   "metadata": {},
   "outputs": [],
   "source": [
    "print(1220 in liste)"
   ]
  },
  {
   "cell_type": "code",
   "execution_count": null,
   "id": "66ccf280-dcfe-40a6-a317-21308f4e3aae",
   "metadata": {
    "scrolled": true
   },
   "outputs": [],
   "source": [
    "print('42' in liste)"
   ]
  },
  {
   "cell_type": "markdown",
   "id": "14a61de6-7cd8-498d-a773-38e190944dc6",
   "metadata": {},
   "source": [
    "## Hinzufügen von Elementen zu einer Liste\n",
    "- `append`: Hängt ein Element an eine Liste an.\n",
    "- `extend` und `+=`: Fügt mehrere Elemente an die Liste an.\n",
    "- `insert`: Fügt ein Element an einer bestimmten Position in die Liste ein."
   ]
  },
  {
   "cell_type": "code",
   "execution_count": null,
   "id": "f4f443e0-ccee-464d-869b-8d8d0d94b2fb",
   "metadata": {},
   "outputs": [],
   "source": [
    "liste = ['htl', 'donaustadt', 1220, 'Wien' ]\n",
    "liste"
   ]
  },
  {
   "cell_type": "code",
   "execution_count": null,
   "id": "d3394d12-52d8-44e2-8398-8e9eb99e78bc",
   "metadata": {
    "ExecuteTime": {
     "end_time": "2024-02-27T21:15:12.757742230Z",
     "start_time": "2024-02-27T21:15:12.578558699Z"
    }
   },
   "outputs": [],
   "source": [
    "# Anhängen eines Element\n",
    "liste.append('Austria')\n",
    "liste"
   ]
  },
  {
   "cell_type": "code",
   "execution_count": null,
   "id": "f2f8a445-8413-4e95-a24e-c51e7c74f4e6",
   "metadata": {},
   "outputs": [],
   "source": [
    "# Anhängen mehrere Elemente\n",
    "liste.extend([10, 'zwanzig', 30])\n",
    "liste"
   ]
  },
  {
   "cell_type": "code",
   "execution_count": null,
   "id": "ed4ce922-b8e0-4538-9af5-3e208812cc09",
   "metadata": {
    "ExecuteTime": {
     "end_time": "2024-02-27T21:15:12.816397887Z",
     "start_time": "2024-02-27T21:15:12.725663255Z"
    }
   },
   "outputs": [],
   "source": [
    "# Einfügen eines Elements an einer beliebigen Stelle\n",
    "# Einfügen eines Elements am Beginn\n",
    "liste.insert(0, \"Hallo\")\n",
    "print(liste)"
   ]
  },
  {
   "cell_type": "code",
   "execution_count": null,
   "id": "8be88e4c-02e9-475b-956b-e120764db479",
   "metadata": {
    "ExecuteTime": {
     "end_time": "2024-02-27T21:15:13.089469951Z",
     "start_time": "2024-02-27T21:15:12.915096230Z"
    }
   },
   "outputs": [],
   "source": [
    "# Einfügen eines Elements an einer beliebigen Stelle\n",
    "liste.insert(3,'Vienna')\n",
    "print(liste)"
   ]
  },
  {
   "cell_type": "markdown",
   "id": "d08b13e8-09d3-423d-8d82-d095c2b7ed01",
   "metadata": {},
   "source": [
    "## Löschen von Elementen aus einer Liste\n",
    "- `remove`: Entfernen des ersten Vorkommens. Das Element **MUSS** enthalten sein!\n",
    "- `pop`: Entfernen an einer bestimmten Stelle über den Index."
   ]
  },
  {
   "cell_type": "code",
   "execution_count": null,
   "id": "031eceae-ac52-45d7-82cc-fc258849491b",
   "metadata": {
    "ExecuteTime": {
     "end_time": "2024-02-27T21:15:13.435958623Z",
     "start_time": "2024-02-27T21:15:13.197614355Z"
    }
   },
   "outputs": [],
   "source": [
    "# Entfernen eines bestimmten Elements (nur das erste Vorkommen)\n",
    "liste.remove('Vienna')\n",
    "print(liste)"
   ]
  },
  {
   "cell_type": "markdown",
   "id": "da0e08e3-b930-4c00-a064-36f5a7e94e4f",
   "metadata": {
    "ExecuteTime": {
     "end_time": "2024-02-27T21:15:13.435958623Z",
     "start_time": "2024-02-27T21:15:13.197614355Z"
    }
   },
   "source": [
    "**ACHTUNG bei remove!!!**"
   ]
  },
  {
   "cell_type": "code",
   "execution_count": null,
   "id": "3a3626dc-6f4f-473b-bc7a-218b27cb6948",
   "metadata": {
    "ExecuteTime": {
     "end_time": "2024-02-27T21:15:13.435958623Z",
     "start_time": "2024-02-27T21:15:13.197614355Z"
    }
   },
   "outputs": [],
   "source": [
    "# Falls das Element nicht enthalten ist, wird ein ValueError ausgelöst!!!\n",
    "liste.remove('Amsterdam')\n",
    "liste"
   ]
  },
  {
   "cell_type": "code",
   "execution_count": null,
   "id": "f345ee60-0b52-41e5-a500-f119b2f16cac",
   "metadata": {
    "ExecuteTime": {
     "end_time": "2024-02-27T21:15:13.435958623Z",
     "start_time": "2024-02-27T21:15:13.197614355Z"
    }
   },
   "outputs": [],
   "source": [
    "# Daher vorher immer kontrollieren, ob das Element überhaupt enthalten ist.\n",
    "if 'Amsterdam' in liste:\n",
    "    liste.remove('Amsterdam')\n",
    "    \n",
    "liste"
   ]
  },
  {
   "cell_type": "code",
   "execution_count": null,
   "id": "9c308a9c-903b-4c18-82a6-86bab661fc07",
   "metadata": {
    "ExecuteTime": {
     "end_time": "2024-02-27T21:15:13.488466884Z",
     "start_time": "2024-02-27T21:15:13.408989763Z"
    }
   },
   "outputs": [],
   "source": [
    "# Entfernen eines Elements an einem bestimmten Index\n",
    "# Variante 1 (ist üblich)\n",
    "element = liste.pop(1)\n",
    "print(liste)\n",
    "print(element)"
   ]
  },
  {
   "cell_type": "code",
   "execution_count": null,
   "id": "6cceecaf-7ce5-403b-a9d8-61b4ccb79a74",
   "metadata": {
    "ExecuteTime": {
     "end_time": "2024-02-27T21:15:13.608252773Z",
     "start_time": "2024-02-27T21:15:13.485314227Z"
    }
   },
   "outputs": [],
   "source": [
    "# Entfernen eines Elements an einem bestimmten Index\n",
    "del liste[1]\n",
    "liste"
   ]
  },
  {
   "cell_type": "code",
   "execution_count": null,
   "id": "6bf50cc4-28af-491b-aaec-9ffeed486587",
   "metadata": {
    "ExecuteTime": {
     "end_time": "2024-02-27T21:15:13.608252773Z",
     "start_time": "2024-02-27T21:15:13.485314227Z"
    }
   },
   "outputs": [],
   "source": [
    "# Alle Elemente löschen\n",
    "liste.clear()\n",
    "liste"
   ]
  },
  {
   "cell_type": "markdown",
   "id": "230aec94-abd3-4898-9f9e-bf0ca4dbfe5d",
   "metadata": {},
   "source": [
    "## Durchlaufen einer Liste"
   ]
  },
  {
   "cell_type": "markdown",
   "id": "5df6debd-d617-41ea-b5b1-d7dc1f95da55",
   "metadata": {},
   "source": [
    "### Durchlaufen durch alle Elemente aka \"foreach\"-Schleife\n",
    "In Python wird es als for-Schleife bezeichnet. *foreach* sagen nur C#- und Java-Programmier:innen. 😉"
   ]
  },
  {
   "cell_type": "code",
   "execution_count": null,
   "id": "ba7b6d97-7d96-4da3-b62e-8f3fda4a5693",
   "metadata": {},
   "outputs": [],
   "source": [
    "namen = [\"Anna\", \"Ben\", \"Clara\", \"David\", \"Eva\"]\n",
    "\n",
    "for name in namen:\n",
    "    print('Hallo', name)"
   ]
  },
  {
   "cell_type": "markdown",
   "id": "0de91332-b8ad-49b1-a639-0871c1000900",
   "metadata": {},
   "source": [
    "### for-Schleife über einen Range\n",
    "Ist in Python unüblich.\\\n",
    "Da ein Range eine Sequenz von Zahlen ist, ist es in Python eine ebenfalls eine *foreach*-Schleife über alle Indices\n",
    "ähnelt einer for-Schleife in C# und Java."
   ]
  },
  {
   "cell_type": "code",
   "execution_count": null,
   "id": "6a07ef18-a4b7-4585-9c5e-bf0213d36e6c",
   "metadata": {},
   "outputs": [],
   "source": [
    "for index in range(len(namen)):\n",
    "    print('Hallo', namen[index])"
   ]
  },
  {
   "cell_type": "markdown",
   "id": "9676504c-62da-40fe-a7e2-09c2d5ebd8d0",
   "metadata": {},
   "source": [
    "### List Comprehension\n",
    "List Comprehension ist eine kompakte und ausdrucksstarke Methode in Python, um Listen zu erstellen. Sie ermöglicht es, eine neue Liste zu erzeugen, indem man eine bestehende Liste oder andere Sequenzen durchläuft und optional Filterbedingungen anwendet. Dies erfolgt alles in einer einzigen, leicht lesbaren Zeile."
   ]
  },
  {
   "cell_type": "code",
   "execution_count": null,
   "id": "eddf4cd5-804b-4f4a-9559-cf6322288a9f",
   "metadata": {},
   "outputs": [],
   "source": [
    "zahlen = list(range(10))\n",
    "print(zahlen)\n",
    "\n",
    "# List Comprehension mit einem if-Statement\n",
    "quadratVonGerade = [zahl*zahl for zahl in zahlen if zahl % 2 == 0]\n",
    "\n",
    "print(quadratVonGerade)"
   ]
  },
  {
   "cell_type": "markdown",
   "id": "870e27ed-ee9d-4bbc-b5c4-e2359c750617",
   "metadata": {},
   "source": [
    "# `set`  \n",
    "Sets (Mengen): Eine ungeordnete Sammlung von eindeutigen Elementen, die veränderbar ist.\\\n",
    "Indexzugriffe werden in Sets nicht unterstützt!\\\n",
    "In C# entspricht das einem *HashSet<>*"
   ]
  },
  {
   "cell_type": "markdown",
   "id": "852407c8-d478-4d5a-9d7c-8c69efaba0a6",
   "metadata": {},
   "source": [
    "## Anlegen eines Sets\n",
    "* `{}`: Die Elemente in den Klammern.\n",
    "* `set`: Übergabe einer Liste. Entspricht einem Konstruktoraufruf."
   ]
  },
  {
   "cell_type": "code",
   "execution_count": null,
   "id": "2abb63a8-3dd0-43e6-bb51-6b6a80d231ac",
   "metadata": {
    "ExecuteTime": {
     "end_time": "2024-02-27T21:15:11.436544795Z",
     "start_time": "2024-02-27T21:15:11.285320089Z"
    }
   },
   "outputs": [],
   "source": [
    "# Mit {} und allen Elementen.\n",
    "# doppelte Werte werden automatisch entfernt\n",
    "menge = {10, 20, 'Anna', 'Anna', 'Niklas', 20, True}\n",
    "menge"
   ]
  },
  {
   "cell_type": "code",
   "execution_count": null,
   "id": "853c8ea4-4fe5-47cd-bcf2-4ca8001f75dd",
   "metadata": {
    "ExecuteTime": {
     "end_time": "2024-02-27T21:15:11.690952787Z",
     "start_time": "2024-02-27T21:15:11.604365254Z"
    }
   },
   "outputs": [],
   "source": [
    "# Mit set() und einer Liste mit allen Elementen.\n",
    "# doppelte Werte werden auch hier automatisch entfernt\n",
    "menge2 = set([10, 20, 'Anna', 'Anna', 'Niklas', 20, True])\n",
    "menge2"
   ]
  },
  {
   "cell_type": "code",
   "execution_count": null,
   "id": "7ce1084f-f67e-4abd-b351-e4ca8af9fdb1",
   "metadata": {
    "ExecuteTime": {
     "end_time": "2024-02-27T21:15:11.812073586Z",
     "start_time": "2024-02-27T21:15:11.682229605Z"
    }
   },
   "outputs": [],
   "source": [
    "type(menge)"
   ]
  },
  {
   "cell_type": "markdown",
   "id": "78974676-8b90-4e46-8987-0287bedb9ab1",
   "metadata": {},
   "source": [
    "## Überprüfen ob ein Element im Set enthalten ist\n",
    "Entspricht *Contains* in C'."
   ]
  },
  {
   "cell_type": "code",
   "execution_count": null,
   "id": "2997e7c7-c467-469f-9493-ac00250c1e58",
   "metadata": {},
   "outputs": [],
   "source": [
    "print('Anna' in menge)"
   ]
  },
  {
   "cell_type": "code",
   "execution_count": null,
   "id": "b58e693b-7ec8-456e-b41f-e772fda85c7a",
   "metadata": {
    "scrolled": true
   },
   "outputs": [],
   "source": [
    "print('42' in menge)"
   ]
  },
  {
   "cell_type": "markdown",
   "id": "4fe2b934-79ea-4e31-b3d2-b723a758734c",
   "metadata": {},
   "source": [
    "## Hinzufügen von Elementen zu einem Set\n",
    "- `add`: Hinzufügen eines Elements. Das Element wird nur hinzugefügt, wenn es nicht schon im Set enthalten ist.\n",
    "- `update`: Hinzufügen von mehreren Elementen."
   ]
  },
  {
   "cell_type": "code",
   "execution_count": null,
   "id": "731d8bfe-44ad-4dea-a556-f9fac39300d6",
   "metadata": {
    "ExecuteTime": {
     "end_time": "2024-02-27T21:15:12.757742230Z",
     "start_time": "2024-02-27T21:15:12.578558699Z"
    }
   },
   "outputs": [],
   "source": [
    "# Hinzufügen eines Elements, das noch nicht im Set enthalten ist.\n",
    "menge.add('Austria')\n",
    "menge"
   ]
  },
  {
   "cell_type": "code",
   "execution_count": null,
   "id": "4ddcb4e7-4388-4ab2-9350-aee30937a5b9",
   "metadata": {
    "ExecuteTime": {
     "end_time": "2024-02-27T21:15:12.757742230Z",
     "start_time": "2024-02-27T21:15:12.578558699Z"
    }
   },
   "outputs": [],
   "source": [
    "# Das erneute Hinzufügen ändert das Set nicht.\n",
    "menge.add('Austria')\n",
    "menge"
   ]
  },
  {
   "cell_type": "markdown",
   "id": "70c385a3-3996-4855-b1ee-737caafaf83f",
   "metadata": {},
   "source": [
    "## Löschen aus einem Set\n",
    "- `remove`: Entfernt das Element. Fehler falls das Element im Set nicht enthalten ist.\n",
    "- `discard`: Entfernt das Element. Kein Fehler, falls das Element nicht enthalten ist. Entspricht *Remove* in C#.\n",
    "- `pop`: Entfernt an einer bestimmten Stelle über den Index.\n",
    "- `clear`: Löscht alle Elemente eines Sets."
   ]
  },
  {
   "cell_type": "code",
   "execution_count": null,
   "id": "5116c22f-6f92-419a-8f24-1f842dde7c06",
   "metadata": {
    "ExecuteTime": {
     "end_time": "2024-02-27T21:15:13.435958623Z",
     "start_time": "2024-02-27T21:15:13.197614355Z"
    }
   },
   "outputs": [],
   "source": [
    "menge.remove('Anna')\n",
    "menge"
   ]
  },
  {
   "cell_type": "markdown",
   "id": "2d156e5f-6839-4ce3-822a-938dfec7b67f",
   "metadata": {
    "ExecuteTime": {
     "end_time": "2024-02-27T21:15:13.435958623Z",
     "start_time": "2024-02-27T21:15:13.197614355Z"
    }
   },
   "source": [
    "**ACHTUNG bei remove!!!**"
   ]
  },
  {
   "cell_type": "code",
   "execution_count": null,
   "id": "151062a0-2a2b-46e1-94ab-28f0d10bf134",
   "metadata": {
    "ExecuteTime": {
     "end_time": "2024-02-27T21:15:13.435958623Z",
     "start_time": "2024-02-27T21:15:13.197614355Z"
    }
   },
   "outputs": [],
   "source": [
    "# Falls das Element nicht enthalten ist, wird ein ValueError ausgelöst!!!\n",
    "menge.remove('XXXX')\n",
    "menge"
   ]
  },
  {
   "cell_type": "code",
   "execution_count": null,
   "id": "e75742ec-b6c2-49d5-b690-64f939226307",
   "metadata": {
    "ExecuteTime": {
     "end_time": "2024-02-27T21:15:13.435958623Z",
     "start_time": "2024-02-27T21:15:13.197614355Z"
    }
   },
   "outputs": [],
   "source": [
    "# Daher vorher immer kontrollieren, ob das Element überhaupt enthalten ist.\n",
    "if 'XXXX' in menge:\n",
    "    menge.remove('XXXX')\n",
    "    \n",
    "menge"
   ]
  },
  {
   "cell_type": "code",
   "execution_count": null,
   "id": "e2650563-62d8-4e14-b6b9-6c7f0d8cd894",
   "metadata": {
    "ExecuteTime": {
     "end_time": "2024-02-27T21:15:13.435958623Z",
     "start_time": "2024-02-27T21:15:13.197614355Z"
    }
   },
   "outputs": [],
   "source": [
    "# Bei discard muss man nicht kontrollieren, ob das Element überhaupt enthalten ist.\n",
    "menge.discard('XXXX')\n",
    "    \n",
    "menge"
   ]
  },
  {
   "cell_type": "code",
   "execution_count": null,
   "id": "25f7c44b-1173-42af-8358-2b09fb3a7a36",
   "metadata": {
    "ExecuteTime": {
     "end_time": "2024-02-27T21:15:13.488466884Z",
     "start_time": "2024-02-27T21:15:13.408989763Z"
    }
   },
   "outputs": [],
   "source": [
    "# pop() gibt ein zufälliges Element zurück. \n",
    "element = menge.pop()\n",
    "print(element,'wurde entfernt ->', menge)"
   ]
  },
  {
   "cell_type": "code",
   "execution_count": null,
   "id": "124ea9de-8ab2-4e7d-bc11-c68043c88cc1",
   "metadata": {
    "ExecuteTime": {
     "end_time": "2024-02-27T21:15:13.488466884Z",
     "start_time": "2024-02-27T21:15:13.408989763Z"
    }
   },
   "outputs": [],
   "source": [
    "# pop() gibt ein zufälliges Element zurück. \n",
    "element = menge.pop()\n",
    "print(element,'wurde entfernt ->', menge)"
   ]
  },
  {
   "cell_type": "code",
   "execution_count": null,
   "id": "25968b4d-b62c-4eaf-a8e8-1d8cbca54131",
   "metadata": {
    "ExecuteTime": {
     "end_time": "2024-02-27T21:15:13.488466884Z",
     "start_time": "2024-02-27T21:15:13.408989763Z"
    }
   },
   "outputs": [],
   "source": [
    "# pop() gibt ein zufälliges Element zurück. \n",
    "element = menge.pop()\n",
    "print(element,'wurde entfernt ->', menge)"
   ]
  },
  {
   "cell_type": "code",
   "execution_count": null,
   "id": "21ea2aca-ad2c-4d13-94a8-ef5209f6f66c",
   "metadata": {
    "ExecuteTime": {
     "end_time": "2024-02-27T21:15:13.608252773Z",
     "start_time": "2024-02-27T21:15:13.485314227Z"
    }
   },
   "outputs": [],
   "source": [
    "# Alle Elemente löschen\n",
    "menge.clear()\n",
    "menge"
   ]
  },
  {
   "cell_type": "markdown",
   "id": "9157579d-94ee-40e0-bd16-c1fc284a97f7",
   "metadata": {},
   "source": [
    "## Durchlaufen eines Sets"
   ]
  },
  {
   "cell_type": "code",
   "execution_count": null,
   "id": "4cd42229-17dd-417f-916d-c779fb848dc7",
   "metadata": {},
   "outputs": [],
   "source": [
    "namen = {\"Anna\", \"Ben\", \"Clara\", \"David\", \"Eva\"}\n",
    "\n",
    "for name in namen:\n",
    "    print('Hallo', name)"
   ]
  },
  {
   "cell_type": "markdown",
   "id": "e236498f-a790-4358-86de-e4611833e90c",
   "metadata": {},
   "source": [
    "# `dict`  \n",
    "Dictionaries: Eine unsortierte Sammlung von Key-Value-Pairs. \\\n",
    "Zugriffe erfolgen immer über den Key!\\\n",
    "In C# entspricht das einem *Dictionary<,>*"
   ]
  },
  {
   "cell_type": "markdown",
   "id": "71a64a2d-38cf-4303-8c02-88152d9b05fa",
   "metadata": {},
   "source": [
    "## Anlegen eines Dictionaries\n",
    "* `{}`: Die Key-Value-Pairs in den Klammern angeben.\n",
    "* `dict`:\n",
    "    * Übergabe von Zuweisungen von *key* = *value*\n",
    "    * Übergabe einer Liste von Tuplen."
   ]
  },
  {
   "cell_type": "code",
   "execution_count": null,
   "id": "971632bf-6eec-4d22-a85a-c6178a9d8644",
   "metadata": {
    "ExecuteTime": {
     "end_time": "2024-02-27T21:15:11.436544795Z",
     "start_time": "2024-02-27T21:15:11.285320089Z"
    }
   },
   "outputs": [],
   "source": [
    "# Mit {} und allen 'key: value'-Pairs\n",
    "dic = {\n",
    "    \"name\": \"Alice\",\n",
    "    \"alter\": 18,\n",
    "    \"stadt\": \"Graz\"\n",
    "}\n",
    "print(dic)"
   ]
  },
  {
   "cell_type": "code",
   "execution_count": null,
   "id": "e5eb626e-15fa-4089-aaa0-a6913f646b30",
   "metadata": {
    "ExecuteTime": {
     "end_time": "2024-02-27T21:15:11.436544795Z",
     "start_time": "2024-02-27T21:15:11.285320089Z"
    }
   },
   "outputs": [],
   "source": [
    "# doppelte Keys werden automatisch überschrieben!\n",
    "# Beispiel: Alice ist am Ende 20 Jahre alt.\n",
    "dic = {\n",
    "    \"name\": \"Alice\",\n",
    "    \"alter\": 18,\n",
    "    \"stadt\": \"Graz\",\n",
    "    \"alter\": 20\n",
    "}\n",
    "print(dic)"
   ]
  },
  {
   "cell_type": "code",
   "execution_count": null,
   "id": "3c764f70-6376-4cf0-ba3d-4877311867e0",
   "metadata": {
    "ExecuteTime": {
     "end_time": "2024-02-27T21:15:11.690952787Z",
     "start_time": "2024-02-27T21:15:11.604365254Z"
    }
   },
   "outputs": [],
   "source": [
    "# Mit dict() und allen Zuweisungen von 'key=value'\n",
    "dic = dict(name=\"Charlie\", alter=16, stadt=\"München\")\n",
    "dic"
   ]
  },
  {
   "cell_type": "code",
   "execution_count": null,
   "id": "79f36ddf-000b-42e3-bb94-713da54f9caa",
   "metadata": {
    "ExecuteTime": {
     "end_time": "2024-02-27T21:15:11.690952787Z",
     "start_time": "2024-02-27T21:15:11.604365254Z"
    }
   },
   "outputs": [],
   "source": [
    "# Mit dict() und einer Liste von Tupeln.\n",
    "paare = [(\"name\", \"Dana\"), (\"alter\", 19), (\"stadt\", \"Salzburg\")]\n",
    "dic=dict(paare)\n",
    "dic"
   ]
  },
  {
   "cell_type": "code",
   "execution_count": null,
   "id": "95d6db74-7e17-4562-a2f0-f6ac7220e0a0",
   "metadata": {
    "ExecuteTime": {
     "end_time": "2024-02-27T21:15:11.812073586Z",
     "start_time": "2024-02-27T21:15:11.682229605Z"
    }
   },
   "outputs": [],
   "source": [
    "type(dic)"
   ]
  },
  {
   "cell_type": "code",
   "execution_count": null,
   "id": "c99d3fa4-7a82-47c2-afa5-c2179a060253",
   "metadata": {
    "ExecuteTime": {
     "end_time": "2024-02-27T21:15:11.812073586Z",
     "start_time": "2024-02-27T21:15:11.682229605Z"
    }
   },
   "outputs": [],
   "source": [
    "# Ausgabe aller Key-Value-Pairs als Tuples\n",
    "dic.items() "
   ]
  },
  {
   "cell_type": "code",
   "execution_count": null,
   "id": "c9005111-139e-425a-aab6-d47b8445e436",
   "metadata": {
    "ExecuteTime": {
     "end_time": "2024-02-27T21:15:11.812073586Z",
     "start_time": "2024-02-27T21:15:11.682229605Z"
    }
   },
   "outputs": [],
   "source": [
    "# Die Keys müssen nicht unbedingt String sein!\n",
    "# Der Key muss einen hashbaren immutable (unveränderen) Datentypen haben, das sind: *int*, *float*, *str*, *tuple* und *bool*.\n",
    "# Values können alle Datentypen haben.\n",
    "funny = {\n",
    "    12: True,\n",
    "    \"languages\": ['Deutsch', 'Englisch', 'Türkisch'],\n",
    "    (2,5): 10 # Key ist tuple\n",
    "}\n",
    "funny"
   ]
  },
  {
   "cell_type": "markdown",
   "id": "1127d9a3-e4b1-49bf-b91e-3970c7c52b5c",
   "metadata": {},
   "source": [
    "## Überprüfen ob ein Key im Dictionary enthalten ist\n",
    "Entspricht *ContainsKey* in C'."
   ]
  },
  {
   "cell_type": "code",
   "execution_count": null,
   "id": "e866ef62-c182-4c89-881b-229b547edc82",
   "metadata": {},
   "outputs": [],
   "source": [
    "dic = {'name': 'Dana', 'alter': 19, 'stadt': 'Salzburg'}\n",
    "print('name' in dic)"
   ]
  },
  {
   "cell_type": "code",
   "execution_count": null,
   "id": "a4b27816-410f-412a-b2ee-333095de1f96",
   "metadata": {
    "scrolled": true
   },
   "outputs": [],
   "source": [
    "print('XXX' in dic)"
   ]
  },
  {
   "cell_type": "markdown",
   "id": "b9884851-cb1a-477e-89df-fda44da04485",
   "metadata": {},
   "source": [
    "## Hinzufügen von Einträgen zu einem Dictionary\n",
    "- `[]`: Hinzufügen oder aktualisieren eines Key-Value-Pairs.\n",
    "- `update`: Hinzufügen von mehreren Key-Value-Pairs."
   ]
  },
  {
   "cell_type": "code",
   "execution_count": null,
   "id": "ba07b0dd-eca0-42ec-982b-70bafd699efa",
   "metadata": {
    "ExecuteTime": {
     "end_time": "2024-02-27T21:15:12.757742230Z",
     "start_time": "2024-02-27T21:15:12.578558699Z"
    }
   },
   "outputs": [],
   "source": [
    "# Alle Daten einer Person in einem Dictionary anlegen\n",
    "person = {\n",
    "    \"name\": \"Alice\",\n",
    "    \"alter\": 18,\n",
    "    \"stadt\": \"Graz\"\n",
    "}\n",
    "print(person)"
   ]
  },
  {
   "cell_type": "code",
   "execution_count": null,
   "id": "01d29498-84b8-4bf8-b633-2345d6cf8a1b",
   "metadata": {
    "ExecuteTime": {
     "end_time": "2024-02-27T21:15:12.757742230Z",
     "start_time": "2024-02-27T21:15:12.578558699Z"
    }
   },
   "outputs": [],
   "source": [
    "# Ein neues Key-Value-Pair hinzufügen\n",
    "person[\"nachname\"] = \"Kowarik\"\n",
    "print(person)"
   ]
  },
  {
   "cell_type": "code",
   "execution_count": null,
   "id": "4fb2e216-0774-40dc-8bd3-52ff0da0798e",
   "metadata": {
    "ExecuteTime": {
     "end_time": "2024-02-27T21:15:12.757742230Z",
     "start_time": "2024-02-27T21:15:12.578558699Z"
    }
   },
   "outputs": [],
   "source": [
    "# Einen vorhandenen Key aktualisieren\n",
    "person[\"alter\"] = 19\n",
    "print(person)"
   ]
  },
  {
   "cell_type": "code",
   "execution_count": null,
   "id": "77e68c1f-19ca-49e2-a78d-b7b74c7766fe",
   "metadata": {
    "ExecuteTime": {
     "end_time": "2024-02-27T21:15:12.757742230Z",
     "start_time": "2024-02-27T21:15:12.578558699Z"
    }
   },
   "outputs": [],
   "source": [
    "# Ein weiteres Dictionary hinzufügen\n",
    "person.update({\"bundesland\": \"Steiermark\", \"beruf\": \"Ingenieurin\"})\n",
    "print(person)"
   ]
  },
  {
   "cell_type": "markdown",
   "id": "27e925c0-da5e-4f2a-acc0-e80eed03afdd",
   "metadata": {},
   "source": [
    "## Löschen aus einem Dictionary\n",
    "- `del`: Entfernt das Key-Value-Pair, falls der Key im Dictionary enthalten ist. Fehler falls der Key im Dictionary nicht enthalten ist.\n",
    "- `pop`: Entfernen eines Key-Value-Pairs und die Rückgabe des Values.\n",
    "- `popitem`: Entfernt das zuletzt hinzugefügte Key-Value-Pair und gibt es als Tuple zurück.\\\n",
    "   **Anmerkung:** Seit Python 3.7 sind die Keys in einem Dictionary entsprechend der Einfügereihenfolge sortiert.\n",
    "- `clear`: Löscht alle Key-Value-Pairs aus dem Dictionary"
   ]
  },
  {
   "cell_type": "code",
   "execution_count": null,
   "id": "3071985c-1afe-4b24-a733-80e56a98cead",
   "metadata": {
    "ExecuteTime": {
     "end_time": "2024-02-27T21:15:13.435958623Z",
     "start_time": "2024-02-27T21:15:13.197614355Z"
    }
   },
   "outputs": [],
   "source": [
    "person = {'name': 'Alice', \n",
    "          'alter': 19, \n",
    "          'stadt': 'Graz', \n",
    "          'nachname': 'Kowarik', \n",
    "          'bundesland': 'Steiermark', \n",
    "          'beruf': 'Ingenieurin'}\n",
    "\n",
    "del person[\"bundesland\"]\n",
    "person"
   ]
  },
  {
   "cell_type": "code",
   "execution_count": null,
   "id": "34294a25-9596-4c43-9b2a-bc96fc62e0fc",
   "metadata": {
    "ExecuteTime": {
     "end_time": "2024-02-27T21:15:13.488466884Z",
     "start_time": "2024-02-27T21:15:13.408989763Z"
    }
   },
   "outputs": [],
   "source": [
    "# pop() gibt den Value für einen Key zurück und löscht das Key-Value-Pair aus dem Dictionary\n",
    "value = person.pop(\"stadt\")\n",
    "print(f'stadt->{value} wurde entfernt -> {person}')"
   ]
  },
  {
   "cell_type": "markdown",
   "id": "c017854e-f4b6-4e40-bc51-44de9cd71c10",
   "metadata": {
    "ExecuteTime": {
     "end_time": "2024-02-27T21:15:13.435958623Z",
     "start_time": "2024-02-27T21:15:13.197614355Z"
    }
   },
   "source": [
    "**ACHTUNG bei del und pop falls der Schlüssel nicht existiert!!!**"
   ]
  },
  {
   "cell_type": "code",
   "execution_count": null,
   "id": "d9d0036c-8e9b-4681-a577-121f4aac7f94",
   "metadata": {
    "ExecuteTime": {
     "end_time": "2024-02-27T21:15:13.435958623Z",
     "start_time": "2024-02-27T21:15:13.197614355Z"
    }
   },
   "outputs": [],
   "source": [
    "# Falls der Key nicht enthalten ist, wird ein KeyError ausgelöst!!!\n",
    "person.pop('XXXX')\n",
    "person"
   ]
  },
  {
   "cell_type": "code",
   "execution_count": null,
   "id": "67d29a13-9b27-44c6-aeec-393c272eaeed",
   "metadata": {
    "ExecuteTime": {
     "end_time": "2024-02-27T21:15:13.435958623Z",
     "start_time": "2024-02-27T21:15:13.197614355Z"
    }
   },
   "outputs": [],
   "source": [
    "# Daher vorher immer kontrollieren, ob der Key überhaupt im Dictionary enthalten ist.\n",
    "if 'XXXX' in person:\n",
    "    person.pop('XXXX')\n",
    "    \n",
    "person"
   ]
  },
  {
   "cell_type": "code",
   "execution_count": null,
   "id": "cdb716b1-a8a7-4752-ad9a-bbcbbecd21b9",
   "metadata": {
    "ExecuteTime": {
     "end_time": "2024-02-27T21:15:13.488466884Z",
     "start_time": "2024-02-27T21:15:13.408989763Z"
    }
   },
   "outputs": [],
   "source": [
    "# popitem() gibt das zuletzt hinzugefügte Key-Value-Pair als Tuple zurück. (Nur ab Python 3.7)\n",
    "dic = { \"marke\": \"BMW\", \"leistung\": 110, \"baujahr\": 2016 }\n",
    "dic[\"treibstoff\"] = \"Benzin\"\n",
    "\n",
    "print(dic)"
   ]
  },
  {
   "cell_type": "code",
   "execution_count": null,
   "id": "cabdfd45-fcea-4c11-ac5f-7faabff1ca77",
   "metadata": {
    "ExecuteTime": {
     "end_time": "2024-02-27T21:15:13.488466884Z",
     "start_time": "2024-02-27T21:15:13.408989763Z"
    }
   },
   "outputs": [],
   "source": [
    "last = dic.popitem()\n",
    "print(last)\n",
    "print(dic)"
   ]
  },
  {
   "cell_type": "code",
   "execution_count": null,
   "id": "0c632143-59f2-4a84-a51d-d7a0fcc1073c",
   "metadata": {
    "ExecuteTime": {
     "end_time": "2024-02-27T21:15:13.488466884Z",
     "start_time": "2024-02-27T21:15:13.408989763Z"
    }
   },
   "outputs": [],
   "source": [
    "last = dic.popitem()\n",
    "print(last)\n",
    "print(dic)"
   ]
  },
  {
   "cell_type": "code",
   "execution_count": null,
   "id": "ddfaaff3-7e25-4ea3-8289-eae2522735b2",
   "metadata": {
    "ExecuteTime": {
     "end_time": "2024-02-27T21:15:13.488466884Z",
     "start_time": "2024-02-27T21:15:13.408989763Z"
    }
   },
   "outputs": [],
   "source": [
    "last = dic.popitem()\n",
    "print(last)\n",
    "print(dic)"
   ]
  },
  {
   "cell_type": "code",
   "execution_count": null,
   "id": "59a3aea7-215d-467b-925e-91747fa7f21e",
   "metadata": {
    "ExecuteTime": {
     "end_time": "2024-02-27T21:15:13.608252773Z",
     "start_time": "2024-02-27T21:15:13.485314227Z"
    }
   },
   "outputs": [],
   "source": [
    "# Alle Elemente löschen\n",
    "dic.clear()\n",
    "dic"
   ]
  },
  {
   "cell_type": "markdown",
   "id": "e5edc526-fb80-4012-9a07-39aef7617892",
   "metadata": {},
   "source": [
    "## Durchlaufen eines Dictionaries\n",
    "- `items`: Läuft duch alle Key-Value-Pairs (Tuples)\n",
    "- Durchlaufen der Keys: Auf den Value wird dann mit [] zugegriffen."
   ]
  },
  {
   "cell_type": "code",
   "execution_count": null,
   "id": "7f7b5f6b-5973-44ff-b598-b497630d4b14",
   "metadata": {},
   "outputs": [],
   "source": [
    "dic = { \"marke\": \"Audi\", \"leistung\": 180, \"baujahr\": 2020 }\n",
    "\n",
    "# mit items(): Gibt jedes Key-Value-Pair als Tuple zurück.\n",
    "for key,value in dic.items():\n",
    "    print(key,'->',value)"
   ]
  },
  {
   "cell_type": "code",
   "execution_count": null,
   "id": "32be0c05-2f51-475e-9fb4-22126dbbefd7",
   "metadata": {},
   "outputs": [],
   "source": [
    "# Durchlaufen der Keys: Der Zugriff auf den Value erfolgt mit []\n",
    "for key in dic:\n",
    "    print(key,'->',dic[key])"
   ]
  }
 ],
 "metadata": {
  "kernelspec": {
   "display_name": "Python 3 (ipykernel)",
   "language": "python",
   "name": "python3"
  },
  "language_info": {
   "codemirror_mode": {
    "name": "ipython",
    "version": 3
   },
   "file_extension": ".py",
   "mimetype": "text/x-python",
   "name": "python",
   "nbconvert_exporter": "python",
   "pygments_lexer": "ipython3",
   "version": "3.11.3"
  }
 },
 "nbformat": 4,
 "nbformat_minor": 5
}
