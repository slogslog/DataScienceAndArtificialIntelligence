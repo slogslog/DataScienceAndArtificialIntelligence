{
 "cells": [
  {
   "cell_type": "markdown",
   "id": "f5a0de9e9860a8be",
   "metadata": {},
   "source": [
    "# Loops\n",
    "Es gibt `for`und `while` Schleifen.\n",
    "- `for` wird verwendet, um eine Sequenz  zu durchlaufen. Sie wiederholt einen Codeblock für jedes Element in der Sequenz.\n",
    "- `while` wiederholt einen Block von Anweisungen solange eine bestimmte Bedingung wahr ist."
   ]
  },
  {
   "cell_type": "markdown",
   "id": "9ae1751c-1203-4011-b6e9-12b1f774b733",
   "metadata": {
    "ExecuteTime": {
     "end_time": "2024-08-13T06:27:06.933050Z",
     "start_time": "2024-08-13T06:27:06.920500Z"
    }
   },
   "source": [
    "## `for`-Schleife\n",
    "- um über eine Liste, ein Tupel, ein Dictionary, ein Set oder einen String zu iterieren.\n",
    "- um durch einen Zahlenbereich (Range) zu iterieren"
   ]
  },
  {
   "cell_type": "markdown",
   "id": "7fbc4ea1-5d53-4299-a013-47698f44da9c",
   "metadata": {},
   "source": [
    "### Durchlaufen einer Sequenz"
   ]
  },
  {
   "cell_type": "code",
   "execution_count": null,
   "id": "e266758c-05d4-45e1-8ea0-ebaf90db4b37",
   "metadata": {
    "ExecuteTime": {
     "end_time": "2024-02-27T21:15:11.436544795Z",
     "start_time": "2024-02-27T21:15:11.285320089Z"
    }
   },
   "outputs": [],
   "source": [
    "# Durchlaufen einer Liste\n",
    "fruechte = ['Apfel', 'Banane', 'Kirsche']\n",
    "\n",
    "for frucht in fruechte:\n",
    "    print(frucht)"
   ]
  },
  {
   "cell_type": "code",
   "execution_count": null,
   "id": "760e7943-eedb-4ed0-aa36-d952483b7575",
   "metadata": {
    "ExecuteTime": {
     "end_time": "2024-02-27T21:15:11.436544795Z",
     "start_time": "2024-02-27T21:15:11.285320089Z"
    }
   },
   "outputs": [],
   "source": [
    "# Durchlaufen eines Strings\n",
    "s = 'Palatschinke'\n",
    "\n",
    "for c in s:\n",
    "    print(c)"
   ]
  },
  {
   "cell_type": "markdown",
   "id": "2d70bbdb-e13d-4ba4-ad6d-e35e280eb33e",
   "metadata": {},
   "source": [
    "### Durchlaufen eines Zahlenbereichs (Range)\n",
    "Siehe auch das Jupyter Notebook über Ranges"
   ]
  },
  {
   "cell_type": "code",
   "execution_count": null,
   "id": "a000ff9f-017a-406a-956a-54d94aec5842",
   "metadata": {},
   "outputs": [],
   "source": [
    "# range(start,stop,step)`: von start, start+step, start+2*step, ... stop-1\n",
    "for i in range(10,30,3): # start, stop, step\n",
    "    print(i)"
   ]
  },
  {
   "cell_type": "markdown",
   "id": "83d4f457-074c-4ae5-9f65-fe32b840a303",
   "metadata": {
    "ExecuteTime": {
     "end_time": "2024-02-27T21:15:11.812073586Z",
     "start_time": "2024-02-27T21:15:11.682229605Z"
    }
   },
   "source": [
    "## `while`-Schleife\n",
    "Funktioniert völlig analog zu while-Schleifen in anderen Programmiersprachen wie C# oder Java"
   ]
  },
  {
   "cell_type": "code",
   "execution_count": null,
   "id": "283ff997-2fa0-46ff-bccb-a7355c55f713",
   "metadata": {},
   "outputs": [],
   "source": [
    "count = 0\n",
    "\n",
    "while count < 4:\n",
    "    print(count)\n",
    "    count += 1 # es gibt kein count++ in Python"
   ]
  },
  {
   "cell_type": "markdown",
   "id": "b8fc6c22-8d9e-4621-b397-94026b9dc16d",
   "metadata": {},
   "source": [
    "## `break`, `continue` und `else` in Schleifen\n",
    "Die Verwendung ist sehr ähnlich wie in C# und Java.\n",
    "- `break` beendet eine Schleife vorzeitig\n",
    "- `continue` überspringt den Rest des aktuellen Schleifendurchlaufs und springt zum Schleifenkopf\n",
    "- `else` ist in Python auch bei Schleifen *parallel* zu `for` und `while` möglich und enthält einen Block der nur durchlaufen wird, wenn die Schleife **NICHT** mit `break` beendet wird."
   ]
  },
  {
   "cell_type": "code",
   "execution_count": null,
   "id": "30a4e720-7253-45ef-8f5c-b07d5ffbbf42",
   "metadata": {
    "ExecuteTime": {
     "end_time": "2024-02-27T21:15:11.888382747Z",
     "start_time": "2024-02-27T21:15:11.801995598Z"
    }
   },
   "outputs": [],
   "source": [
    "# Beispiel für break\n",
    "# Zähle alle geraden Zahlen bis eine ungerade Zahl gefunden wurde.\n",
    "gerade = [2, 8, 12, 6, 3, 42]\n",
    "count = 0\n",
    "\n",
    "for zahl in gerade:\n",
    "    if zahl % 2 != 0:\n",
    "        break\n",
    "    count+=1\n",
    "\n",
    "print(count)"
   ]
  },
  {
   "cell_type": "code",
   "execution_count": null,
   "id": "875563ac-c025-4bb2-9428-cd725f461fac",
   "metadata": {
    "ExecuteTime": {
     "end_time": "2024-02-27T21:15:12.094328042Z",
     "start_time": "2024-02-27T21:15:11.994848037Z"
    }
   },
   "outputs": [],
   "source": [
    "# Beispiel für continue\n",
    "# Gib alle geraden Zahlen aus und zähle sie.\n",
    "count = 0\n",
    "\n",
    "for zahl in gerade:\n",
    "    if zahl % 2 != 0:\n",
    "        continue\n",
    "        \n",
    "    count+=1\n",
    "\n",
    "print(f'{count} gerade Zahlen gefunden.')"
   ]
  },
  {
   "cell_type": "markdown",
   "id": "d49f90b4-ea91-46d6-888a-20d37aa334bb",
   "metadata": {
    "ExecuteTime": {
     "end_time": "2024-02-27T21:15:12.094328042Z",
     "start_time": "2024-02-27T21:15:11.994848037Z"
    }
   },
   "source": [
    "## `else` in Schleifen\n",
    "Bei allen Schleifen kann ein `else` verwendet werden, das nur dann durchlaufen wird, wenn die Schleife **nicht** mit `break` verlassen wird."
   ]
  },
  {
   "cell_type": "code",
   "execution_count": null,
   "id": "84f9e079-bbc8-4f19-bf4d-0f45e437047a",
   "metadata": {},
   "outputs": [],
   "source": [
    "for i in range(3):\n",
    "    print(i)\n",
    "else:\n",
    "    print(\"Schleife abgeschlossen\")"
   ]
  },
  {
   "cell_type": "code",
   "execution_count": null,
   "id": "41d78f49-da07-4ad6-8530-8824cdf90b5f",
   "metadata": {},
   "outputs": [],
   "source": [
    "for i in range(3):\n",
    "    if i == 2:\n",
    "        break\n",
    "        \n",
    "    print(i)\n",
    "else:\n",
    "    print(\"Schleife abgeschlossen\")"
   ]
  },
  {
   "cell_type": "code",
   "execution_count": null,
   "id": "23419fdf-2d69-4586-b676-7ed649dc9257",
   "metadata": {},
   "outputs": [],
   "source": [
    "count = 0\n",
    "\n",
    "while count < 4:\n",
    "    print(count)\n",
    "    count += 1 # es gibt kein count++ in Python\n",
    "else:\n",
    "    print(\"Schleife abgeschlossen\")"
   ]
  },
  {
   "cell_type": "markdown",
   "id": "3a1ff007-c66e-4f7e-aa1e-955d4bf1bee4",
   "metadata": {
    "ExecuteTime": {
     "end_time": "2024-08-13T06:27:06.933050Z",
     "start_time": "2024-08-13T06:27:06.920500Z"
    }
   },
   "source": [
    "# Conditions\n",
    "- `if`-Anweisungen funktionieren völlig gleich wie in anderen Programmiersprachen wie C# und Java.\\\n",
    "Es gibt `if`, `else`und `elif` (für `else` und `if`)\n",
    "- `if` im Conditional Operator (Ternärer Operator) verwendet.\n",
    "- `if` wird auch in der **List Comprehension** verwendet."
   ]
  },
  {
   "cell_type": "code",
   "execution_count": null,
   "id": "88fcc4ed-7882-45a2-835a-63ffa687f036",
   "metadata": {
    "ExecuteTime": {
     "end_time": "2024-03-13T18:12:48.681097383Z",
     "start_time": "2024-03-13T18:12:48.505206381Z"
    }
   },
   "outputs": [],
   "source": [
    "# Berechnung des Bodymassindex\n",
    "weight = 63  # kg\n",
    "height = 178 # cm\n",
    "\n",
    "bmi = weight / (height/100)**2\n",
    "\n",
    "info = None \n",
    "\n",
    "if bmi < 18.5:\n",
    "    info = 'Untergewicht'\n",
    "elif bmi > 25:\n",
    "    info = 'Übergewicht'\n",
    "else:\n",
    "    info = 'Normalgewicht'\n",
    "\n",
    "print(f'Bodymassindex ist {round(bmi,1)}. Das bedeutet {info}.')"
   ]
  },
  {
   "cell_type": "markdown",
   "id": "cc0b8b74-1d6a-4517-a7e3-a40a9833f427",
   "metadata": {},
   "source": [
    "## Conditional Operator (Ternärer Operator)\n",
    "Das `if` als numerischer Ausdruck (Expression) wird auch in Python unterstützt. In C# und Java wird der conditional operator auch als **?:**-Operator bezeichnet./\n",
    "In Python ist die Syntax eine wesentlich andere, da die Bedingung als zweiter Teil geschrieben wird. Die Lesbarkeit ist dadurch möglicherweise verbessert."
   ]
  },
  {
   "cell_type": "code",
   "execution_count": null,
   "id": "e6273320-d01a-45d2-9904-30b53237429f",
   "metadata": {},
   "outputs": [],
   "source": [
    "age = 20\n",
    "\n",
    "# Verwendung des Conditional Operators\n",
    "# in C#: status = age > 10 ? \"volljährig\" : \"minderjährig\"\n",
    "status = \"volljährig\" if age >= 18 else \"minderjährig\"\n",
    "\n",
    "print(status)"
   ]
  },
  {
   "cell_type": "markdown",
   "id": "392418cd-0ca5-4bae-8a54-1a149e97cb1d",
   "metadata": {},
   "source": [
    "## `if` in List Comprehension"
   ]
  },
  {
   "cell_type": "code",
   "execution_count": null,
   "id": "682e10df-546e-471f-beb6-e6d062b6c3d1",
   "metadata": {},
   "outputs": [],
   "source": [
    "zahlen = list(range(10))\n",
    "print(zahlen)\n",
    "\n",
    "# List Comprehension mit einem if-Statement\n",
    "quadratVonGerade = [zahl*zahl for zahl in zahlen if zahl % 2 == 0]\n",
    "\n",
    "print(quadratVonGerade)"
   ]
  },
  {
   "cell_type": "markdown",
   "id": "57249d6f-1283-47b0-a2bf-025a5708c0e8",
   "metadata": {},
   "source": [
    "# Logische Operatoren\n",
    "Die logischen Operatoren werden in Python als Wörter ausgeschrieben. Es gibt drei.\n",
    "- **`and`**: Beide Bedingungen müssen wahr sein.\n",
    "- **`or`**: Eine der Bedingungen muss wahr sein.\n",
    "- **`not`**: Kehrt den Wahrheitswert einer Bedingung um."
   ]
  },
  {
   "cell_type": "code",
   "execution_count": null,
   "id": "8c1ad1bd-20e2-4ba3-9a43-92fc54cbc7cc",
   "metadata": {},
   "outputs": [],
   "source": [
    "a = True\n",
    "b = False\n",
    "\n",
    "print(a and b)\n",
    "print(a and True)\n",
    "print(a or b)\n",
    "print(False or b)\n",
    "print(not a)\n",
    "print(not b)"
   ]
  },
  {
   "cell_type": "markdown",
   "id": "1b8930a0-231b-4eb7-a170-a6a50bd7b7cb",
   "metadata": {},
   "source": [
    "# Vergleichsoperatoren\n",
    "Python kennt die üblichen Vergleichsoperatoren die auch in anderen Programiersprachen unterstützt werden.\n",
    "- **`==`**: Gleichheit\n",
    "- **`!=`**: Ungleichheit\n",
    "- **`>`**: Größer als\n",
    "- **`<`**: Kleiner als\n",
    "- **`>=`**: Größer als oder gleich\n",
    "- **`<=`**: Kleiner als oder gleich"
   ]
  },
  {
   "cell_type": "code",
   "execution_count": null,
   "id": "f7e83490-bc3b-44a0-adb1-2cf188b1971d",
   "metadata": {},
   "outputs": [],
   "source": [
    "x = 5\n",
    "y = 8\n",
    "\n",
    "if x == y:\n",
    "    print(\"x ist gleich y\")\n",
    "    \n",
    "if x != y:\n",
    "    print(\"x ist nicht gleich y\")\n",
    "    \n",
    "if x < y:\n",
    "    print(\"x ist kleiner als y\")\n",
    "\n",
    "if x > y:\n",
    "    print(\"x ist größer als y\")\n",
    "\n",
    "if x <= y:\n",
    "    print(\"x ist kleiner gleich als y\")\n",
    "\n",
    "if x >= y:\n",
    "    print(\"x ist größer gleich als y\")"
   ]
  }
 ],
 "metadata": {
  "kernelspec": {
   "display_name": "Python 3 (ipykernel)",
   "language": "python",
   "name": "python3"
  },
  "language_info": {
   "codemirror_mode": {
    "name": "ipython",
    "version": 3
   },
   "file_extension": ".py",
   "mimetype": "text/x-python",
   "name": "python",
   "nbconvert_exporter": "python",
   "pygments_lexer": "ipython3",
   "version": "3.11.3"
  }
 },
 "nbformat": 4,
 "nbformat_minor": 5
}
