{
 "cells": [
  {
   "cell_type": "markdown",
   "id": "f5a0de9e9860a8be",
   "metadata": {},
   "source": [
    "# Datentypen in Python\n",
    "## \"Einfache\" Datentypen (\"Primitive\" Types)\n",
    "- `str`  \n",
    "  Eine Zeichenkette, die Text speichert.  \n",
    "  Beispiel: `text = \"Hallo Welt\"` oder `text = 'Hallo Welt'`\n",
    "\n",
    "- `int`  \n",
    "  Ganze Zahlen, sowohl positiv als auch negativ.  \n",
    "  Beispiel: `zahl = 42`\n",
    "\n",
    "- `float`  \n",
    "  Gleitkommazahlen, also Zahlen mit Dezimalstellen.  \n",
    "  Beispiel: `kommazahl = 3.14`\n",
    "\n",
    "- `complex`  \n",
    "  Komplexe Zahlen, die aus einem Real- und einem Imaginärteil bestehen.  \n",
    "  Beispiel: `komplexe_zahl = 3 + 4j`\n",
    "\n",
    "- `bool`  \n",
    "  Wahrheitswerte, die entweder `True` (wahr) oder `False` (falsch) sein können.  \n",
    "  Beispiel: `wahrheitswert = True`\n",
    "\n",
    "## Collections\n",
    "- `list`  \n",
    "  Eine geordnete Sammlung von Elementen, die veränderbar ist.  \n",
    "  Beispiel: `meine_liste = [1, 2, 3, \"Hallo\"]`\n",
    "\n",
    "- `set`  \n",
    "  Eine ungeordnete Sammlung von eindeutigen Elementen.  \n",
    "  Beispiel: `mein_set = {1, 4, 3, \"Hallo\"}`\n",
    "\n",
    "- `dict`  \n",
    "  Eine Sammlung von Schlüssel-Wert-Paaren (Key-Value-Pairs).  \n",
    "  Beispiel: `mein_dict = {\"name\": \"Alice\", \"alter\": 30}`\n",
    "\n",
    "## Sequenztypen\n",
    "- `tuple`  \n",
    "  Eine geordnete Sammlung von Elementen, die unveränderbar ist.  \n",
    "  Beispiel: `mein_tuple = (1, 2, 3, \"Hallo\")` oder `mein_tuple = 1, 2, 3, \"Hallo\"` (tuple packing)\n",
    "\n",
    "- `range`  \n",
    "  Ein Datentyp, der eine Sequenz von Zahlen erzeugt, häufig in Schleifen verwendet.  \n",
    "  Beispiel: `mein_range = range(0, 10)` entspricht 0, 1, 2, 3, 4, 5, 6, 7, 8, 9\n",
    "\n",
    "## None\n",
    "- Entspricht *null* in C# und Java\\\n",
    "  Beispiel: `list = None`"
   ]
  },
  {
   "cell_type": "markdown",
   "id": "86a2acfc-6a53-4f04-902a-3e81e2857032",
   "metadata": {
    "ExecuteTime": {
     "end_time": "2024-08-13T06:27:06.933050Z",
     "start_time": "2024-08-13T06:27:06.920500Z"
    }
   },
   "source": [
    "# Einfache Datentypen\n",
    "Anmerkung: In Python sind alle Datentypen gewrapped (geboxt), d. h. es gibt eigentlich keine primitiven Typen."
   ]
  },
  {
   "cell_type": "code",
   "execution_count": null,
   "id": "df5c7b2d-9890-404a-924b-39b99a8fa7a8",
   "metadata": {
    "ExecuteTime": {
     "end_time": "2024-08-13T16:57:44.031896Z",
     "start_time": "2024-08-13T16:57:44.028682Z"
    }
   },
   "outputs": [],
   "source": [
    "h = 100 # Das ist ein int\n",
    "\n",
    "# Eine float-Variable.\n",
    "kg = 103.54\n",
    "\n",
    "print(h, kg)"
   ]
  },
  {
   "cell_type": "code",
   "execution_count": null,
   "id": "edc5d9af-673a-4785-ac0e-cbb13cba40c2",
   "metadata": {},
   "outputs": [],
   "source": [
    "# bool speichert Wahrheitswerte\n",
    "# True (wahr) oder False (falsch)\n",
    "# Sie müssen mit großem Anfangsbuchstaben geschrieben werden.\n",
    "ok = True\n",
    "print(ok)"
   ]
  },
  {
   "cell_type": "code",
   "execution_count": null,
   "id": "a72050cf-7dd4-420b-abd8-993912ccf0d9",
   "metadata": {},
   "outputs": [],
   "source": [
    "\"\"\"\n",
    "complex repräsentiert eine komplexe Zahl in der Mathematik\n",
    "mit einem Realteil\n",
    "und einem Imaginärteil\n",
    "\"\"\"\n",
    "x = 3+4j\n",
    "print(x)"
   ]
  },
  {
   "cell_type": "code",
   "execution_count": null,
   "id": "0190d6ae-8f00-4b40-8d2e-0062b42dbfaf",
   "metadata": {},
   "outputs": [],
   "source": [
    "# Ein float-Variable die keine Zahl ist.\n",
    "import math\n",
    "nonumber1 = math.nan\n",
    "nonumber2 = float('nan')\n",
    "print(nonumber1, nonumber2)"
   ]
  },
  {
   "cell_type": "code",
   "execution_count": null,
   "id": "4fc70ef6-1660-4dac-9c37-af8117f6ae79",
   "metadata": {},
   "outputs": [],
   "source": [
    "x = None\n",
    "print(x)"
   ]
  },
  {
   "cell_type": "markdown",
   "id": "42fd71bd-f958-48da-a9ac-74d7b5603156",
   "metadata": {},
   "source": [
    "## Typ einer Variable\n",
    "Der Datentyp einer Variable wird nur durch den Inhalt bestimmt und nicht durch eine Deklaration wie in C# oder Java."
   ]
  },
  {
   "cell_type": "code",
   "execution_count": null,
   "id": "9e94915b-ce29-4782-87c5-3ed9d4e88fe0",
   "metadata": {},
   "outputs": [],
   "source": [
    "h = 100\n",
    "print(type(h))\n",
    "\n",
    "h = 2.7\n",
    "print(type(h))\n",
    "\n",
    "h = 'Servus'\n",
    "print(type(h))"
   ]
  },
  {
   "cell_type": "markdown",
   "id": "b8ce5714-39f8-4a25-8531-c0c277cf5c1e",
   "metadata": {},
   "source": [
    "## Kommentare\n",
    "- Einzeilige mit #\n",
    "- Mehrzeilige mit \"\"\": Diese sind eigentlich String-Objekte in Python, aber wenn sie nicht einer Variablen zugewiesen werden, werden sie bei der Ausführung des Programms ignoriert."
   ]
  },
  {
   "cell_type": "markdown",
   "id": "21f2741a-4a23-4278-8198-818cfa850e0e",
   "metadata": {},
   "source": [
    "# Ausgabe auf der Konsole\n",
    "Es gibt sehr viele Möglichkeiten."
   ]
  },
  {
   "cell_type": "code",
   "execution_count": null,
   "id": "77929139-1357-46c1-9099-46c827fde40b",
   "metadata": {
    "ExecuteTime": {
     "end_time": "2024-08-13T16:57:44.121400Z",
     "start_time": "2024-08-13T16:57:44.117621Z"
    }
   },
   "outputs": [],
   "source": [
    "# Beispiel: Die Daten eines Autos\n",
    "marke = \"Toyota\"\n",
    "baujahr = 2015\n",
    "kilometerstand = 12345.67"
   ]
  },
  {
   "cell_type": "markdown",
   "id": "b7d6015f-0ffa-4deb-9270-5ff7cd68c14d",
   "metadata": {},
   "source": [
    "### 1. Ausgabe in einer Zeile mit Komma-Separierung"
   ]
  },
  {
   "cell_type": "code",
   "execution_count": null,
   "id": "355a6b29-4836-43b6-857b-7960cb750715",
   "metadata": {
    "ExecuteTime": {
     "end_time": "2024-08-13T16:57:44.161631Z",
     "start_time": "2024-08-13T16:57:44.157629Z"
    }
   },
   "outputs": [],
   "source": [
    "print(\"Marke:\", marke, \"Baujahr:\", baujahr, \"Kilometerstand:\", kilometerstand)"
   ]
  },
  {
   "cell_type": "markdown",
   "id": "a5f10307-1fd9-4b1c-8f6c-c36898fa88e2",
   "metadata": {},
   "source": [
    "Existiert in C# nicht."
   ]
  },
  {
   "cell_type": "code",
   "execution_count": null,
   "id": "78740b4a-505a-44e7-9347-5ed2b5e02e7e",
   "metadata": {
    "ExecuteTime": {
     "end_time": "2024-08-13T16:57:44.161631Z",
     "start_time": "2024-08-13T16:57:44.157629Z"
    }
   },
   "outputs": [],
   "source": [
    "# Die einzelnen Ausdrücke werden defaultmäßig durch ein Leerzeichen getrennt.\n",
    "# mit sep= kann man diesen Separator ändern.\n",
    "print(\"Marke:\", marke, \"Baujahr:\", baujahr, \"Kilometerstand:\", kilometerstand, sep='')"
   ]
  },
  {
   "cell_type": "markdown",
   "id": "fe48bed4-9e41-476d-b650-275e7f6d0e82",
   "metadata": {},
   "source": [
    "### 2. Ausgabe mit String-Verkettung (eher unüblich)"
   ]
  },
  {
   "cell_type": "code",
   "execution_count": null,
   "id": "9a723cf5-3a99-48ed-b056-214f572289d6",
   "metadata": {
    "ExecuteTime": {
     "end_time": "2024-08-13T16:57:44.186871Z",
     "start_time": "2024-08-13T16:57:44.182098Z"
    }
   },
   "outputs": [],
   "source": [
    "print(\"Marke: \" + marke + \", Baujahr: \" + str(baujahr) + \", Kilometerstand: \" + str(kilometerstand))"
   ]
  },
  {
   "cell_type": "markdown",
   "id": "acb38ad4-7860-4293-b89f-2415c8585dbe",
   "metadata": {},
   "source": [
    "In C#: Console.WriteLine(\"Marke: \" + marke + \", Baujahr: \" + baujahr + \", Kilometerstand: \" + kilometerstand);"
   ]
  },
  {
   "cell_type": "markdown",
   "id": "ef5c780e-9649-43dd-a879-8a89ce1f7c91",
   "metadata": {},
   "source": [
    "### 3. Ausgabe mit f-Strings (Interpolated Strings)"
   ]
  },
  {
   "cell_type": "code",
   "execution_count": null,
   "id": "117db22f-87b0-4493-a9fe-92dfcc7c952b",
   "metadata": {
    "ExecuteTime": {
     "end_time": "2024-08-13T16:57:44.198690Z",
     "start_time": "2024-08-13T16:57:44.195383Z"
    }
   },
   "outputs": [],
   "source": [
    "print(f\"Marke: {marke}, Baujahr: {baujahr}, Kilometerstand: {kilometerstand}\")"
   ]
  },
  {
   "cell_type": "markdown",
   "id": "40bbc31a-59eb-4203-8d7c-1eb066b38ede",
   "metadata": {},
   "source": [
    "In C#: *Console.WriteLine($\"Marke: {marke}, Baujahr: {baujahr}, Kilometerstand: {kilometerstand}\");*"
   ]
  },
  {
   "cell_type": "markdown",
   "id": "a6290a56-bcc2-46d3-824c-722e71deae3f",
   "metadata": {},
   "source": [
    "### 4. Ausgabe mit str.format()"
   ]
  },
  {
   "cell_type": "code",
   "execution_count": null,
   "id": "025a82dd-0e63-4861-817c-50bed3c5e154",
   "metadata": {
    "ExecuteTime": {
     "end_time": "2024-08-13T16:57:44.208410Z",
     "start_time": "2024-08-13T16:57:44.204509Z"
    }
   },
   "outputs": [],
   "source": [
    "print(\"Marke: {}, Baujahr: {}, Kilometerstand: {}\".format(marke, baujahr, kilometerstand))"
   ]
  },
  {
   "cell_type": "markdown",
   "id": "9f8b67d8-eae3-4398-9a97-70a13bc8be1c",
   "metadata": {},
   "source": [
    "Existiert in C# nicht."
   ]
  },
  {
   "cell_type": "markdown",
   "id": "5a2c12b3-166d-4890-86e3-00edcf520355",
   "metadata": {},
   "source": [
    "### 5. Indexbasierte Ausgabe"
   ]
  },
  {
   "cell_type": "code",
   "execution_count": null,
   "id": "9027c90e-985c-4ba5-a6d1-0f637a62be56",
   "metadata": {
    "ExecuteTime": {
     "end_time": "2024-08-13T16:57:44.214142Z",
     "start_time": "2024-08-13T16:57:44.210753Z"
    }
   },
   "outputs": [],
   "source": [
    "print(\"Marke: {0}, Baujahr: {1}, Kilometerstand: {2}\".format(marke, baujahr, kilometerstand))"
   ]
  },
  {
   "cell_type": "markdown",
   "id": "a453f6b9-8cdb-4d15-9f4e-315fbe3bb02b",
   "metadata": {},
   "source": [
    "In C#: *Console.WriteLine(\"Marke: {0}, Baujahr: {1}, Kilometerstand: {2}\", marke, baujahr, kilometerstand);*"
   ]
  },
  {
   "cell_type": "markdown",
   "id": "3cc93a0a-fa9d-4489-9a9d-fa6c090dc214",
   "metadata": {},
   "source": [
    "### 6. Formatierte Ausgabe"
   ]
  },
  {
   "cell_type": "code",
   "execution_count": null,
   "id": "74054a7b-addd-4f2c-bb91-e78e6cf93211",
   "metadata": {
    "ExecuteTime": {
     "end_time": "2024-08-13T16:57:44.224673Z",
     "start_time": "2024-08-13T16:57:44.220745Z"
    }
   },
   "outputs": [],
   "source": [
    "print(\"Marke: %s, Baujahr: %d, Kilometerstand: %.2f\" % (marke, baujahr, kilometerstand))"
   ]
  },
  {
   "cell_type": "markdown",
   "id": "53254200-d1c5-40b6-a2d1-1f21acf7bb70",
   "metadata": {},
   "source": [
    "In C#: *Console.WriteLine(\"Marke: {0}, Baujahr: {1}, Kilometerstand: {2:F2}\", marke, baujahr, kilometerstand);*"
   ]
  },
  {
   "cell_type": "markdown",
   "id": "0dcb0df0-a48f-45dc-9212-8802f7b16cbc",
   "metadata": {},
   "source": [
    "### 7. Ausgabe als ein mehrzeiliger Interpolated String"
   ]
  },
  {
   "cell_type": "code",
   "execution_count": null,
   "id": "7e21ad27-ef45-471f-8751-69ae0fddc1ee",
   "metadata": {
    "ExecuteTime": {
     "end_time": "2024-08-13T16:57:44.280084Z",
     "start_time": "2024-08-13T16:57:44.276964Z"
    }
   },
   "outputs": [],
   "source": [
    "print(f\"\"\"Marke: {marke}\n",
    "Baujahr: {baujahr}\n",
    "Kilometerstand: {kilometerstand}\"\"\")"
   ]
  },
  {
   "cell_type": "code",
   "execution_count": null,
   "id": "37bf09ec-2e91-4310-b730-32e64f6f2e1d",
   "metadata": {
    "ExecuteTime": {
     "end_time": "2024-08-13T16:57:44.295112Z",
     "start_time": "2024-08-13T16:57:44.290386Z"
    }
   },
   "outputs": [],
   "source": [
    "h = 100\n",
    "kg = 103.54 # kg\n",
    "doesItRain = False\n",
    "x = 3+4j\n",
    "y = 5-2j\n",
    "\n",
    "print(h)\n",
    "print(\"Höhe:\", h)"
   ]
  },
  {
   "cell_type": "code",
   "execution_count": null,
   "id": "d749ce04-886e-4168-a93e-3ffb679b5725",
   "metadata": {},
   "outputs": [],
   "source": [
    "town1 = \"Vienna\"\n",
    "town2 = 'Vienna'\n",
    "\n",
    "print(type(h))\n",
    "print(type(kg))\n",
    "print(type(town1))\n",
    "\n",
    "# wie in C++ und Java\n",
    "print(\"Höhe: %d Gewicht: %.1f\\nStadt: %s\" % ( h, kg, town2 ) )\n",
    "\n",
    "# indexbasierte Ausgabe\n",
    "print(\"Höhe: {0} Gewicht: {1:.1f}\\nStadt: {2}\\n{0}\".format(h, kg, town2))"
   ]
  },
  {
   "cell_type": "markdown",
   "id": "b0c8bf06-4a55-4ea5-911d-049ce54d56d2",
   "metadata": {},
   "source": [
    "### (8. in Jupyter Notebooks ohne print)"
   ]
  },
  {
   "cell_type": "code",
   "execution_count": null,
   "id": "0d46e302-1d99-47ef-a402-eec352338a63",
   "metadata": {},
   "outputs": [],
   "source": [
    "len('Vienna') # statt print(len('Vienna'))"
   ]
  },
  {
   "cell_type": "markdown",
   "id": "c75c9b7a-b8f8-4ac1-a14f-6f34a2f1a99c",
   "metadata": {},
   "source": [
    "### Ausgabe ohne Zeilenvorschub\n",
    "*print* fügt am Ende immer einen Zeilenvorschub ein, also ein '\\n' und entspricht daher in C# einem *Console.WriteLine*.\\\n",
    "Um den Zeilenvorschub zu unterdrücken, also wie ein C# ein *Console.Write*, bedarf eines Tricks."
   ]
  },
  {
   "cell_type": "code",
   "execution_count": null,
   "id": "c5316029-3b95-4805-8373-6a2b2f905b9b",
   "metadata": {},
   "outputs": [],
   "source": [
    "x = 3\n",
    "y = 5\n",
    "print('x=', x, 'und ', end='') # in C#: Console.Write($\"x= {x} und \");\n",
    "print('y=', y)"
   ]
  },
  {
   "cell_type": "markdown",
   "id": "df4c7f25-c021-4e67-ab4f-c5d5ac9def6a",
   "metadata": {},
   "source": [
    "# Eingabe von der Konsole\n",
    "Mit der `input`-Funktion. `input` gibt immer einen String zurück.\\"
   ]
  },
  {
   "cell_type": "code",
   "execution_count": null,
   "id": "803fcf55-df0b-420d-a317-c68c7d912824",
   "metadata": {},
   "outputs": [],
   "source": [
    "\"\"\"\n",
    "entspricht in C#:\n",
    "Console.Write(\"Bitte deinen Namen eingeben: \");\n",
    "string name = Console.ReadLine();\n",
    "\"\"\"\n",
    "name = input(\"Bitte deinen Namen eingeben: \")\n",
    "\n",
    "print(f\"Servus {name}!\")"
   ]
  },
  {
   "cell_type": "code",
   "execution_count": null,
   "id": "67381790-80a4-4ff7-bc86-5d700e0c1b5d",
   "metadata": {},
   "outputs": [],
   "source": [
    "# Mit Typconversion\n",
    "\"\"\"\n",
    "entspricht in C#:\n",
    "Console.Write(\"Bitte dein Alter eingeben: \");\n",
    "int alter = int.Parse(Console.ReadLine());\n",
    "\"\"\"\n",
    "alter = int(input(\"Bitte dein Alter eingeben: \"))\n",
    "\n",
    "print(alter, type(alter))"
   ]
  },
  {
   "cell_type": "code",
   "execution_count": null,
   "id": "b6bf7801-d053-441d-8aca-f43be90fde98",
   "metadata": {},
   "outputs": [],
   "source": [
    "# Mit Typconversion und Fehlerbehandlung durch Exceptionhandling\n",
    "\"\"\"\n",
    "entspricht in C#:\n",
    "Console.Write(\"Bitte dein Alter eingeben: \");\n",
    "if ( int.TryParse(Console.ReadLine(), out int alter) )\n",
    "\"\"\"\n",
    "try:\n",
    "    alter = int(input(\"Bitte dein Alter eingeben: \"))\n",
    "    print(f'Du bist {alter} Jahre alt!')\n",
    "except ValueError:\n",
    "    print(\"Bitte eine  Ganzzahl eingeben.\")"
   ]
  },
  {
   "cell_type": "markdown",
   "id": "9e1b9418-a83a-42f8-adfe-bef5662eb2c2",
   "metadata": {},
   "source": [
    "# Casts (Typumwandlungen)\n",
    "Casts sind in Python Funktionen und sind im Prinzip Konstruktoraufrufen der jeweiligen Typen."
   ]
  },
  {
   "cell_type": "code",
   "execution_count": null,
   "id": "b62c3985-1c10-42ca-9da1-55d159ce703d",
   "metadata": {
    "ExecuteTime": {
     "end_time": "2024-08-13T16:57:44.317460Z",
     "start_time": "2024-08-13T16:57:44.313053Z"
    }
   },
   "outputs": [],
   "source": [
    "kommazahl = 42.1337\n",
    "ganzzahl = int(kommazahl)\n",
    "text = str(kommazahl)\n",
    "wahr = bool(kommazahl)\n",
    "print(\"Dezimalzahl: \", kommazahl, type(kommazahl))\n",
    "print(\"Ganzzahl: \", ganzzahl, type(ganzzahl))\n",
    "print(\"Text: \", text, type(text))\n",
    "print(\"Wahrheitswert: \", wahr, type(wahr))"
   ]
  },
  {
   "cell_type": "code",
   "execution_count": null,
   "id": "34a4901a312e7f7e",
   "metadata": {
    "ExecuteTime": {
     "end_time": "2024-08-13T16:57:44.404597Z",
     "start_time": "2024-08-13T16:57:44.400342Z"
    }
   },
   "outputs": [],
   "source": [
    "# Weitere Beispiele mit int()\n",
    "print(int(12.345))\n",
    "print(int(\"42\")) # entspricht in C# int.Parse\n",
    "print(int(True))\n",
    "print(int(False))"
   ]
  },
  {
   "cell_type": "markdown",
   "id": "c40534bb-81ad-48ff-a2bc-dcd768242519",
   "metadata": {},
   "source": [
    "# Strings\n",
    "- Strings sind in Python Arrays\n",
    "- Double quotes \" oder single quotes '\n",
    "- Mehrzeilige Strings mit '''"
   ]
  },
  {
   "cell_type": "code",
   "execution_count": null,
   "id": "7b0ef463-3119-48b6-8cf8-e2796cbf5cfa",
   "metadata": {
    "ExecuteTime": {
     "end_time": "2024-02-27T21:15:05.546447370Z",
     "start_time": "2024-02-27T21:15:03.758149510Z"
    }
   },
   "outputs": [],
   "source": [
    "print('HTL Donaustadt')\n",
    "print(\"HTL Donaustadt\")\n",
    "print(\"HTL 'Donaustadt'\")\n",
    "print('HTL \"Donaustadt\"')\n",
    "print('''HTL\n",
    "Donaustadt\n",
    "in 1220 Wien''')"
   ]
  },
  {
   "cell_type": "code",
   "execution_count": null,
   "id": "450586bb-c9b6-4535-8ef4-caaaefb18794",
   "metadata": {},
   "outputs": [],
   "source": [
    "# Länge eines Strings\n",
    "city = \"Vienna\"\n",
    "len(city)"
   ]
  },
  {
   "cell_type": "markdown",
   "id": "ab37c136-8593-499f-a1ce-2639b3633839",
   "metadata": {},
   "source": [
    "## Slicing (Indexzugriff)\n",
    "- entspricht in C# den Zugriff über []\n",
    "- erfüllt bei Strings denselben Zweck der Methode `Substring` in C#\n",
    "- **funktioniert bei Strings, Listen, Tuples und Ranges**\n",
    "- ist ein sehr mächtiges Werkzeug!"
   ]
  },
  {
   "cell_type": "markdown",
   "id": "4f18d49f-4a55-46b7-ad09-5be5f0b75964",
   "metadata": {},
   "source": [
    "### Beispiel: Slicing für Strings"
   ]
  },
  {
   "cell_type": "code",
   "execution_count": null,
   "id": "302ef8df-2b2c-4dd7-90c2-01ee851afbcb",
   "metadata": {},
   "outputs": [],
   "source": [
    "a = \"HTL-Donaustadt\""
   ]
  },
  {
   "cell_type": "markdown",
   "id": "13075b1d-1fd1-4162-b566-f0e55982989c",
   "metadata": {},
   "source": [
    "**Einzelnes Zeichen**\\\n",
    "a[index]"
   ]
  },
  {
   "cell_type": "code",
   "execution_count": null,
   "id": "1f0059e0-29a3-4eb6-a653-ad30ffe14fe0",
   "metadata": {},
   "outputs": [],
   "source": [
    "print(a[0]) # erstes Zeichen\n",
    "print(a[4])\n",
    "print(\"Letztes Zeichen\", a[len(a)-1]) # letztes Zeichen (wie in C#)\n",
    "print(\"Letztes Zeichen\", a[-1]) # letztes Zeichen (wie [^1] in C#)"
   ]
  },
  {
   "cell_type": "markdown",
   "id": "7bbc8289-bd6c-4c20-a771-ffebd8b3eff4",
   "metadata": {},
   "source": [
    "**Beliebige Zeichenketten**\\\n",
    "a[start:stop]  # zeichen von start bis stop-1"
   ]
  },
  {
   "cell_type": "code",
   "execution_count": null,
   "id": "6bf1f1ac-c708-459d-a5d1-7705eddbccb8",
   "metadata": {},
   "outputs": [],
   "source": [
    "a = \"HTL-Donaustadt\"\n",
    "#    01234567890123\n",
    "print(a[1:3]) # 2 Zeichen\n",
    "print(a[4:9])\n",
    "print(a[3:4]) # Bindestrich"
   ]
  },
  {
   "cell_type": "markdown",
   "id": "58762d19-869f-4c20-b239-21f2fec2f39a",
   "metadata": {},
   "source": [
    "**Beginn eines Strings**\\\n",
    "a[:stop]  # zeichen von 0 bis stop-1"
   ]
  },
  {
   "cell_type": "code",
   "execution_count": null,
   "id": "7cc0525c-76d7-4f42-817e-fea42f7f0c47",
   "metadata": {},
   "outputs": [],
   "source": [
    "a = \"HTL-Donaustadt\"\n",
    "#    01234567890123\n",
    "print(a[:3]) # erste drei Zeichen\n",
    "print(a[:4]) # ersten neuen Zeichen\n",
    "print(a[:9]) # ersten vier Zeichen"
   ]
  },
  {
   "cell_type": "markdown",
   "id": "37027080-d1ad-4078-a874-f82de1263726",
   "metadata": {},
   "source": [
    "**Ende eines Strings**\\\n",
    "a[start:]  # zeichen von start bis zum Ende"
   ]
  },
  {
   "cell_type": "code",
   "execution_count": null,
   "id": "5b0080b0-bed1-441c-a30f-bf334ac12e65",
   "metadata": {
    "scrolled": true
   },
   "outputs": [],
   "source": [
    "a = \"HTL-Donaustadt\"\n",
    "#    01234567890123\n",
    "print(a[1:])\n",
    "print(a[4:])\n",
    "print(a[9:])"
   ]
  },
  {
   "cell_type": "markdown",
   "id": "195bd6a9-9937-4731-916e-2aec35f8cb24",
   "metadata": {},
   "source": [
    "**Gesamter String**\\\n",
    "a[:]\\\n",
    "Der String wird dabei kopiert"
   ]
  },
  {
   "cell_type": "code",
   "execution_count": null,
   "id": "378fa7fb-b0f2-494e-b145-c8a99b15583b",
   "metadata": {},
   "outputs": [],
   "source": [
    "print(a[:])"
   ]
  },
  {
   "cell_type": "markdown",
   "id": "1083b6e2-06f5-40d5-ab80-13cf222a70a8",
   "metadata": {},
   "source": [
    "## Nützliche String-Funktionen"
   ]
  },
  {
   "cell_type": "code",
   "execution_count": null,
   "id": "b0fcb52a-6373-409f-9162-b9d421415e92",
   "metadata": {},
   "outputs": [],
   "source": [
    "# Umwandeln in Kleinbuchstaben\n",
    "\"Servus\".lower()"
   ]
  },
  {
   "cell_type": "code",
   "execution_count": null,
   "id": "e8840316-17c1-40f5-bbf3-db8f3725afa8",
   "metadata": {},
   "outputs": [],
   "source": [
    "# Umwandeln in Großbuchstaben\n",
    "\"Servus\".upper()"
   ]
  },
  {
   "cell_type": "code",
   "execution_count": null,
   "id": "b719de2c-5f6d-470e-a8d8-3c9335ae1351",
   "metadata": {},
   "outputs": [],
   "source": [
    "# Trimmen eines Strings\n",
    "s = \"  Hallo Welt  \"\n",
    "s.strip()"
   ]
  },
  {
   "cell_type": "code",
   "execution_count": null,
   "id": "a5c9fed2-40e9-4809-8a8c-0e53f0c0b8dc",
   "metadata": {},
   "outputs": [],
   "source": [
    "# Ersetzen eines Strings\n",
    "# Es werden alle Vorkommnisse ersetz\n",
    "s = \"Hallo Welt! Hallo!!!\"\n",
    "print(s.replace(\"Hallo\", \"Servus\"))  "
   ]
  },
  {
   "cell_type": "code",
   "execution_count": null,
   "id": "48ad9340-2b4e-40ba-986a-f3ea428a2667",
   "metadata": {},
   "outputs": [],
   "source": []
  }
 ],
 "metadata": {
  "kernelspec": {
   "display_name": "Python 3 (ipykernel)",
   "language": "python",
   "name": "python3"
  },
  "language_info": {
   "codemirror_mode": {
    "name": "ipython",
    "version": 3
   },
   "file_extension": ".py",
   "mimetype": "text/x-python",
   "name": "python",
   "nbconvert_exporter": "python",
   "pygments_lexer": "ipython3",
   "version": "3.11.3"
  }
 },
 "nbformat": 4,
 "nbformat_minor": 5
}
