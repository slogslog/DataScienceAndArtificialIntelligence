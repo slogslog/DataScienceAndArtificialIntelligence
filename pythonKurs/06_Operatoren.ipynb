{
 "cells": [
  {
   "cell_type": "markdown",
   "id": "4442bd09-db8c-4eac-9e5e-84778102998f",
   "metadata": {},
   "source": [
    "# Operatoren"
   ]
  },
  {
   "cell_type": "markdown",
   "id": "21ae794e-03ca-444a-8d27-2e667b333114",
   "metadata": {},
   "source": [
    "## Arithmetische Operatoren"
   ]
  },
  {
   "cell_type": "markdown",
   "id": "f075b267-1fb7-4a8e-8481-717acabe5539",
   "metadata": {},
   "source": [
    "Arithmetische Operatoren werden verwendet, um mathematische Berechnungen durchzuführen. Speziell sind die ganzzahlige Division `==` und die Potenzierung `**`.\n",
    "\n",
    "| Operation               | Zeichen | Beispiel               |\n",
    "|-------------------------|---------|------------------------|\n",
    "| **Addition**            | +   | `a = 3 + 5` -> `a=8`   |\n",
    "| **Subtraktion**         | -   | `a = 3 - 5` -> `a=-2`  |\n",
    "| **Multiplikation**      | *  | `a = 3 * 5` -> `a=15`  |\n",
    "| **Division**            | /  | `a = 3 / 5` -> `a=0.6` |\n",
    "| **Modulo**              | %  | `a = 13 % 3` -> `a=1`  |\n",
    "| **Ganzzahlige Division**| //  | `a = 13 // 3` -> `a=4` |\n",
    "| **Potenzierung**      | ** | `a = 2 ** 3` -> `a=8`  |"
   ]
  },
  {
   "cell_type": "code",
   "execution_count": 45,
   "id": "bc75f7a5-4eb1-44b4-95a3-a3722228be22",
   "metadata": {},
   "outputs": [
    {
     "name": "stdout",
     "output_type": "stream",
     "text": [
      "8 -2 15 0.6 1 4 8\n"
     ]
    }
   ],
   "source": [
    "print(3+5, 3-5, 3*5, 3/5, 13%3, 13//3, 2**3)"
   ]
  },
  {
   "cell_type": "markdown",
   "id": "2deb8be0-a352-4756-ab24-85fdec91ded8",
   "metadata": {},
   "source": [
    "Alle arithmetischen Operatoren sind mit dem Zuweisungsoperator `=` kombinierbar."
   ]
  },
  {
   "cell_type": "code",
   "execution_count": 46,
   "id": "32fa0944-1cc4-4b70-8a43-db195e106354",
   "metadata": {},
   "outputs": [
    {
     "name": "stdout",
     "output_type": "stream",
     "text": [
      "1\n",
      "15\n"
     ]
    }
   ],
   "source": [
    "# Beispiel von Modulo kombiniert mit =\n",
    "a = 13\n",
    "a %= 3 # entspricht a = 13 % 3\n",
    "print(a)\n",
    "\n",
    "# Beispiel von der Multiplikation kombiniert mit =\n",
    "a = 3\n",
    "a *= 5 # entspricht a = 3 * 5\n",
    "print(a)"
   ]
  },
  {
   "cell_type": "markdown",
   "id": "4899a438-1110-4d5a-8f60-af9d43d56030",
   "metadata": {},
   "source": [
    "Die von C# und Java bekannten Inkrementoperatoren `++` und Dekrementoperatoren `--` sind in Python nicht verfügbar. Stattdessen muss `+=1` und `-=1` verwendet werden."
   ]
  },
  {
   "cell_type": "code",
   "execution_count": 47,
   "id": "633d71f7-f939-49b5-ac55-97f3fa08e3a5",
   "metadata": {},
   "outputs": [
    {
     "name": "stdout",
     "output_type": "stream",
     "text": [
      "4\n",
      "3\n"
     ]
    }
   ],
   "source": [
    "a = 3\n",
    "a += 1 # entspricht a++ in C#\n",
    "print(a)\n",
    "a -= 1 # entspricht a-- in C#\n",
    "print(a)"
   ]
  },
  {
   "cell_type": "markdown",
   "id": "52ba4004-8e3f-4c50-b71b-e27e0d1e7782",
   "metadata": {},
   "source": [
    "## Logische Operatoren"
   ]
  },
  {
   "cell_type": "markdown",
   "id": "f051f7a6-3223-4062-af97-f6290fa7bb96",
   "metadata": {},
   "source": [
    "Die logischen Operatoren werden in Python als Wörter ausgeschrieben. Es gibt drei.\n",
    "- **`and`**: Beide Bedingungen müssen wahr sein.\n",
    "- **`or`**: Eine der Bedingungen muss wahr sein.\n",
    "- **`not`**: Kehrt den Wahrheitswert einer Bedingung um."
   ]
  },
  {
   "cell_type": "code",
   "execution_count": 48,
   "id": "8a5538d0-92df-43dc-9b9a-a604fbde1c59",
   "metadata": {},
   "outputs": [
    {
     "name": "stdout",
     "output_type": "stream",
     "text": [
      "False\n",
      "True\n",
      "True\n",
      "False\n",
      "False\n",
      "True\n"
     ]
    }
   ],
   "source": [
    "a = True\n",
    "b = False\n",
    "\n",
    "print(a and b)\n",
    "print(a and True)\n",
    "print(a or b)\n",
    "print(False or b)\n",
    "print(not a)\n",
    "print(not b)"
   ]
  },
  {
   "cell_type": "markdown",
   "id": "3063f02c-cf73-486b-9ffe-26f69cf2cec7",
   "metadata": {},
   "source": [
    "## Vergleichsoperatoren"
   ]
  },
  {
   "cell_type": "markdown",
   "id": "dde64b07-7a2d-4b7d-9f79-3afcef750633",
   "metadata": {},
   "source": [
    "Python kennt die üblichen Vergleichsoperatoren die auch in anderen Programiersprachen unterstützt werden.\n",
    "- **`==`**: Gleichheit\n",
    "- **`!=`**: Ungleichheit\n",
    "- **`>`**: Größer als\n",
    "- **`<`**: Kleiner als\n",
    "- **`>=`**: Größer als oder gleich\n",
    "- **`<=`**: Kleiner als oder gleich"
   ]
  },
  {
   "cell_type": "code",
   "execution_count": 49,
   "id": "99296fba-c76d-4924-9940-367cb052cdd3",
   "metadata": {},
   "outputs": [
    {
     "name": "stdout",
     "output_type": "stream",
     "text": [
      "x ist nicht gleich y\n",
      "x ist kleiner als y\n",
      "x ist kleiner gleich als y\n"
     ]
    }
   ],
   "source": [
    "x = 5\n",
    "y = 8\n",
    "\n",
    "if x == y:\n",
    "    print(\"x ist gleich y\")\n",
    "    \n",
    "if x != y:\n",
    "    print(\"x ist nicht gleich y\")\n",
    "    \n",
    "if x < y:\n",
    "    print(\"x ist kleiner als y\")\n",
    "\n",
    "if x > y:\n",
    "    print(\"x ist größer als y\")\n",
    "\n",
    "if x <= y:\n",
    "    print(\"x ist kleiner gleich als y\")\n",
    "\n",
    "if x >= y:\n",
    "    print(\"x ist größer gleich als y\")"
   ]
  },
  {
   "cell_type": "code",
   "execution_count": 50,
   "id": "54575bd6-6cfe-4f8e-b5f2-57024198c19b",
   "metadata": {},
   "outputs": [
    {
     "name": "stdout",
     "output_type": "stream",
     "text": [
      "x ist ungleich y\n"
     ]
    }
   ],
   "source": [
    "if not x == y:\n",
    "    print(\"x ist ungleich y\")"
   ]
  },
  {
   "cell_type": "markdown",
   "id": "7bc598f0-91e9-494a-850f-af1a237aea07",
   "metadata": {},
   "source": [
    "## Bitweise Operatoren"
   ]
  },
  {
   "cell_type": "markdown",
   "id": "36c02921-dfad-463c-8995-549631d1ccbb",
   "metadata": {},
   "source": [
    "Bitweise Operatoren werden verwendet, um Operationen auf den einzelnen Bits von Integer-Werten durchzuführen. Hier sind die wichtigsten bitweisen Operatoren in Python:\n",
    "\n",
    "- **Und (`&`)**: Führt ein bitweises UND zwischen zwei Werten durch.\\\n",
    "  Beispiel: `a = 5 & 3` -> `a=1`\n",
    "- **Oder (`|`)**: Führt ein bitweises ODER zwischen zwei Werten durch.\\\n",
    "  Beispiel: `a = 5 | 3` -> `a=7`\n",
    "- **XOR (`^`)**: Führt ein bitweises exklusives ODER (XOR) zwischen zwei Werten durch.\\\n",
    "  Beispiel: `a = 5 ^ 3` -> `a=6`\n",
    "- **Negation (`~`)**: Invertiert alle Bits eines Wertes (bitweises NOT).\\\n",
    "  Beispiel: `a = ~5` -> `a=-6`\n",
    "- **Linksverschiebung (`<<`)**: Verschiebt die Bits eines Wertes um eine bestimmte Anzahl von Stellen nach links.\\\n",
    "  Beispiel: `a = 5 << 1` -> `a=10`\n",
    "- **Rechtsverschiebung (`>>`)**: Verschiebt die Bits eines Wertes um eine bestimmte Anzahl von Stellen nach rechts.\\\n",
    "  Beispiel: `a = 5 >> 1` -> `a=2`\n"
   ]
  },
  {
   "cell_type": "code",
   "execution_count": 51,
   "id": "0aa3462e-6d0a-45c9-bd93-6aeec9410c3d",
   "metadata": {},
   "outputs": [
    {
     "name": "stdout",
     "output_type": "stream",
     "text": [
      "a   = 00000101\n",
      "b   = 00000011\n",
      "\n",
      "a&b = 00000001 1\n",
      "a|b = 00000111 7\n",
      "a^b = 00000110 6\n",
      "~a  = -0000110 -6\n",
      "a<<1= 00001010 10\n",
      "a>>1= 00000010 2\n"
     ]
    }
   ],
   "source": [
    "a = 5\n",
    "b = 3\n",
    "print(\"a   = {:08b}\".format(a))   # Ausgabe als 8-stellige Binärzahl\n",
    "print(\"b   = {:08b}\\n\".format(b))\n",
    "print(\"a&b = {:08b} {}\".format(a&b,a&b))\n",
    "print(\"a|b = {:08b} {}\".format(a|b,a|b))\n",
    "print(\"a^b = {:08b} {}\".format(a^b,a^b))\n",
    "print(\"~a  = {:08b} {}\".format(~a,~a))\n",
    "print(\"a<<1= {:08b} {}\".format(a<<1,a<<1))\n",
    "print(\"a>>1= {:08b} {}\".format(a>>1,a>>1))"
   ]
  },
  {
   "cell_type": "markdown",
   "id": "4d5fdb6b-6fdd-4d44-b1ba-69e1e1b22d32",
   "metadata": {},
   "source": [
    "## Identitätsoperatoren\n",
    "\n",
    "Identitätsoperatoren werden verwendet, um zu überprüfen, ob zwei Variablen auf dasselbe Objekt im Speicher verweisen.\\\n",
    "Entspricht in C# der Methode `Object.EqualsReference`.\n",
    "\n",
    "- **Ist (`is`)**: Überprüft, ob zwei Variablen auf dasselbe Objekt zeigen.\\\n",
    "  Beispiel: `a is b`\n",
    "- **Ist nicht (`is not`)**: Überprüft, ob zwei Variablen nicht auf dasselbe Objekt zeigen.\\\n",
    "  Beispiel: `a is not b`\n"
   ]
  },
  {
   "cell_type": "code",
   "execution_count": 67,
   "id": "789b93de-b624-4ecd-a242-ca9dd3676ede",
   "metadata": {},
   "outputs": [
    {
     "name": "stdout",
     "output_type": "stream",
     "text": [
      "a und b zeigen nicht auf die gleiche Instanz\n"
     ]
    }
   ],
   "source": [
    "a = float(3)\n",
    "b = float(3)\n",
    "\n",
    "if a is b:\n",
    "    print('a und b zeigen auf die gleiche Instanz')\n",
    "else:\n",
    "    print('a und b zeigen nicht auf die gleiche Instanz')"
   ]
  },
  {
   "cell_type": "code",
   "execution_count": 71,
   "id": "0874160a-27d9-41f4-b6fa-ddac0fd2ca1e",
   "metadata": {},
   "outputs": [
    {
     "name": "stdout",
     "output_type": "stream",
     "text": [
      "a und b zeigen auf die gleiche Instanz\n"
     ]
    }
   ],
   "source": [
    "a = float(3)\n",
    "b = a\n",
    "\n",
    "if a is b:\n",
    "    print('a und b zeigen auf die gleiche Instanz')\n",
    "else:\n",
    "    print('a und b zeigen nicht auf die gleiche Instanz')"
   ]
  },
  {
   "cell_type": "markdown",
   "id": "dcdecc9f-4168-45ba-a4cf-a924b56cc0e3",
   "metadata": {},
   "source": [
    "## Mitgliedsoperatoren in Python\n",
    "\n",
    "Mitgliedsoperatoren werden verwendet, um zu überprüfen, ob ein bestimmtes Element Teil einer Sequenz (wie einer Liste, einem Tupel oder einem String) ist.\\\n",
    "Entspricht in C# den `Contains`-Methoden der Collectionklassen und des Strings.\n",
    "\n",
    "- **In (`in`)**: Überprüft, ob ein Wert in einer Sequenz vorhanden ist.\\\n",
    "  Beispiel: `a in b`\n",
    "- **Nicht in (`not in`)**: Überprüft, ob ein Wert nicht in einer Sequenz vorhanden ist.\\\n",
    "  Beispiel: `a not in b`"
   ]
  },
  {
   "cell_type": "code",
   "execution_count": 74,
   "id": "5bd2b579-c91c-4c7b-9e9f-f7d9ab084523",
   "metadata": {},
   "outputs": [
    {
     "name": "stdout",
     "output_type": "stream",
     "text": [
      "a ist in b enthalten\n"
     ]
    }
   ],
   "source": [
    "a = 3\n",
    "b = [4, 5, 10, 3]\n",
    "\n",
    "if a in b:\n",
    "    print('a ist in b enthalten')\n",
    "else:\n",
    "    print('a ist in b nicht enthalten')"
   ]
  },
  {
   "cell_type": "code",
   "execution_count": null,
   "id": "25887073-9cc9-4287-ba52-b133077e4fc0",
   "metadata": {},
   "outputs": [],
   "source": []
  }
 ],
 "metadata": {
  "kernelspec": {
   "display_name": "Python 3 (ipykernel)",
   "language": "python",
   "name": "python3"
  },
  "language_info": {
   "codemirror_mode": {
    "name": "ipython",
    "version": 3
   },
   "file_extension": ".py",
   "mimetype": "text/x-python",
   "name": "python",
   "nbconvert_exporter": "python",
   "pygments_lexer": "ipython3",
   "version": "3.11.3"
  }
 },
 "nbformat": 4,
 "nbformat_minor": 5
}
