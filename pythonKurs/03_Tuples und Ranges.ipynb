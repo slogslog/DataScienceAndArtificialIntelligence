{
 "cells": [
  {
   "cell_type": "markdown",
   "id": "f5a0de9e9860a8be",
   "metadata": {},
   "source": [
    "# Tuples und Ranges in Python\n",
    "- `tuple`  \n",
    "  Eine geordnete Sammlung von Elementen, die unveränderbar ist.  \n",
    "  Beispiel: `mein_tuple = (1, 2, 3, \"Hallo\")`\n",
    "\n",
    "- `range`  \n",
    "  Ein Datentyp, der eine Sequenz von Zahlen erzeugt, häufig in Schleifen verwendet.  \n",
    "  Beispiel: `mein_range = range(0, 10)`"
   ]
  },
  {
   "cell_type": "markdown",
   "id": "9ae1751c-1203-4011-b6e9-12b1f774b733",
   "metadata": {
    "ExecuteTime": {
     "end_time": "2024-08-13T06:27:06.933050Z",
     "start_time": "2024-08-13T06:27:06.920500Z"
    }
   },
   "source": [
    "# `tuple`  \n",
    "Tuples: eine geordnete Sammlung von Elementen, die unveränderbar ist. \\\n",
    "Werden häufig verwendet wenn Funktionen mehr als einen Wert zurückgeben müssen.\n",
    "In C# entspricht das Value Tuples."
   ]
  },
  {
   "cell_type": "markdown",
   "id": "7fbc4ea1-5d53-4299-a013-47698f44da9c",
   "metadata": {},
   "source": [
    "## Anlegen eines Tuples\n",
    "- `()`: mit runden Klammern\n",
    "- *Tuple-Packing*: Elemente einfach mit Beistrichen trennen.\n",
    "- `tuple`: mit der Funktion aus einer Liste"
   ]
  },
  {
   "cell_type": "code",
   "execution_count": null,
   "id": "e266758c-05d4-45e1-8ea0-ebaf90db4b37",
   "metadata": {
    "ExecuteTime": {
     "end_time": "2024-02-27T21:15:11.436544795Z",
     "start_time": "2024-02-27T21:15:11.285320089Z"
    }
   },
   "outputs": [],
   "source": [
    "# mit runden Klammern\n",
    "coord1 = ( 10, 20, 'plus', True )\n",
    "\n",
    "# Tuple Packing\n",
    "coord2 = 10, 20, 'plus', True\n",
    "\n",
    "# mit tuple()\n",
    "coord3 = tuple([10, 20, 'plus', True])\n",
    "\n",
    "print(coord1)\n",
    "print(coord2)\n",
    "print(coord3)"
   ]
  },
  {
   "cell_type": "code",
   "execution_count": null,
   "id": "f8432ae2-2819-46ab-babb-9c54155a708e",
   "metadata": {
    "ExecuteTime": {
     "end_time": "2024-02-27T21:15:11.812073586Z",
     "start_time": "2024-02-27T21:15:11.682229605Z"
    }
   },
   "outputs": [],
   "source": [
    "print(type(coord1))\n",
    "print(type(coord2))\n",
    "print(type(coord3))"
   ]
  },
  {
   "cell_type": "markdown",
   "id": "83d4f457-074c-4ae5-9f65-fe32b840a303",
   "metadata": {
    "ExecuteTime": {
     "end_time": "2024-02-27T21:15:11.812073586Z",
     "start_time": "2024-02-27T21:15:11.682229605Z"
    }
   },
   "source": [
    "## Zugriff auf einzelne Komponenten"
   ]
  },
  {
   "cell_type": "code",
   "execution_count": null,
   "id": "283ff997-2fa0-46ff-bccb-a7355c55f713",
   "metadata": {},
   "outputs": [],
   "source": [
    "print(coord1[0])\n",
    "print(coord2[2])"
   ]
  },
  {
   "cell_type": "markdown",
   "id": "b8fc6c22-8d9e-4621-b397-94026b9dc16d",
   "metadata": {},
   "source": [
    "## Slicing: Zugriff über den Index\n",
    "**Nur lesend!** Einzelne Komponenten können nicht verändert werden."
   ]
  },
  {
   "cell_type": "code",
   "execution_count": null,
   "id": "cbeb85c4-e61b-4297-9034-610cc02f98a0",
   "metadata": {},
   "outputs": [],
   "source": [
    "zahlen = 2, 8, 5, 12, 1, 24, 42\n",
    "zahlen[0] # das erste Element"
   ]
  },
  {
   "cell_type": "code",
   "execution_count": null,
   "id": "30a4e720-7253-45ef-8f5c-b07d5ffbbf42",
   "metadata": {
    "ExecuteTime": {
     "end_time": "2024-02-27T21:15:11.888382747Z",
     "start_time": "2024-02-27T21:15:11.801995598Z"
    }
   },
   "outputs": [],
   "source": [
    "zahlen[-1] # das letzte Element"
   ]
  },
  {
   "cell_type": "code",
   "execution_count": null,
   "id": "875563ac-c025-4bb2-9428-cd725f461fac",
   "metadata": {
    "ExecuteTime": {
     "end_time": "2024-02-27T21:15:12.094328042Z",
     "start_time": "2024-02-27T21:15:11.994848037Z"
    }
   },
   "outputs": [],
   "source": [
    "zahlen[2:5] # das 3. bis vorletzte Element"
   ]
  },
  {
   "cell_type": "markdown",
   "id": "d49f90b4-ea91-46d6-888a-20d37aa334bb",
   "metadata": {
    "ExecuteTime": {
     "end_time": "2024-02-27T21:15:12.094328042Z",
     "start_time": "2024-02-27T21:15:11.994848037Z"
    }
   },
   "source": [
    "**Kein Schreibzugriff**\\\n",
    "Einzelne Komponenten können nicht geändert werden. Es kommt ein *TypeError*."
   ]
  },
  {
   "cell_type": "code",
   "execution_count": null,
   "id": "84f9e079-bbc8-4f19-bf4d-0f45e437047a",
   "metadata": {},
   "outputs": [],
   "source": [
    "# Umändern der 3. Komponenten (Index 2) auf 100\n",
    "# Scheitert direkt, da Tuples immutable sind.\n",
    "zahlen[2] = 100"
   ]
  },
  {
   "cell_type": "markdown",
   "id": "ad2a35df-cc50-42ad-88cd-a137d72ee4d4",
   "metadata": {},
   "source": [
    "**Umändern einer Komponente im Tuple** geht mit Hilfe einer Liste."
   ]
  },
  {
   "cell_type": "code",
   "execution_count": null,
   "id": "23419fdf-2d69-4586-b676-7ed649dc9257",
   "metadata": {},
   "outputs": [],
   "source": [
    "# Tuple in eine Liste umwandeln\n",
    "hilfe = list(zahlen)\n",
    "\n",
    "# den neuen Wert in der Liste setzen\n",
    "hilfe[2] = 100\n",
    "\n",
    "# Aus der Liste wieder ein Tuple bauen\n",
    "zahlen = tuple(hilfe)\n",
    "\n",
    "zahlen"
   ]
  },
  {
   "cell_type": "markdown",
   "id": "3a1ff007-c66e-4f7e-aa1e-955d4bf1bee4",
   "metadata": {
    "ExecuteTime": {
     "end_time": "2024-08-13T06:27:06.933050Z",
     "start_time": "2024-08-13T06:27:06.920500Z"
    }
   },
   "source": [
    "# `range`  \n",
    "Ranges: eine Sequenz von Ganzzahlen.\\\n",
    "**Werden vor allem bei for-Schleifen verwendet.**\n",
    "In C# entspricht das Value Tuples.\n",
    "\n",
    "Es gibt drei Möglichkeiten einen Range anzulegen:\n",
    "- `range(stop)`: von 0, 1, 2, ... stop-1\n",
    "- `range(start,stop)`: von start, start+1, start+2, ... stop-1\n",
    "- `range(start,stop,step)`: von start, start+step, start+2*step, ... stop-1\n",
    "\n",
    "**Der Stopp-Wert ist immer exklusive!**"
   ]
  },
  {
   "cell_type": "code",
   "execution_count": null,
   "id": "88fcc4ed-7882-45a2-835a-63ffa687f036",
   "metadata": {
    "ExecuteTime": {
     "end_time": "2024-03-13T18:12:48.681097383Z",
     "start_time": "2024-03-13T18:12:48.505206381Z"
    }
   },
   "outputs": [],
   "source": [
    "# range(stop): läuft von 0, 1, 2, ... stop-1\n",
    "for i in range(8):     \n",
    "    print(i)"
   ]
  },
  {
   "cell_type": "code",
   "execution_count": null,
   "id": "95ffa7c5-1f00-419d-bec1-8f864ff5e618",
   "metadata": {
    "ExecuteTime": {
     "end_time": "2024-03-13T18:12:48.851404840Z",
     "start_time": "2024-03-13T18:12:48.675514945Z"
    }
   },
   "outputs": [],
   "source": [
    "# range(start,stop): läuft von start, start+1, start+2, ... stop-1\n",
    "for i in range(5,8): # start, stop\n",
    "    print(i)"
   ]
  },
  {
   "cell_type": "code",
   "execution_count": null,
   "id": "2112fa83-fcfc-466a-85fe-d0474cae2493",
   "metadata": {
    "ExecuteTime": {
     "end_time": "2024-03-13T18:12:49.072131479Z",
     "start_time": "2024-03-13T18:12:48.825750641Z"
    }
   },
   "outputs": [],
   "source": [
    "# range(start,stop,step)`: von start, start+step, start+2*step, ... stop-1\n",
    "for i in range(3,8,2): # start, stop, step\n",
    "    print(i)"
   ]
  },
  {
   "cell_type": "code",
   "execution_count": null,
   "id": "db04e15d-f9e6-4603-b3af-1dd77902e989",
   "metadata": {},
   "outputs": [],
   "source": [
    "# Hinunterzählend mit einer negativen Schrittgröße\n",
    "for i in range(20,5,-5): # start, stop, step\n",
    "    print(i)"
   ]
  }
 ],
 "metadata": {
  "kernelspec": {
   "display_name": "Python 3 (ipykernel)",
   "language": "python",
   "name": "python3"
  },
  "language_info": {
   "codemirror_mode": {
    "name": "ipython",
    "version": 3
   },
   "file_extension": ".py",
   "mimetype": "text/x-python",
   "name": "python",
   "nbconvert_exporter": "python",
   "pygments_lexer": "ipython3",
   "version": "3.11.3"
  }
 },
 "nbformat": 4,
 "nbformat_minor": 5
}
