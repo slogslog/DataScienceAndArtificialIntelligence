{
 "cells": [
  {
   "cell_type": "markdown",
   "id": "9b250de4dc875fec",
   "metadata": {},
   "source": [
    "# Pandas Quick Start\n",
    "*Erstellt von:* Thomas Schlögl\\\n",
    "*Datum:* 2024/08/10"
   ]
  },
  {
   "cell_type": "code",
   "execution_count": 9,
   "id": "e7f15275ed5d9fdb",
   "metadata": {
    "ExecuteTime": {
     "end_time": "2024-08-19T19:57:44.387931Z",
     "start_time": "2024-08-19T19:57:43.777180Z"
    }
   },
   "outputs": [],
   "source": [
    "# Importieren\n",
    "import pandas as pd"
   ]
  },
  {
   "cell_type": "markdown",
   "id": "7c59a1dbb6f13c86",
   "metadata": {},
   "source": [
    "## Anlegen einer **Series**"
   ]
  },
  {
   "cell_type": "code",
   "execution_count": 10,
   "id": "616785fc-53f1-4a86-a58b-f053663029bf",
   "metadata": {},
   "outputs": [
    {
     "name": "stdout",
     "output_type": "stream",
     "text": [
      "0    28\n",
      "1    30\n",
      "2    34\n",
      "3    29\n",
      "dtype: int64\n"
     ]
    }
   ],
   "source": [
    "temp = [28, 30, 34, 29]\n",
    "ser = pd.Series(temp)\n",
    "print(ser)"
   ]
  },
  {
   "cell_type": "code",
   "execution_count": 11,
   "id": "e6865b600b9cac78",
   "metadata": {},
   "outputs": [],
   "source": [
    "# mit Bezeichnung\n",
    "temp = [28, 30, 34, 29]\n",
    "ser = pd.Series(temp, index=[\"A\", \"B\", \"C\", \"D\"])"
   ]
  },
  {
   "cell_type": "code",
   "execution_count": 12,
   "id": "555e6594e63b70bc",
   "metadata": {},
   "outputs": [
    {
     "data": {
      "text/plain": [
       "A    28\n",
       "B    30\n",
       "C    34\n",
       "D    29\n",
       "dtype: int64"
      ]
     },
     "execution_count": 12,
     "metadata": {},
     "output_type": "execute_result"
    }
   ],
   "source": [
    "ser"
   ]
  },
  {
   "cell_type": "markdown",
   "id": "b88414086020e3db",
   "metadata": {},
   "source": [
    "## Anlegen eines **DataFrames**"
   ]
  },
  {
   "cell_type": "code",
   "execution_count": 13,
   "id": "b34f4877df8fe4d2",
   "metadata": {},
   "outputs": [],
   "source": [
    "sensordata = {\n",
    "    \"sensor\": [\"A\", \"B\", \"C\", \"D\"],\n",
    "    \"temp\": [28, 30, 34, 29],\n",
    "}\n",
    "df = pd.DataFrame(sensordata)"
   ]
  },
  {
   "cell_type": "code",
   "execution_count": 14,
   "id": "7358c78ebd8093a8",
   "metadata": {},
   "outputs": [
    {
     "name": "stdout",
     "output_type": "stream",
     "text": [
      "  sensor  temp\n",
      "0      A    28\n",
      "1      B    30\n",
      "2      C    34\n",
      "3      D    29\n"
     ]
    }
   ],
   "source": [
    "print(df)"
   ]
  },
  {
   "cell_type": "code",
   "execution_count": null,
   "id": "9e841f6a-e795-4adf-87c8-78760a6c9c07",
   "metadata": {},
   "outputs": [],
   "source": []
  }
 ],
 "metadata": {
  "kernelspec": {
   "display_name": "Python 3 (ipykernel)",
   "language": "python",
   "name": "python3"
  },
  "language_info": {
   "codemirror_mode": {
    "name": "ipython",
    "version": 3
   },
   "file_extension": ".py",
   "mimetype": "text/x-python",
   "name": "python",
   "nbconvert_exporter": "python",
   "pygments_lexer": "ipython3",
   "version": "3.12.5"
  }
 },
 "nbformat": 4,
 "nbformat_minor": 5
}
