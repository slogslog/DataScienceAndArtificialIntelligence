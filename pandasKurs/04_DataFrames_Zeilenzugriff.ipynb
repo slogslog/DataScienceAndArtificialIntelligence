{
 "cells": [
  {
   "cell_type": "markdown",
   "id": "71ea9e16-bd31-4c9c-b966-541e1010e67b",
   "metadata": {},
   "source": [
    "# Zugriff auf Zeilen mit loc und iloc\n",
    "*Erstellt von:* Thomas Schlögl\\\n",
    "*Datum:* 2024/08/18\n",
    "\n",
    "Um einzelne Werte oder ganze Zeilen in einem DataFrame zu verändern, sind die beiden Methoden `loc[]` und `iloc[]` essentiell.\n",
    "\n",
    "**Unterschied zwischen `.loc[]` und `.iloc[]`**\n",
    "- **`.loc[]`**: Greift auf Zeilen basierend auf den **Index** (Key) zu. Dies ist besonders praktisch, wenn der DataFrame einen benutzerdefinierten Index (z.B. Strings) hat.\n",
    "- **`.iloc[]`**: Greift auf Zeilen basierend auf der **numerischen Position (Zeilennummer)** im DataFrame zu. Dies ist nützlich, wenn der Zugriff auf Zeilen in der Reihenfolge ihres Auftretens im DataFrame erfolgt.\n",
    "\n",
    "Der **Rückgabetyp** der Methoden ist entweder eine Series, ein DataFrame oder - bei Kombination mit einem Spaltennamen - ein simpler Datentyp.\n",
    "\n",
    "**Beispiel:** Mehrere Personen mit Alter, Körpergröße und Geburtsdatum.\n",
    "Im DataFrame werden für jeden Namen alle Daten gespeichert."
   ]
  },
  {
   "cell_type": "code",
   "execution_count": 15,
   "id": "ef46f24e-8b96-4741-b04c-29bba99f47c6",
   "metadata": {},
   "outputs": [
    {
     "data": {
      "text/html": [
       "<div>\n",
       "<style scoped>\n",
       "    .dataframe tbody tr th:only-of-type {\n",
       "        vertical-align: middle;\n",
       "    }\n",
       "\n",
       "    .dataframe tbody tr th {\n",
       "        vertical-align: top;\n",
       "    }\n",
       "\n",
       "    .dataframe thead th {\n",
       "        text-align: right;\n",
       "    }\n",
       "</style>\n",
       "<table border=\"1\" class=\"dataframe\">\n",
       "  <thead>\n",
       "    <tr style=\"text-align: right;\">\n",
       "      <th></th>\n",
       "      <th>Name</th>\n",
       "      <th>Alter</th>\n",
       "      <th>Groesse</th>\n",
       "      <th>Geburtsdatum</th>\n",
       "    </tr>\n",
       "  </thead>\n",
       "  <tbody>\n",
       "    <tr>\n",
       "      <th>0</th>\n",
       "      <td>Anna</td>\n",
       "      <td>25</td>\n",
       "      <td>170</td>\n",
       "      <td>2007-03-15</td>\n",
       "    </tr>\n",
       "    <tr>\n",
       "      <th>1</th>\n",
       "      <td>Ben</td>\n",
       "      <td>30</td>\n",
       "      <td>168</td>\n",
       "      <td>2006-07-22</td>\n",
       "    </tr>\n",
       "    <tr>\n",
       "      <th>2</th>\n",
       "      <td>Clara</td>\n",
       "      <td>22</td>\n",
       "      <td>181</td>\n",
       "      <td>2010-09-10</td>\n",
       "    </tr>\n",
       "    <tr>\n",
       "      <th>3</th>\n",
       "      <td>David</td>\n",
       "      <td>28</td>\n",
       "      <td>167</td>\n",
       "      <td>2008-11-04</td>\n",
       "    </tr>\n",
       "    <tr>\n",
       "      <th>4</th>\n",
       "      <td>Eva</td>\n",
       "      <td>26</td>\n",
       "      <td>192</td>\n",
       "      <td>2009-05-10</td>\n",
       "    </tr>\n",
       "  </tbody>\n",
       "</table>\n",
       "</div>"
      ],
      "text/plain": [
       "    Name  Alter  Groesse Geburtsdatum\n",
       "0   Anna     25      170   2007-03-15\n",
       "1    Ben     30      168   2006-07-22\n",
       "2  Clara     22      181   2010-09-10\n",
       "3  David     28      167   2008-11-04\n",
       "4    Eva     26      192   2009-05-10"
      ]
     },
     "execution_count": 15,
     "metadata": {},
     "output_type": "execute_result"
    }
   ],
   "source": [
    "import pandas as pd\n",
    "\n",
    "people = {\n",
    "    \"Name\" : [\"Anna\", \"Ben\", \"Clara\", \"David\", \"Eva\"],\n",
    "    \"Alter\" : [25, 30, 22, 28, 26],\n",
    "    \"Groesse\" : [170, 168, 181, 167, 192],\n",
    "    \"Geburtsdatum\" : [\"2007-03-15\", \"2006-07-22\", \"2010-09-10\", \"2008-11-04\", \"2009-05-10\"]\n",
    "}\n",
    "\n",
    "df1 = pd.DataFrame(people)\n",
    "# df1 hat die Zeilennummer als Index\n",
    "df1"
   ]
  },
  {
   "cell_type": "markdown",
   "id": "c2087585-c81c-476b-b3f4-6b3a95a6d821",
   "metadata": {},
   "source": [
    "Wir legen einen zweiten DataFrame mit denselben Daten an, der Index ist aber der Name."
   ]
  },
  {
   "cell_type": "code",
   "execution_count": 16,
   "id": "a31f80fe-28a0-4dd4-8989-0f037cdff0f1",
   "metadata": {},
   "outputs": [
    {
     "data": {
      "text/html": [
       "<div>\n",
       "<style scoped>\n",
       "    .dataframe tbody tr th:only-of-type {\n",
       "        vertical-align: middle;\n",
       "    }\n",
       "\n",
       "    .dataframe tbody tr th {\n",
       "        vertical-align: top;\n",
       "    }\n",
       "\n",
       "    .dataframe thead th {\n",
       "        text-align: right;\n",
       "    }\n",
       "</style>\n",
       "<table border=\"1\" class=\"dataframe\">\n",
       "  <thead>\n",
       "    <tr style=\"text-align: right;\">\n",
       "      <th></th>\n",
       "      <th>Alter</th>\n",
       "      <th>Groesse</th>\n",
       "      <th>Geburtsdatum</th>\n",
       "    </tr>\n",
       "    <tr>\n",
       "      <th>Name</th>\n",
       "      <th></th>\n",
       "      <th></th>\n",
       "      <th></th>\n",
       "    </tr>\n",
       "  </thead>\n",
       "  <tbody>\n",
       "    <tr>\n",
       "      <th>Anna</th>\n",
       "      <td>25</td>\n",
       "      <td>170</td>\n",
       "      <td>2007-03-15</td>\n",
       "    </tr>\n",
       "    <tr>\n",
       "      <th>Ben</th>\n",
       "      <td>30</td>\n",
       "      <td>168</td>\n",
       "      <td>2006-07-22</td>\n",
       "    </tr>\n",
       "    <tr>\n",
       "      <th>Clara</th>\n",
       "      <td>22</td>\n",
       "      <td>181</td>\n",
       "      <td>2010-09-10</td>\n",
       "    </tr>\n",
       "    <tr>\n",
       "      <th>David</th>\n",
       "      <td>28</td>\n",
       "      <td>167</td>\n",
       "      <td>2008-11-04</td>\n",
       "    </tr>\n",
       "    <tr>\n",
       "      <th>Eva</th>\n",
       "      <td>26</td>\n",
       "      <td>192</td>\n",
       "      <td>2009-05-10</td>\n",
       "    </tr>\n",
       "  </tbody>\n",
       "</table>\n",
       "</div>"
      ],
      "text/plain": [
       "       Alter  Groesse Geburtsdatum\n",
       "Name                              \n",
       "Anna      25      170   2007-03-15\n",
       "Ben       30      168   2006-07-22\n",
       "Clara     22      181   2010-09-10\n",
       "David     28      167   2008-11-04\n",
       "Eva       26      192   2009-05-10"
      ]
     },
     "execution_count": 16,
     "metadata": {},
     "output_type": "execute_result"
    }
   ],
   "source": [
    "df2 = df1.copy() # Kopie erstellen\n",
    "df2.set_index(['Name'], inplace=True); # Index setzen und in df2 ändern\n",
    "\n",
    "# df2 hat den Namen als Index\n",
    "df2"
   ]
  },
  {
   "cell_type": "markdown",
   "id": "5297e04b-c999-4557-bd9b-f923e18c04eb",
   "metadata": {},
   "source": [
    "## `loc[]` - Zugriff über ein nicht numerisches Label\n",
    "`loc[]` wird verwendet, um eine Zeile anhand eines Index-Werts (Keys) der nicht numerisch ist zu selektieren."
   ]
  },
  {
   "cell_type": "code",
   "execution_count": 17,
   "id": "c07578db-ae23-40fe-a947-e37082631e7a",
   "metadata": {},
   "outputs": [
    {
     "data": {
      "text/plain": [
       "Name                 Clara\n",
       "Alter                   22\n",
       "Groesse                181\n",
       "Geburtsdatum    2010-09-10\n",
       "Name: 2, dtype: object"
      ]
     },
     "execution_count": 17,
     "metadata": {},
     "output_type": "execute_result"
    }
   ],
   "source": [
    "# `loc[]` Bei loc kann man die Zeilennummer übergeben, wenn der DataFrame die Zeilennummer als Index hat. (Rückgabetyp Series)\n",
    "df1.loc[2]"
   ]
  },
  {
   "cell_type": "code",
   "execution_count": 18,
   "id": "58120faa-a45b-448e-ba6d-b685a12f6628",
   "metadata": {},
   "outputs": [
    {
     "data": {
      "text/html": [
       "<div>\n",
       "<style scoped>\n",
       "    .dataframe tbody tr th:only-of-type {\n",
       "        vertical-align: middle;\n",
       "    }\n",
       "\n",
       "    .dataframe tbody tr th {\n",
       "        vertical-align: top;\n",
       "    }\n",
       "\n",
       "    .dataframe thead th {\n",
       "        text-align: right;\n",
       "    }\n",
       "</style>\n",
       "<table border=\"1\" class=\"dataframe\">\n",
       "  <thead>\n",
       "    <tr style=\"text-align: right;\">\n",
       "      <th></th>\n",
       "      <th>Name</th>\n",
       "      <th>Alter</th>\n",
       "      <th>Groesse</th>\n",
       "      <th>Geburtsdatum</th>\n",
       "    </tr>\n",
       "  </thead>\n",
       "  <tbody>\n",
       "    <tr>\n",
       "      <th>2</th>\n",
       "      <td>Clara</td>\n",
       "      <td>22</td>\n",
       "      <td>181</td>\n",
       "      <td>2010-09-10</td>\n",
       "    </tr>\n",
       "    <tr>\n",
       "      <th>3</th>\n",
       "      <td>David</td>\n",
       "      <td>28</td>\n",
       "      <td>167</td>\n",
       "      <td>2008-11-04</td>\n",
       "    </tr>\n",
       "  </tbody>\n",
       "</table>\n",
       "</div>"
      ],
      "text/plain": [
       "    Name  Alter  Groesse Geburtsdatum\n",
       "2  Clara     22      181   2010-09-10\n",
       "3  David     28      167   2008-11-04"
      ]
     },
     "execution_count": 18,
     "metadata": {},
     "output_type": "execute_result"
    }
   ],
   "source": [
    "# `loc[]` Man kann auch mehrere Zeilen ausgeben (Rückgabetyp DataFrame)\n",
    "df1.loc[[2,3]]"
   ]
  },
  {
   "cell_type": "code",
   "execution_count": 19,
   "id": "6e17efb9-502a-49ff-be0b-d990cce88e4b",
   "metadata": {},
   "outputs": [
    {
     "data": {
      "text/plain": [
       "Alter                   22\n",
       "Groesse                181\n",
       "Geburtsdatum    2010-09-10\n",
       "Name: Clara, dtype: object"
      ]
     },
     "execution_count": 19,
     "metadata": {},
     "output_type": "execute_result"
    }
   ],
   "source": [
    "# Ausgabe einer einzigen Zeile (Rückgabetyp Series)\n",
    "df2.loc['Clara']"
   ]
  },
  {
   "cell_type": "code",
   "execution_count": 20,
   "id": "d1f42d01-f39c-4948-b54c-9824aecc3400",
   "metadata": {},
   "outputs": [
    {
     "data": {
      "text/html": [
       "<div>\n",
       "<style scoped>\n",
       "    .dataframe tbody tr th:only-of-type {\n",
       "        vertical-align: middle;\n",
       "    }\n",
       "\n",
       "    .dataframe tbody tr th {\n",
       "        vertical-align: top;\n",
       "    }\n",
       "\n",
       "    .dataframe thead th {\n",
       "        text-align: right;\n",
       "    }\n",
       "</style>\n",
       "<table border=\"1\" class=\"dataframe\">\n",
       "  <thead>\n",
       "    <tr style=\"text-align: right;\">\n",
       "      <th></th>\n",
       "      <th>Alter</th>\n",
       "      <th>Groesse</th>\n",
       "      <th>Geburtsdatum</th>\n",
       "    </tr>\n",
       "    <tr>\n",
       "      <th>Name</th>\n",
       "      <th></th>\n",
       "      <th></th>\n",
       "      <th></th>\n",
       "    </tr>\n",
       "  </thead>\n",
       "  <tbody>\n",
       "    <tr>\n",
       "      <th>Clara</th>\n",
       "      <td>22</td>\n",
       "      <td>181</td>\n",
       "      <td>2010-09-10</td>\n",
       "    </tr>\n",
       "    <tr>\n",
       "      <th>Ben</th>\n",
       "      <td>30</td>\n",
       "      <td>168</td>\n",
       "      <td>2006-07-22</td>\n",
       "    </tr>\n",
       "  </tbody>\n",
       "</table>\n",
       "</div>"
      ],
      "text/plain": [
       "       Alter  Groesse Geburtsdatum\n",
       "Name                              \n",
       "Clara     22      181   2010-09-10\n",
       "Ben       30      168   2006-07-22"
      ]
     },
     "execution_count": 20,
     "metadata": {},
     "output_type": "execute_result"
    }
   ],
   "source": [
    "# Ausgabe mehrerer Zeilen (Rückgabetyp DataFrame)\n",
    "df2.loc[['Clara','Ben']]"
   ]
  },
  {
   "cell_type": "markdown",
   "id": "01bccba5-a3d4-4958-a61e-9e07d4fc0aad",
   "metadata": {},
   "source": [
    "## `iloc[]` - Zugriff über den numerischen Index (Zeilennummer)\n",
    "`iloc[]` wird verwendet, um eine Zeile anhand der Zeilennummer (numerischer Indexwert) zuzugreifen.\n",
    "\n",
    "Dieser Zugriff funktioniert immer, auch dann wenn der Index auf ein Label gesetzt wurde."
   ]
  },
  {
   "cell_type": "code",
   "execution_count": 21,
   "id": "8e8a5973-7f30-40f3-8f23-a4613479230a",
   "metadata": {},
   "outputs": [
    {
     "data": {
      "text/plain": [
       "Alter                   22\n",
       "Groesse                181\n",
       "Geburtsdatum    2010-09-10\n",
       "Name: Clara, dtype: object"
      ]
     },
     "execution_count": 21,
     "metadata": {},
     "output_type": "execute_result"
    }
   ],
   "source": [
    "# Ausgabe einer einzigen Zeile \n",
    "df2.iloc[2]"
   ]
  },
  {
   "cell_type": "code",
   "execution_count": 22,
   "id": "70dd6b13-cb85-4c5a-bf17-d3f2e5c4d315",
   "metadata": {},
   "outputs": [
    {
     "data": {
      "text/html": [
       "<div>\n",
       "<style scoped>\n",
       "    .dataframe tbody tr th:only-of-type {\n",
       "        vertical-align: middle;\n",
       "    }\n",
       "\n",
       "    .dataframe tbody tr th {\n",
       "        vertical-align: top;\n",
       "    }\n",
       "\n",
       "    .dataframe thead th {\n",
       "        text-align: right;\n",
       "    }\n",
       "</style>\n",
       "<table border=\"1\" class=\"dataframe\">\n",
       "  <thead>\n",
       "    <tr style=\"text-align: right;\">\n",
       "      <th></th>\n",
       "      <th>Alter</th>\n",
       "      <th>Groesse</th>\n",
       "      <th>Geburtsdatum</th>\n",
       "    </tr>\n",
       "    <tr>\n",
       "      <th>Name</th>\n",
       "      <th></th>\n",
       "      <th></th>\n",
       "      <th></th>\n",
       "    </tr>\n",
       "  </thead>\n",
       "  <tbody>\n",
       "    <tr>\n",
       "      <th>Ben</th>\n",
       "      <td>30</td>\n",
       "      <td>168</td>\n",
       "      <td>2006-07-22</td>\n",
       "    </tr>\n",
       "    <tr>\n",
       "      <th>Clara</th>\n",
       "      <td>22</td>\n",
       "      <td>181</td>\n",
       "      <td>2010-09-10</td>\n",
       "    </tr>\n",
       "    <tr>\n",
       "      <th>Eva</th>\n",
       "      <td>26</td>\n",
       "      <td>192</td>\n",
       "      <td>2009-05-10</td>\n",
       "    </tr>\n",
       "  </tbody>\n",
       "</table>\n",
       "</div>"
      ],
      "text/plain": [
       "       Alter  Groesse Geburtsdatum\n",
       "Name                              \n",
       "Ben       30      168   2006-07-22\n",
       "Clara     22      181   2010-09-10\n",
       "Eva       26      192   2009-05-10"
      ]
     },
     "execution_count": 22,
     "metadata": {},
     "output_type": "execute_result"
    }
   ],
   "source": [
    "# Ausgabe mehreren Zeilen\n",
    "df2.iloc[[1, 2, 4]]"
   ]
  },
  {
   "cell_type": "code",
   "execution_count": 23,
   "id": "8085deb4-f53d-41fa-a0ec-c4e44b9039c7",
   "metadata": {},
   "outputs": [
    {
     "data": {
      "text/html": [
       "<div>\n",
       "<style scoped>\n",
       "    .dataframe tbody tr th:only-of-type {\n",
       "        vertical-align: middle;\n",
       "    }\n",
       "\n",
       "    .dataframe tbody tr th {\n",
       "        vertical-align: top;\n",
       "    }\n",
       "\n",
       "    .dataframe thead th {\n",
       "        text-align: right;\n",
       "    }\n",
       "</style>\n",
       "<table border=\"1\" class=\"dataframe\">\n",
       "  <thead>\n",
       "    <tr style=\"text-align: right;\">\n",
       "      <th></th>\n",
       "      <th>Name</th>\n",
       "      <th>Alter</th>\n",
       "      <th>Groesse</th>\n",
       "      <th>Geburtsdatum</th>\n",
       "    </tr>\n",
       "  </thead>\n",
       "  <tbody>\n",
       "    <tr>\n",
       "      <th>1</th>\n",
       "      <td>Ben</td>\n",
       "      <td>30</td>\n",
       "      <td>168</td>\n",
       "      <td>2006-07-22</td>\n",
       "    </tr>\n",
       "    <tr>\n",
       "      <th>2</th>\n",
       "      <td>Clara</td>\n",
       "      <td>22</td>\n",
       "      <td>181</td>\n",
       "      <td>2010-09-10</td>\n",
       "    </tr>\n",
       "    <tr>\n",
       "      <th>4</th>\n",
       "      <td>Eva</td>\n",
       "      <td>26</td>\n",
       "      <td>192</td>\n",
       "      <td>2009-05-10</td>\n",
       "    </tr>\n",
       "  </tbody>\n",
       "</table>\n",
       "</div>"
      ],
      "text/plain": [
       "    Name  Alter  Groesse Geburtsdatum\n",
       "1    Ben     30      168   2006-07-22\n",
       "2  Clara     22      181   2010-09-10\n",
       "4    Eva     26      192   2009-05-10"
      ]
     },
     "execution_count": 23,
     "metadata": {},
     "output_type": "execute_result"
    }
   ],
   "source": [
    "# funktioniert auch bei dem DataFrame der die Zeilennummern als Index hat.\n",
    "df1.iloc[[1, 2, 4]]"
   ]
  },
  {
   "cell_type": "markdown",
   "id": "a8e2a1c3-3168-47ad-8151-02b724ea9fe1",
   "metadata": {},
   "source": [
    "## Zugriff auf eine bestimmte Zelle\n",
    "`loc[]` erlaubt die Angabe eines Spaltennamens, aber nur für einzelne Zeilen.\n",
    "Rückgabetyp ist immer der Typ der Zelle."
   ]
  },
  {
   "cell_type": "code",
   "execution_count": 24,
   "id": "a252a0c0-1338-4ece-bce6-22ca04e66805",
   "metadata": {},
   "outputs": [
    {
     "data": {
      "text/plain": [
       "'2010-09-10'"
      ]
     },
     "execution_count": 24,
     "metadata": {},
     "output_type": "execute_result"
    }
   ],
   "source": [
    "df2.loc['Clara','Geburtsdatum'] # Angabe der Spalte bei der Übergabe"
   ]
  },
  {
   "cell_type": "code",
   "execution_count": 25,
   "id": "a5c0e380-b2c2-43b7-a582-245091be6420",
   "metadata": {},
   "outputs": [
    {
     "data": {
      "text/plain": [
       "'2010-09-10'"
      ]
     },
     "execution_count": 25,
     "metadata": {},
     "output_type": "execute_result"
    }
   ],
   "source": [
    "# Ist eine Kurzform von:\n",
    "series=df2.loc['Clara']\n",
    "series['Geburtsdatum']"
   ]
  },
  {
   "cell_type": "code",
   "execution_count": 26,
   "id": "51543aa6-abf8-445e-87dc-0246ba313916",
   "metadata": {},
   "outputs": [
    {
     "data": {
      "text/plain": [
       "Timestamp('2010-09-10 00:00:00')"
      ]
     },
     "execution_count": 26,
     "metadata": {},
     "output_type": "execute_result"
    }
   ],
   "source": [
    "# Umwandlung in eine Datumzeitangabe\n",
    "pd.to_datetime(series['Geburtsdatum'])"
   ]
  },
  {
   "cell_type": "markdown",
   "id": "f9fe17e0-9211-42ed-8b2b-b746f9c5dd8b",
   "metadata": {},
   "source": [
    "Für mehrere Zeilen funktioniert es nicht, da das Ergebnis weder eine Series, noch ein DataFrame oder ein einzelner Datentyp wäre.\\\n",
    "`df1.loc[['Clara', 'Ben'], 'Alter']` funktioniert nicht!"
   ]
  },
  {
   "cell_type": "markdown",
   "id": "f1b9d98e-132d-4288-9a0c-f30c9fa57dd5",
   "metadata": {},
   "source": [
    "### Zuweisen eines neuen Werts\n",
    "`loc` unterstützt die Angabe eines Spaltennamens."
   ]
  },
  {
   "cell_type": "code",
   "execution_count": 27,
   "id": "21ad7c7d-a3af-41c4-a7ef-3f7a6abded30",
   "metadata": {},
   "outputs": [
    {
     "data": {
      "text/html": [
       "<div>\n",
       "<style scoped>\n",
       "    .dataframe tbody tr th:only-of-type {\n",
       "        vertical-align: middle;\n",
       "    }\n",
       "\n",
       "    .dataframe tbody tr th {\n",
       "        vertical-align: top;\n",
       "    }\n",
       "\n",
       "    .dataframe thead th {\n",
       "        text-align: right;\n",
       "    }\n",
       "</style>\n",
       "<table border=\"1\" class=\"dataframe\">\n",
       "  <thead>\n",
       "    <tr style=\"text-align: right;\">\n",
       "      <th></th>\n",
       "      <th>Name</th>\n",
       "      <th>Alter</th>\n",
       "      <th>Groesse</th>\n",
       "      <th>Geburtsdatum</th>\n",
       "    </tr>\n",
       "  </thead>\n",
       "  <tbody>\n",
       "    <tr>\n",
       "      <th>0</th>\n",
       "      <td>Anna</td>\n",
       "      <td>25</td>\n",
       "      <td>170</td>\n",
       "      <td>2007-03-15</td>\n",
       "    </tr>\n",
       "    <tr>\n",
       "      <th>1</th>\n",
       "      <td>Ben</td>\n",
       "      <td>30</td>\n",
       "      <td>168</td>\n",
       "      <td>2006-07-22</td>\n",
       "    </tr>\n",
       "    <tr>\n",
       "      <th>2</th>\n",
       "      <td>Clara</td>\n",
       "      <td>22</td>\n",
       "      <td>181</td>\n",
       "      <td>2010-09-10</td>\n",
       "    </tr>\n",
       "    <tr>\n",
       "      <th>3</th>\n",
       "      <td>David</td>\n",
       "      <td>30</td>\n",
       "      <td>167</td>\n",
       "      <td>2008-11-04</td>\n",
       "    </tr>\n",
       "    <tr>\n",
       "      <th>4</th>\n",
       "      <td>Eva</td>\n",
       "      <td>26</td>\n",
       "      <td>192</td>\n",
       "      <td>2009-05-10</td>\n",
       "    </tr>\n",
       "  </tbody>\n",
       "</table>\n",
       "</div>"
      ],
      "text/plain": [
       "    Name  Alter  Groesse Geburtsdatum\n",
       "0   Anna     25      170   2007-03-15\n",
       "1    Ben     30      168   2006-07-22\n",
       "2  Clara     22      181   2010-09-10\n",
       "3  David     30      167   2008-11-04\n",
       "4    Eva     26      192   2009-05-10"
      ]
     },
     "execution_count": 27,
     "metadata": {},
     "output_type": "execute_result"
    }
   ],
   "source": [
    "# David auf 30 Jahre setzen\n",
    "df1.loc[3,'Alter']=30\n",
    "df1"
   ]
  },
  {
   "cell_type": "code",
   "execution_count": 28,
   "id": "062c0639-41ff-4b39-aa3c-c08806e478d4",
   "metadata": {},
   "outputs": [
    {
     "name": "stdout",
     "output_type": "stream",
     "text": [
      "       Alter  Groesse Geburtsdatum\n",
      "Name                              \n",
      "Anna      25      170   2007-03-15\n",
      "Ben       30      168   2006-07-22\n",
      "Clara     22      181   2010-09-10\n",
      "David     28      167   2008-11-04\n",
      "Eva       50      192   2009-05-10\n"
     ]
    }
   ],
   "source": [
    "# Eva auf 50 Jahre setzen\n",
    "# In df2 kann mit dem Namen zugegriffen werden.\n",
    "df2.loc['Eva','Alter']=50\n",
    "print(df2)"
   ]
  },
  {
   "cell_type": "code",
   "execution_count": null,
   "id": "0a250683-7b8e-4f6d-b5ef-bd286c849dd0",
   "metadata": {},
   "outputs": [],
   "source": []
  }
 ],
 "metadata": {
  "kernelspec": {
   "display_name": "Python 3 (ipykernel)",
   "language": "python",
   "name": "python3"
  },
  "language_info": {
   "codemirror_mode": {
    "name": "ipython",
    "version": 3
   },
   "file_extension": ".py",
   "mimetype": "text/x-python",
   "name": "python",
   "nbconvert_exporter": "python",
   "pygments_lexer": "ipython3",
   "version": "3.12.5"
  }
 },
 "nbformat": 4,
 "nbformat_minor": 5
}
