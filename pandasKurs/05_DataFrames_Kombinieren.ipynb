{
 "cells": [
  {
   "cell_type": "markdown",
   "id": "9b250de4dc875fec",
   "metadata": {},
   "source": [
    "# DataFrames kombinieren\n",
    "*Erstellt von:* Thomas Schlögl\\\n",
    "*Datum:* 2024/08/19"
   ]
  },
  {
   "cell_type": "markdown",
   "id": "04ec3c08-4972-47b4-aafb-19fff21a4f74",
   "metadata": {},
   "source": [
    "## Einen DataFrame an den anderen anhängen (vertikal)\n",
    "`concat()` kann die Zeilen mehrerer DatenFrames aneinander hängen."
   ]
  },
  {
   "cell_type": "code",
   "execution_count": null,
   "id": "e7f15275ed5d9fdb",
   "metadata": {
    "ExecuteTime": {
     "end_time": "2024-08-18T08:41:14.987618Z",
     "start_time": "2024-08-18T08:41:06.102178Z"
    }
   },
   "outputs": [],
   "source": [
    "# Importieren\n",
    "import pandas as pd"
   ]
  },
  {
   "cell_type": "markdown",
   "id": "7c59a1dbb6f13c86",
   "metadata": {},
   "source": [
    "Zwei Dataframes werden aus Files eingelesen."
   ]
  },
  {
   "cell_type": "code",
   "execution_count": null,
   "id": "616785fc-53f1-4a86-a58b-f053663029bf",
   "metadata": {},
   "outputs": [],
   "source": [
    "df1 = pd.read_csv('data/personen.csv')\n",
    "df2 = pd.read_csv('data/personen2.csv')"
   ]
  },
  {
   "cell_type": "code",
   "execution_count": null,
   "id": "9faacbc2-5136-42eb-982c-66a468ec81ee",
   "metadata": {},
   "outputs": [],
   "source": [
    "df1"
   ]
  },
  {
   "cell_type": "code",
   "execution_count": null,
   "id": "d27f19cd-1be8-4fb4-812c-e13c7d36d054",
   "metadata": {},
   "outputs": [],
   "source": [
    "df2"
   ]
  },
  {
   "cell_type": "markdown",
   "id": "710f8be8-01dd-4840-9189-3259f10b833c",
   "metadata": {},
   "source": [
    "`concat` hängt die Zeilen aneinander.\\\n",
    "`ignore_index=True` sorgt dafür, dass der Index im neuen DataFrame aktualisiert wird."
   ]
  },
  {
   "cell_type": "code",
   "execution_count": null,
   "id": "386afe8c-7a85-4726-befc-d150957fca3d",
   "metadata": {},
   "outputs": [],
   "source": [
    "df_combined = pd.concat([df1, df2], ignore_index=True)\n",
    "df_combined"
   ]
  },
  {
   "cell_type": "markdown",
   "id": "46c30f76-17d4-4f37-9052-81150b28d430",
   "metadata": {},
   "source": [
    "## Zusätzliche Spalten hinzufügen (horizontal)\n",
    "`merge()` kann die Spalten mehrerer DatenFrames kombinieren."
   ]
  },
  {
   "cell_type": "markdown",
   "id": "b88414086020e3db",
   "metadata": {},
   "source": [
    "Beide DataFrames werden erneut aus einem File geladen.\\\n",
    "Der zweite DataFrame enthält dann für jeden Namen einer Person das Geschlecht und den Geburtsort."
   ]
  },
  {
   "cell_type": "code",
   "execution_count": null,
   "id": "b34f4877df8fe4d2",
   "metadata": {},
   "outputs": [],
   "source": [
    "df1 = pd.read_csv('data/personen.csv')\n",
    "dfz = pd.read_csv('data/personen-zusatz.csv')"
   ]
  },
  {
   "cell_type": "code",
   "execution_count": null,
   "id": "d442f797-4c0d-4ee4-bba2-f0129ca7ff08",
   "metadata": {},
   "outputs": [],
   "source": [
    "df1"
   ]
  },
  {
   "cell_type": "code",
   "execution_count": null,
   "id": "b683a96d-0c21-43c0-9949-8ffa3cf2cf69",
   "metadata": {},
   "outputs": [],
   "source": [
    "dfz"
   ]
  },
  {
   "cell_type": "markdown",
   "id": "543117a8-87f4-4dad-a752-37ab3d32fbc2",
   "metadata": {},
   "source": [
    "`merge` verbindet die DataFrames anhand der bei `on` angegebenen Spalte."
   ]
  },
  {
   "cell_type": "code",
   "execution_count": null,
   "id": "7358c78ebd8093a8",
   "metadata": {},
   "outputs": [],
   "source": [
    "df_combined = pd.merge(df1, dfz, on='Name')\n",
    "df_combined"
   ]
  },
  {
   "cell_type": "code",
   "execution_count": null,
   "id": "8a3cdfc5-b3ff-43f9-a5b8-368700aac2ee",
   "metadata": {},
   "outputs": [],
   "source": []
  }
 ],
 "metadata": {
  "kernelspec": {
   "display_name": "Python 3 (ipykernel)",
   "language": "python",
   "name": "python3"
  },
  "language_info": {
   "codemirror_mode": {
    "name": "ipython",
    "version": 3
   },
   "file_extension": ".py",
   "mimetype": "text/x-python",
   "name": "python",
   "nbconvert_exporter": "python",
   "pygments_lexer": "ipython3",
   "version": "3.12.5"
  }
 },
 "nbformat": 4,
 "nbformat_minor": 5
}
