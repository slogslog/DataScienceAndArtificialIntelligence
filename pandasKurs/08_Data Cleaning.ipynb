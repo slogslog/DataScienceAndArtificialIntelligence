{
 "cells": [
  {
   "cell_type": "markdown",
   "id": "23fed609-7567-4949-8f69-f1c319285c0b",
   "metadata": {
    "ExecuteTime": {
     "end_time": "2024-08-18T09:05:02.834416Z",
     "start_time": "2024-08-18T09:05:02.828903Z"
    }
   },
   "source": [
    "# Data Cleaning\n",
    "*Erstellt von:* Thomas Schlögl\\\n",
    "*Datum:* 2024/08/17\n",
    "\n",
    "**Data Cleaning** (Datenbereinigung) bedeutet schlechte oder fehlende Daten zu *fixen*, d. h. zu korrigieren oder einzufügen um die Datenqualität zu verbessern.\n",
    "\n",
    "Schlechte Datenqualität kann sich durch mehrere Dinge ausdrücken und hat abhängig von der *Natur der Daten* verschiedene Möglichkeiten diese zu korrigieren.\n",
    "\n",
    "| Fehlerarten                     | Maßnahme                                                                 |\n",
    "|-----------------------------|--------------------------------------------------------------------------|\n",
    "| **Doppelte Daten** (Duplicates)   | Entfernen der doppelten Zeilen `drop_duplicates()` |\n",
    "| **Fehlende Daten** (Missing Data) | - Interpolieren `interpolate()`<br>- Forward Fill `ffill()` Ersetzen mit dem Wert der vorherigen Zeile<br>- Backward Fill `bfill()` Ersetzen mit dem Wert der nachfolgenden Zeile<br> - Entfernen der Zeilen in denen Daten fehlen `dropna()`<br>- Ersetzen durch statistische Werte `mean()`, `median()`, `mode()` mittels `fillna()`<br> |\n",
    "| **Ausreißer** (Outliers) | Erkennen und Behandeln. Oft ist der *Median* nützlich bzw. ein Median-Filter `rolling()`. |\n",
    "| **Fehlerhafte Daten** (Wrong Data) | Erkennen und Korrigieren, z. B. falsche Timestamps in einem Sensorfile, die nicht kontinuierlich ansteigen. |"
   ]
  },
  {
   "cell_type": "code",
   "execution_count": null,
   "id": "624c62c97b88053f",
   "metadata": {},
   "outputs": [],
   "source": [
    "import pandas as pd\n",
    "\n",
    "df = pd.read_csv('data/heartrate.csv')"
   ]
  },
  {
   "cell_type": "code",
   "execution_count": null,
   "id": "2b2b1777-a608-4ee1-bd7d-7bccfc37ce14",
   "metadata": {},
   "outputs": [],
   "source": [
    "df.info() # für den ersten Überblick"
   ]
  },
  {
   "cell_type": "markdown",
   "id": "6b64ddd7-b94e-4dac-ab64-ffe376bb48b8",
   "metadata": {},
   "source": [
    "Der Non-Null Count ist bei *Date* und *Calories* ungleich 28, d. h. es fehlen Werte."
   ]
  },
  {
   "cell_type": "markdown",
   "id": "206fad7e-1180-4342-a710-61912b68b121",
   "metadata": {},
   "source": [
    "# Doppelte Daten (Duplicates)\n",
    "<a id='section_duplicates'></a>\n",
    "`duplicated()` liefert für jede Zeile, ob sie doppelt vorkommt, d. h. eine Series vom Typ 'bool'."
   ]
  },
  {
   "cell_type": "code",
   "execution_count": null,
   "id": "80db7e74-86f6-44b9-a12d-064794470d82",
   "metadata": {},
   "outputs": [],
   "source": [
    "# Anzahl der doppelten Zeilen\n",
    "print(df.duplicated().sum())\n",
    "\n",
    "# Gibt die doppelte Zeile aus.\n",
    "df[df.duplicated()]"
   ]
  },
  {
   "cell_type": "code",
   "execution_count": null,
   "id": "51df46c5-be27-4736-b3d8-021dcd6c24c7",
   "metadata": {},
   "outputs": [],
   "source": [
    "# Gibt den Index der doppelten Zeilen aus.\n",
    "df[df.duplicated()].index"
   ]
  },
  {
   "cell_type": "code",
   "execution_count": null,
   "id": "eef4ef3b-1040-47d4-9f79-f477d59aa48e",
   "metadata": {},
   "outputs": [],
   "source": [
    "## Entfernen aller Duplicates"
   ]
  },
  {
   "cell_type": "code",
   "execution_count": null,
   "id": "6342a02e-ee94-4dc6-a68f-85b1a1c985e1",
   "metadata": {},
   "outputs": [],
   "source": [
    "# Anlegen eines neuen Dataframes ohne Duplicates\n",
    "df_no_duplicates = df.drop_duplicates()\n",
    "print(f'Original DataFrame: {len(df)}') # Originaldataframe\n",
    "print(f'DataFrame ohne Duplikate: {len(df_no_duplicates)}') # ein Entry wurde entfernt"
   ]
  },
  {
   "cell_type": "code",
   "execution_count": null,
   "id": "c1489a24-9f91-481f-8f84-aeb971e73c5b",
   "metadata": {},
   "outputs": [],
   "source": [
    "# Ohne Anlegen eines neuen Dataframes (Inplace)\n",
    "df.drop_duplicates(inplace=True)\n",
    "len(df) # ein Entry wurde in df entfernt"
   ]
  },
  {
   "cell_type": "code",
   "execution_count": null,
   "id": "14ca97ba-a1c0-4e72-a633-8677f0601301",
   "metadata": {},
   "outputs": [],
   "source": [
    "# Entfernen von Duplikaten aufgrund von bestimmten Spalten\n",
    "# Beispiel: Es soll jeder Pulswert nur einmal vorkommen.\n",
    "# Anmerkung: Ist bei diesen Daten sicher nicht sinnvoll, aber demonstriert die Möglichkeiten. ;-)\n",
    "df = pd.read_csv('data/heartrate.csv')\n",
    "df_no_pulse_duplicates = df.drop_duplicates(subset=['Pulse'])\n",
    "\n",
    "print(df_no_pulse_duplicates)"
   ]
  },
  {
   "cell_type": "code",
   "execution_count": null,
   "id": "121ff837-3ee3-49a7-9741-de0f46c64df9",
   "metadata": {},
   "outputs": [],
   "source": [
    "# Es läßt sich auch steuern, welche der doppelten Zeilen genommen wird.\n",
    "# Es wird die letzte Zeile genommen.\n",
    "df_no_pulse_duplicates_last = df.drop_duplicates(subset=['Pulse'], keep='last')\n",
    "\n",
    "print(df_no_pulse_duplicates_last)"
   ]
  },
  {
   "cell_type": "markdown",
   "id": "d0bb392b-f4a4-4a56-a1c3-e9977164291d",
   "metadata": {},
   "source": [
    "# Fehlende Daten (Missing Data)"
   ]
  },
  {
   "cell_type": "code",
   "execution_count": null,
   "id": "ca6fea68-62be-42af-9767-374cc4a2c9a1",
   "metadata": {},
   "outputs": [],
   "source": [
    "df = pd.read_csv('data/heartrate.csv')\n",
    "\n",
    "# alle Zeilen in denen das Datum fehlt\n",
    "nan_Dates = df[df['Date'].isna()].index\n",
    "nan_Dates.tolist()"
   ]
  },
  {
   "cell_type": "code",
   "execution_count": null,
   "id": "71275b31-92d8-41c7-9161-ada27cca337d",
   "metadata": {},
   "outputs": [],
   "source": [
    "# Anzeige der Zeilennummern (Indices) in denen Date fehlt\n",
    "df.loc[nan_Dates.tolist()]"
   ]
  },
  {
   "cell_type": "code",
   "execution_count": null,
   "id": "0c8c6417-c3bf-4d18-9c6e-620f4ff4555e",
   "metadata": {},
   "outputs": [],
   "source": [
    "# Anzeige der Zeilennummern (Indices) in denen Calories fehlt\n",
    "nan_Calories = df[df['Calories'].isna()].index\n",
    "nan_Calories.tolist()"
   ]
  },
  {
   "cell_type": "code",
   "execution_count": null,
   "id": "458e98ef-e2d5-46ea-bd7e-a079b96fa57a",
   "metadata": {},
   "outputs": [],
   "source": [
    "# alle Zeilen in denen Calories fehlt\n",
    "df.loc[nan_Calories.tolist()]"
   ]
  },
  {
   "cell_type": "markdown",
   "id": "41939c09-4a4a-4ed8-b4da-1015d614794b",
   "metadata": {},
   "source": [
    "## Interpolation von fehlenden Daten mit `interpolate()`\n",
    "**Interpolation** ist ein Verfahren, bei dem fehlende Daten anhand von bekannten Daten berechnet werden. Die Interpolation kann entweder **linear**, **polynomial**, **spline** oder als Zeitreihe mit **time** erfolgen."
   ]
  },
  {
   "cell_type": "markdown",
   "id": "9a4163a8-0a4c-48a4-b587-492af4622e59",
   "metadata": {},
   "source": [
    "Hinweis: *NaN* wird in pandas mit `pd.NA` repräsentiert, in der Library numpy als `np.nan`. Die beiden Konstanten verhalten sich aber unterschiedlich, wie bei der Methode `interpolate()`."
   ]
  },
  {
   "cell_type": "markdown",
   "id": "d13a8e89-aba3-447f-96d3-5a02491ac8c3",
   "metadata": {},
   "source": [
    "`interpolate()` führt defaultmäßig eine lineare Interpolation durch.\n",
    "\n",
    "Bei einer *linearen Interpolation* wird für den fehlenden Wert der arithmetische Mittelwert der davor und dahinterliegenden Datenpunkt ersetzt."
   ]
  },
  {
   "cell_type": "code",
   "execution_count": null,
   "id": "5bcdd207-4630-401c-97e3-e415cb54590a",
   "metadata": {},
   "outputs": [],
   "source": [
    "# Beispiel DataFrame mit fehlenden Werten\n",
    "import numpy as np\n",
    "\n",
    "data = {\n",
    "    'Sensor A': [20.3, 25.4, np.nan, 28.6, 27.2],\n",
    "    'Sensor B': [20.3, np.nan, 21.3, 18.4, np.nan]\n",
    "}\n",
    "df = pd.DataFrame(data)\n",
    "print(df)\n",
    "\n",
    "'''\n",
    "Alle NaNs werden linear interpoliert:\n",
    "(25.4+28.6)/2 -> 27.0\n",
    "(20.3+21.3)/2 -> 20.8\n",
    "Für den letzten Wert wird der vorhergehende eingesetzt. \n",
    "'''\n",
    "df_linear = df.interpolate()\n",
    "df_linear"
   ]
  },
  {
   "cell_type": "markdown",
   "id": "7856f41e-2cb8-44e0-b6dc-71cba63169b9",
   "metadata": {},
   "source": [
    "Mit dem Parameter `method` kann man auch andere mathematische Methoden auswählen, z. B. polynomial.\\\n",
    "Diese erfordert allerdings **scipy** einer weiteren Python Data Library.\n",
    "https://pandas.pydata.org/docs/reference/api/pandas.DataFrame.interpolate.html"
   ]
  },
  {
   "cell_type": "markdown",
   "id": "b8b9eaa4-b1f7-4c97-bc80-336e13175b23",
   "metadata": {},
   "source": [
    "## Ersetzen von fehlenden Daten mit `ffill()` und `bfill()`\n",
    "Diese beiden Methoden dienen dazu alle fehlenden Daten entweder durch die vorhergehenden Daten (forward fill) oder die nachfolgenden Daten (backward fill) zu ersetzen.\n",
    "\n",
    "Die Methode `fillna` unterstützt beide Methoden ebenso ist aber deprecated."
   ]
  },
  {
   "cell_type": "code",
   "execution_count": null,
   "id": "1f7ddf61-b92e-4253-b757-3f8376519492",
   "metadata": {},
   "outputs": [],
   "source": [
    "# Beispiel DataFrame mit fehlenden Werten\n",
    "import numpy as np\n",
    "\n",
    "data = {\n",
    "    'Sensor A': [20.3, 25.4, np.nan, 28.6, 27.2],\n",
    "    'Sensor B': [20.3, np.nan, 21.3, 18.4, np.nan]\n",
    "}\n",
    "df = pd.DataFrame(data)\n",
    "print(df)\n",
    "\n",
    "# Alle NaNs werden durch den vorherigen Wert ersetze.\n",
    "df_forward = df.ffill()\n",
    "df_forward"
   ]
  },
  {
   "cell_type": "code",
   "execution_count": null,
   "id": "a4cc0029-fd30-4beb-9444-18a257b707b4",
   "metadata": {},
   "outputs": [],
   "source": [
    "# Alle NaNs werden durch den nachfolgenden Wert ersetzt.\n",
    "df_backward = df.bfill()\n",
    "\n",
    "# das letzte NaN bei Sensor B kann daher nicht ersetzt werden.\n",
    "df_backward"
   ]
  },
  {
   "cell_type": "markdown",
   "id": "2e6ca3d8-4753-40b8-9374-a3b416c04622",
   "metadata": {},
   "source": [
    "## Entfernen von Zeilen mit fehlenden Daten"
   ]
  },
  {
   "cell_type": "markdown",
   "id": "82217ff8-1cda-4edd-9fdc-4c665ccf4e43",
   "metadata": {},
   "source": [
    "### Entfernen von allen Zeilen bei denen in einer beliebigen Spalte Daten fehlen"
   ]
  },
  {
   "cell_type": "code",
   "execution_count": null,
   "id": "d17f0d72-c441-43d2-a8d7-38c3711314fe",
   "metadata": {},
   "outputs": [],
   "source": [
    "# erzeugt einen neuen Dataframe\n",
    "new_df = df.dropna()\n",
    "len(new_df) # -> Die Zeilen wurden entfernt, der Index bleibt aber unverändert."
   ]
  },
  {
   "cell_type": "code",
   "execution_count": null,
   "id": "c0a47d6a-407d-470c-b23d-1420eb56732c",
   "metadata": {},
   "outputs": [],
   "source": [
    "new_df"
   ]
  },
  {
   "cell_type": "markdown",
   "id": "c566c131-ba99-4bbd-882a-0e4b92a251f5",
   "metadata": {},
   "source": [
    "Mit `df.dropna(inplace=True)` wird der DataFrame `df` selbst geändert und es wird kein neuner Dataframe angelegt. Die alten Daten werden überschrieben."
   ]
  },
  {
   "cell_type": "code",
   "execution_count": null,
   "id": "3d30b8a1-9a29-4413-a343-830101d8cfa8",
   "metadata": {},
   "outputs": [],
   "source": [
    "df.dropna(inplace=True)\n",
    "df"
   ]
  },
  {
   "cell_type": "markdown",
   "id": "a5e1769b-94f1-465e-b72a-499e8e23542a",
   "metadata": {},
   "source": [
    "### Entfernen von allen Zeilen bei denen in einer bestimmten Spalte Daten fehlen"
   ]
  },
  {
   "cell_type": "code",
   "execution_count": null,
   "id": "ef11031d-e42b-47e9-b844-ae1e78a2e384",
   "metadata": {},
   "outputs": [],
   "source": [
    "df = pd.read_csv('data/heartrate.csv')\n",
    "new_df.dropna(subset=['Date'], inplace = True)\n",
    "\n",
    "new_df"
   ]
  },
  {
   "cell_type": "markdown",
   "id": "3cd28006-0851-4ee4-9c54-e83e255028a9",
   "metadata": {},
   "source": [
    "### Ersetzen der fehlenden Werte"
   ]
  },
  {
   "cell_type": "markdown",
   "id": "7739e332-e455-45fb-a7af-5a35449de900",
   "metadata": {},
   "source": [
    "#### Ersetzen aller fehlenden Werte durch einen Wert\n",
    "Ist selten sinnvoll, weil auf die Datentypen der Spalten keine Rücksicht genommen wird."
   ]
  },
  {
   "cell_type": "code",
   "execution_count": null,
   "id": "d112c5bc-179e-486f-b937-dce67df1d6ec",
   "metadata": {},
   "outputs": [],
   "source": [
    "df = pd.read_csv('data/heartrate.csv')\n",
    "\n",
    "# Problem: Nicht nur die fehlenden Kaloriewerte werden ersetzt, sondern auch das Datum!!!\n",
    "df.fillna(444, inplace = True) \n",
    "df"
   ]
  },
  {
   "cell_type": "markdown",
   "id": "900d4d4b-88b7-4ff8-9c88-760e041e040a",
   "metadata": {},
   "source": [
    "#### Ersetzen aller fehlenden Einträge in einer bestimmten Spalte\n",
    "*Anmerkung:* Der Code `df['Calories'].fillna(444, inplace=True)` der in einer Series den Wert umsetzt, wird ab pandas 3.0 nicht mehr unterstützt.\\\n",
    "`fillna()` kann ein Dictionary übergeben werden, das alle zu ersetzenden Werte mit den Spaltenbezeichnungen enthält."
   ]
  },
  {
   "cell_type": "code",
   "execution_count": null,
   "id": "440028dc-01af-48f7-a1f5-09271149985c",
   "metadata": {},
   "outputs": [],
   "source": [
    "df = pd.read_csv('data/heartrate.csv')\n",
    "df.fillna({'Calories':444}, inplace = True)\n",
    "df"
   ]
  },
  {
   "cell_type": "code",
   "execution_count": null,
   "id": "f976e4e1-ad5a-49f6-8a13-e9ee8a44ef07",
   "metadata": {},
   "outputs": [],
   "source": [
    "df = pd.read_csv('data/heartrate.csv')\n",
    "\n",
    "# Alle Calories mit *NaN* werden auf 444 geändert.\n",
    "df.fillna({'Calories':444}, inplace = True)\n",
    "df"
   ]
  },
  {
   "cell_type": "code",
   "execution_count": null,
   "id": "f7063bba-8952-4e75-a0c7-4229be5aa92b",
   "metadata": {},
   "outputs": [],
   "source": [
    "df = pd.read_csv('data/heartrate.csv')\n",
    "\n",
    "# Es können in dem Dictionary auch alle Spalten angegeben werden.\n",
    "df.fillna({'Calories':444, 'Date':'2023/02/22'}, inplace = True)\n",
    "df"
   ]
  },
  {
   "cell_type": "markdown",
   "id": "7626c6dd-434e-4f91-9d43-b3ed3d1df2e6",
   "metadata": {},
   "source": [
    "#### Ersetzen aller fehlenden Einträge mit dem Mittelwert, Median oder dem häufigsten Wert\n",
    "- `mean()` berechnet den arithmetischen Mittelwert einer Zahlenserie oder Spalte.\n",
    "- `median()` berechnet den Medianwert einer Zahlenserie oder Spalte.\n",
    "- `mode()` berechnet den häufigsten Wert einer Zahlenserie oder Spalte."
   ]
  },
  {
   "cell_type": "markdown",
   "id": "b1636e60-e9c3-438f-9445-25dc419d153b",
   "metadata": {},
   "source": [
    "#### Mittelwert `mean()`"
   ]
  },
  {
   "cell_type": "code",
   "execution_count": null,
   "id": "0e4a354b-7269-498e-9556-0b66911294e8",
   "metadata": {},
   "outputs": [],
   "source": [
    "df = pd.read_csv('data/heartrate.csv')\n",
    "\n",
    "mittelwert = df['Calories'].mean()\n",
    "print(f'Mittelwert der Calories={mittelwert}')"
   ]
  },
  {
   "cell_type": "code",
   "execution_count": null,
   "id": "b9d6d0a7-b3a1-4168-a734-ce3bccd969b0",
   "metadata": {},
   "outputs": [],
   "source": [
    "df.fillna({'Calories':mittelwert}, inplace = True)\n",
    "df"
   ]
  },
  {
   "cell_type": "markdown",
   "id": "e49ea162-15e5-4343-83d1-13fd7ce09d62",
   "metadata": {},
   "source": [
    "#### Median `median()`\n",
    "Der Median ist der \"mittlere\" Wert, wenn man alle Zahlen sortiert hat.\\"
   ]
  },
  {
   "cell_type": "code",
   "execution_count": null,
   "id": "245e3b90-0359-496a-bdd6-a58a334cbdf9",
   "metadata": {},
   "outputs": [],
   "source": [
    "df = pd.read_csv('data/heartrate.csv')\n",
    "\n",
    "median = df['Calories'].median()\n",
    "print(f'Median der Calories={median}')"
   ]
  },
  {
   "cell_type": "code",
   "execution_count": null,
   "id": "54571a47-9eab-47eb-b862-192c452d75d8",
   "metadata": {},
   "outputs": [],
   "source": [
    "df.fillna({'Calories': median}, inplace = True)\n",
    "df"
   ]
  },
  {
   "cell_type": "markdown",
   "id": "e3f6358e-ef2a-4c15-b626-ec2ed36b348a",
   "metadata": {},
   "source": [
    "#### Häufigster Wert `mode()`"
   ]
  },
  {
   "cell_type": "code",
   "execution_count": null,
   "id": "349bf77a-cff8-46cd-8bef-6f921a1e786e",
   "metadata": {},
   "outputs": [],
   "source": [
    "df = pd.read_csv('data/heartrate.csv')\n",
    "\n",
    "haeufigster = df['Calories'].mode()\n",
    "print(f'Der häufigste Kalorienwert ist {haeufigster[0]}.')"
   ]
  },
  {
   "cell_type": "markdown",
   "id": "acbd2b03-5a84-440e-80cf-0f2bb45d2fce",
   "metadata": {},
   "source": [
    "**Mehrere häufigste Werte:** `mode()` gibt eine Series zurück, da es ja mehrere Werte geben kann, die am häufigsten vorkommen. Daher ist es sinnvoll, dann der einfachheithalber den ersten der häufigsten Werte zu verwenden."
   ]
  },
  {
   "cell_type": "markdown",
   "id": "3a9f9948-c0b8-4de6-96b3-a80e88a3ec19",
   "metadata": {},
   "source": [
    "**Beispiel mit mehreren häufigsten Werten**"
   ]
  },
  {
   "cell_type": "code",
   "execution_count": null,
   "id": "521a2b73-867d-4fc5-8ab7-06614d6e8e1e",
   "metadata": {},
   "outputs": [],
   "source": [
    "# Jeweils zwei Personen sind 22 und 26 Jahre alt.\n",
    "people = {\n",
    "    \"Name\" : [\"Anna\", \"Ben\", \"Clara\", \"David\", \"Eva\"],\n",
    "    \"Alter\" : [24, 26, 22, 22, 26],\n",
    "}\n",
    "\n",
    "df = pd.DataFrame(people)\n",
    "haeufigste = df[\"Alter\"].mode()\n",
    "\n",
    "# mode() liefert daher eine Series mit zwei Einträge mit dem Index 0 und 1.\n",
    "print(haeufigste)"
   ]
  },
  {
   "cell_type": "markdown",
   "id": "671ce04b-464b-4fec-88b4-47ab42b8926d",
   "metadata": {},
   "source": [
    "# Ausreißer (Outlier)\n",
    "Plötzliche Wertausreißer, können je nach der Art der Daten durch einen Medianfilter eliminiert werden. Dabei wird der Medianwert für jedes Fenster (d.h., für jede Gruppe von drei aufeinanderfolgenden Werten) in den einzelnen Spalten berechnet.\n",
    "\n",
    "Mit der Funktion `rolling` wird das Fenster über die Daten verschoben und dann mit `median()` für jede Fensterposition berechnet."
   ]
  },
  {
   "cell_type": "code",
   "execution_count": null,
   "id": "26718135-7ed9-4829-aaf6-813b9919f87f",
   "metadata": {},
   "outputs": [],
   "source": [
    "# 100 und 80 sind potentielle Outliers, d. h. Werte die von den anderen stark abweichen.\n",
    "data = {\n",
    "    'A': [1, 2, 80, 4, 5, 6, 7, 100, 9, 10],\n",
    "    'B': [10, 20, 15, 80, 25, 35, 40, 45, 50, 55]\n",
    "}\n",
    "df = pd.DataFrame(data)\n",
    "\n",
    "# Rolling-Median mit einer Fenstergröße von 3 anwenden\n",
    "df_rolling_median = df.rolling(window=3, center=True).median()\n",
    "\n",
    "# Der erste und letzte Wert können nicht berechnet werden, da das Fenster für diese Zeilen nicht vollständig in der Datenmenge liegt.\n",
    "print(df_rolling_median)"
   ]
  },
  {
   "cell_type": "markdown",
   "id": "de857326-4066-4574-9de6-e57c8ca05b95",
   "metadata": {},
   "source": [
    "`min_periods=1` stellt sicher, dass der Median auch für die erste und letzte Zeile berechnet werden kann, wenn weniger als 3 gültige (nicht-NaN) Werte im Fenster vorhanden sind. Es wird also bereits bei einem einzigen gültigen Wert im Fenster ein Ergebnis berechnet, anstatt NaN zurückzugeben."
   ]
  },
  {
   "cell_type": "code",
   "execution_count": null,
   "id": "408346ef-bf81-4ed0-8da8-d0268222d6be",
   "metadata": {},
   "outputs": [],
   "source": [
    "# Rolling-Median mit einer Fenstergröße von 3 anwenden\n",
    "df_rolling_median = df.rolling(window=3, center=True, min_periods=1).median()\n",
    "\n",
    "# Der erste und letzte Wert sind jetzt ebenfalls eine Zahl.\n",
    "print(df_rolling_median)"
   ]
  },
  {
   "cell_type": "code",
   "execution_count": null,
   "id": "de21033e-3c8e-49f7-92ad-e67ea472c255",
   "metadata": {},
   "outputs": [],
   "source": [
    "df"
   ]
  },
  {
   "cell_type": "markdown",
   "id": "4fc68cdd-5912-4b57-b2d8-b10cad925acb",
   "metadata": {},
   "source": [
    "### Zusatz: Erklärung wie der Medianwert von `median()` berechnet wird\n",
    "pandas eliminiert in der `median()`-Funktion aus der Zahlenliste zunächst alle *NaN* und alle doppelten Einträge. Dann werden alle Zahlen sortiert.\n",
    "- Ist die Anzahl der Zahlen ungerade, ist die mittlere Zahl der Median.\n",
    "- Ist die Anzahl der Zahlen gerade, ist der Median das arithmetische Mittel zwischen den beiden mittleren Zahlen."
   ]
  },
  {
   "cell_type": "markdown",
   "id": "7604b85a-834e-4db4-b5fa-48121195fd1a",
   "metadata": {},
   "source": [
    "**Beispiel 1 mit ungerader Anzahl von Zahlen**\n",
    "\n",
    "Bestimme den Median der Liste **[10, 1, 3, pd.NA, 2, 4, 3, 1, pd.NA]** durch überlegen.\\\n",
    "Überprüfe dann mittels der `median()`-Funktion.\n",
    "Anmerkung: `pd.NA` ist die Konstante für *NaN*"
   ]
  },
  {
   "cell_type": "markdown",
   "id": "61182d71-938a-414e-8596-b2242adb765d",
   "metadata": {},
   "source": [
    "[10, 1, 3, pd.NA, 2, 4, 3, 1, pd.NA]\\\n",
    "Entfernen aller NaNs -> [10, 1, 3, 2, 4, 3, 1]\\\n",
    "Entfernen aller Doppelten -> [10, 1, 3, 2, 4]\\\n",
    "Sortieren -> [1, 2, 3, 4, 10]\\\n",
    "**Die Länge ist 5 und ungerade.** Der Median ist daher der mittlere Wert -> 3"
   ]
  },
  {
   "cell_type": "code",
   "execution_count": null,
   "id": "5d75964b-7edd-4396-911f-7732946a821a",
   "metadata": {},
   "outputs": [],
   "source": [
    "# Überprüfung\n",
    "series = pd.Series([10, 1, 3, pd.NA, 2, 4, 3, 1, pd.NA])\n",
    "print(series.median())"
   ]
  },
  {
   "cell_type": "markdown",
   "id": "ff9eec0a-891c-45d9-b9d7-b141694f05ac",
   "metadata": {},
   "source": [
    "**Beispiel 2 mit gerader Anzahl von Zahlen**\n",
    "\n",
    "Bestimme den Median der Liste **[10, 1, 3, pd.NA, 2, 3, 1, pd.NA]** durch überlegen.\\"
   ]
  },
  {
   "cell_type": "markdown",
   "id": "784fd6e0-e4b6-4df9-ad9f-b72e83ebee72",
   "metadata": {},
   "source": [
    "[10, 1, 3, pd.NA, 2, 3, 1, pd.NA]\\\n",
    "Entfernen aller NaNs -> [10, 1, 3, 2, 3, 1]\\\n",
    "Entfernen aller Doppelten -> [10, 1, 3, 2]\\\n",
    "Sortieren -> [1, 2, 3, 10]\\\n",
    "**Die Länge ist 4 und gerade.** Der Median ist daher das arithmetische Mittel der beiden mittleren Werte 2 und 3 -> 2.5"
   ]
  },
  {
   "cell_type": "code",
   "execution_count": null,
   "id": "ee3bd956-5386-482b-b508-81c7fa616bc9",
   "metadata": {},
   "outputs": [],
   "source": [
    "# Überprüfung\n",
    "series = pd.Series([10, 1, 3, pd.NA, 2, 3, 1, pd.NA])\n",
    "print(series.median())"
   ]
  },
  {
   "cell_type": "code",
   "execution_count": null,
   "id": "b477c40b-275e-44a8-b145-9e5fc9fbb9dd",
   "metadata": {},
   "outputs": [],
   "source": []
  }
 ],
 "metadata": {
  "kernelspec": {
   "display_name": "Python 3 (ipykernel)",
   "language": "python",
   "name": "python3"
  },
  "language_info": {
   "codemirror_mode": {
    "name": "ipython",
    "version": 3
   },
   "file_extension": ".py",
   "mimetype": "text/x-python",
   "name": "python",
   "nbconvert_exporter": "python",
   "pygments_lexer": "ipython3",
   "version": "3.12.5"
  }
 },
 "nbformat": 4,
 "nbformat_minor": 5
}
