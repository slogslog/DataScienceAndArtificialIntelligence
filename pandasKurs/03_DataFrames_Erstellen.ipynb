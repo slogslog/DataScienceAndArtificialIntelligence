{
 "cells": [
  {
   "cell_type": "markdown",
   "id": "71ea9e16-bd31-4c9c-b966-541e1010e67b",
   "metadata": {},
   "source": [
    "## Einen DataFrame in Pandas erstellen\n",
    "*Erstellt von:* Thomas Schlögl\\\n",
    "*Datum:* 2024/08/10\n",
    "\n",
    "**Beispiel:** Mehrere Personen mit Alter, Körpergröße und Geburtsdatum.\n",
    "Im DataFrame werden für jeden Namen alle Daten gespeichert."
   ]
  },
  {
   "cell_type": "code",
   "execution_count": 9,
   "id": "ef46f24e-8b96-4741-b04c-29bba99f47c6",
   "metadata": {},
   "outputs": [
    {
     "name": "stdout",
     "output_type": "stream",
     "text": [
      "    Name  Alter  Groesse Geburtsdatum\n",
      "0   Anna     17      170   2007-03-15\n",
      "1    Ben     18      168   2006-07-22\n",
      "2  Clara     14      181   2010-09-10\n",
      "3  David     16      167   2008-11-04\n",
      "4    Eva     15      192   2009-05-10\n"
     ]
    }
   ],
   "source": [
    "import pandas as pd\n",
    "\n",
    "people = {\n",
    "    \"Name\" : [\"Anna\", \"Ben\", \"Clara\", \"David\", \"Eva\"],\n",
    "    \"Alter\" : [17, 18, 14, 16, 15],\n",
    "    \"Groesse\" : [170, 168, 181, 167, 192],\n",
    "    \"Geburtsdatum\" : [\"2007-03-15\", \"2006-07-22\", \"2010-09-10\", \"2008-11-04\", \"2009-05-10\"]\n",
    "}\n",
    "\n",
    "df = pd.DataFrame(people)\n",
    "print(df)"
   ]
  },
  {
   "cell_type": "markdown",
   "id": "c2087585-c81c-476b-b3f4-6b3a95a6d821",
   "metadata": {},
   "source": [
    "Einen **Dataframe** aus mehreren Series erstellen."
   ]
  },
  {
   "cell_type": "code",
   "execution_count": 10,
   "id": "a31f80fe-28a0-4dd4-8989-0f037cdff0f1",
   "metadata": {},
   "outputs": [
    {
     "name": "stdout",
     "output_type": "stream",
     "text": [
      "    Name  Alter  Groesse\n",
      "0   Anna     17      170\n",
      "1    Ben     18      168\n",
      "2  Clara     14      181\n",
      "3  David     16      167\n",
      "4    Eva     15      192\n"
     ]
    }
   ],
   "source": [
    "namen = pd.Series(['Anna', 'Ben', 'Clara', 'David', 'Eva'])\n",
    "groesse = pd.Series([170, 168, 181, 167, 192])\n",
    "alter = pd.Series([17, 18, 14, 16, 15])\n",
    "\n",
    "df = pd.DataFrame({\n",
    "    'Name': namen,\n",
    "    'Alter': alter,\n",
    "    'Groesse': groesse\n",
    "})\n",
    "\n",
    "print(df)"
   ]
  },
  {
   "cell_type": "markdown",
   "id": "6a1f42e9-0fd0-4bc3-93a6-066d35802462",
   "metadata": {},
   "source": [
    "Einen DataFrame aus einem CSV-File einlesen. Der Index ist die Zeile."
   ]
  },
  {
   "cell_type": "code",
   "execution_count": 11,
   "id": "62c47124-8b40-4c95-816f-016f25059f89",
   "metadata": {},
   "outputs": [
    {
     "name": "stdout",
     "output_type": "stream",
     "text": [
      "    Name  Alter  Groesse\n",
      "0   Anna     17      170\n",
      "1    Ben     18      168\n",
      "2  Clara     14      181\n",
      "3  David     16      167\n",
      "4    Eva     15      192\n"
     ]
    }
   ],
   "source": [
    "df = pd.read_csv('data/personen.csv', usecols=['Name', 'Alter', 'Groesse'])\n",
    "print(df)"
   ]
  },
  {
   "cell_type": "markdown",
   "id": "c12afa91-9eed-42a3-8bb2-51779c686c2a",
   "metadata": {},
   "source": [
    "Lies einen DataFrame so ein, dass der Index der Name ist und die beiden Spalten Alter und Groesse."
   ]
  },
  {
   "cell_type": "code",
   "execution_count": 12,
   "id": "724a64e7-5c9a-4da0-bac3-6b6c91c779da",
   "metadata": {
    "scrolled": true
   },
   "outputs": [
    {
     "name": "stdout",
     "output_type": "stream",
     "text": [
      "       Alter  Groesse\n",
      "Name                 \n",
      "Anna      17      170\n",
      "Ben       18      168\n",
      "Clara     14      181\n",
      "David     16      167\n",
      "Eva       15      192\n"
     ]
    }
   ],
   "source": [
    "df = pd.read_csv('data/personen.csv')\n",
    "df = df.set_index('Name')[['Alter', 'Groesse']]\n",
    "\n",
    "print(df)"
   ]
  },
  {
   "cell_type": "markdown",
   "id": "22b119f1-de3c-48f4-834a-75c8ceeebca9",
   "metadata": {},
   "source": [
    "Lies einen DataFrame mit allen Spalte ein. Der Name soll der Index sein."
   ]
  },
  {
   "cell_type": "code",
   "execution_count": 13,
   "id": "f5ce5c49-355e-4357-80d2-4f26c16fed8e",
   "metadata": {},
   "outputs": [
    {
     "name": "stdout",
     "output_type": "stream",
     "text": [
      "       Alter  Groesse Geburtsdatum\n",
      "Name                              \n",
      "Anna      17      170   2007-03-15\n",
      "Ben       18      168   2006-07-22\n",
      "Clara     14      181   2010-09-10\n",
      "David     16      167   2008-11-04\n",
      "Eva       15      192   2009-05-18\n"
     ]
    }
   ],
   "source": [
    "df = pd.read_csv('data/personen.csv')\n",
    "\n",
    "# Name als Index setzen\n",
    "# inplace = True stellt sicher, dass der Index direkt im DataFrame\n",
    "# gesetzt wird, ohne eine Kopie anzulegen.\n",
    "df.set_index('Name', inplace=True)\n",
    "\n",
    "print(df)"
   ]
  },
  {
   "cell_type": "markdown",
   "id": "6fe28af5-248a-43a0-9b07-ab9af09ec426",
   "metadata": {},
   "source": [
    "Auch aus einem **JSON-File** kann ein DataFrame eingelesen werden."
   ]
  },
  {
   "cell_type": "code",
   "execution_count": 14,
   "id": "8da6920f-805f-4ff2-878b-58c154f7398b",
   "metadata": {},
   "outputs": [
    {
     "name": "stdout",
     "output_type": "stream",
     "text": [
      "       Alter  Groesse\n",
      "Name                 \n",
      "Anna      25      170\n",
      "Ben       30      168\n",
      "Clara     22      181\n",
      "David     28      167\n",
      "Eva       26      192\n"
     ]
    }
   ],
   "source": [
    "df = pd.read_json('data/personen.json')\n",
    "\n",
    "# Nur die Spalten 'Alter' und 'Groesse' auswählen und Name als Index setzen\n",
    "df = df.set_index('Name')[['Alter', 'Groesse']]\n",
    "\n",
    "print(df)"
   ]
  },
  {
   "cell_type": "markdown",
   "id": "8140f9c5-423f-4f46-9d8f-5839c6435d36",
   "metadata": {},
   "source": [
    "Eine Series aus einem DataFrame extrahieren.\n",
    "Variante mit dem Namen als Index. Da der DataFrame den Namen ohnehin als Index hat, hat auch die extrahierte Series den Namen als DataFrame."
   ]
  },
  {
   "cell_type": "code",
   "execution_count": 15,
   "id": "e793db01-9749-4390-aae5-749b3153c0bb",
   "metadata": {},
   "outputs": [
    {
     "name": "stdout",
     "output_type": "stream",
     "text": [
      "Name\n",
      "Anna     25\n",
      "Ben      30\n",
      "Clara    22\n",
      "David    28\n",
      "Eva      26\n",
      "Name: Alter, dtype: int64\n"
     ]
    }
   ],
   "source": [
    "alter_series = df['Alter']\n",
    "\n",
    "print(alter_series)"
   ]
  },
  {
   "cell_type": "markdown",
   "id": "5297e04b-c999-4557-bd9b-f923e18c04eb",
   "metadata": {},
   "source": [
    "Eine Series aus einem DataFrame extrahieren.\n",
    "Variante mit der Zeilennummer als Index. Dafür muss der Name als Index entfernt werden.\n",
    "Das geschieht durch reset_index. drop=True bedeutet, dass die Namensspalte auch entfernt wird."
   ]
  },
  {
   "cell_type": "code",
   "execution_count": 16,
   "id": "4c047768-48e0-4104-8548-1c7ed7643fb6",
   "metadata": {},
   "outputs": [
    {
     "name": "stdout",
     "output_type": "stream",
     "text": [
      "0    25\n",
      "1    30\n",
      "2    22\n",
      "3    28\n",
      "4    26\n",
      "Name: Alter, dtype: int64\n"
     ]
    }
   ],
   "source": [
    "alter_series = df['Alter'].reset_index(drop=True)\n",
    "\n",
    "print(alter_series)"
   ]
  },
  {
   "cell_type": "code",
   "execution_count": null,
   "id": "ba9b95f4-7d67-4c5d-9385-5d7d3a8b9b1a",
   "metadata": {},
   "outputs": [],
   "source": []
  }
 ],
 "metadata": {
  "kernelspec": {
   "display_name": "Python 3 (ipykernel)",
   "language": "python",
   "name": "python3"
  },
  "language_info": {
   "codemirror_mode": {
    "name": "ipython",
    "version": 3
   },
   "file_extension": ".py",
   "mimetype": "text/x-python",
   "name": "python",
   "nbconvert_exporter": "python",
   "pygments_lexer": "ipython3",
   "version": "3.12.5"
  }
 },
 "nbformat": 4,
 "nbformat_minor": 5
}
