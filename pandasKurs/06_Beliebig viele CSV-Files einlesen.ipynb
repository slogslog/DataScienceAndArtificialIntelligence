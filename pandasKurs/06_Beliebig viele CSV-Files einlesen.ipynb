{
 "cells": [
  {
   "cell_type": "markdown",
   "id": "9b250de4dc875fec",
   "metadata": {},
   "source": [
    "# DataFrames aus beliebig vielen CSV-Files erstellen\n",
    "*Erstellt von:* Thomas Schlögl\\\n",
    "*Datum:* 2024/08/19"
   ]
  },
  {
   "cell_type": "markdown",
   "id": "04ec3c08-4972-47b4-aafb-19fff21a4f74",
   "metadata": {},
   "source": [
    "Es werden Autodaten aus beliebig vielen CSV-Files aus dem Verzeichnis *data* eingelesen.\\\n",
    "Alle Files beginnen mit *cars* und enden mit *.csv*.\n",
    "\n",
    "## Schritt-für-Schritt-Anleitung\n",
    "\n",
    "1. Verwende `glob`, um alle passenden Dateien zu finden.\n",
    "   - `glob` ist eine Python-Bibliothek, die verwendet wird, um Dateipfade basierend auf einem bestimmten Muster zu finden. Sie durchsucht das Dateisystem nach Dateien und Verzeichnissen, die dem angegebenen Muster entsprechen, und gibt eine Liste der gefundenen Pfade zurück.\n",
    "   - `os` ist eine weitere Standardbibliothek die Betriebssystemfunktionalität zur Verfügung stellt.\n",
    "3. Lese jede Datei in einen DataFrame ein.\n",
    "4. Kombiniere alle DataFrames in einen einzigen DataFrame."
   ]
  },
  {
   "cell_type": "code",
   "execution_count": 5,
   "id": "e7f15275ed5d9fdb",
   "metadata": {
    "ExecuteTime": {
     "end_time": "2024-08-18T08:41:14.987618Z",
     "start_time": "2024-08-18T08:41:06.102178Z"
    }
   },
   "outputs": [],
   "source": [
    "# Importieren\n",
    "import pandas as pd\n",
    "import glob\n",
    "import os"
   ]
  },
  {
   "cell_type": "code",
   "execution_count": 6,
   "id": "616785fc-53f1-4a86-a58b-f053663029bf",
   "metadata": {},
   "outputs": [
    {
     "data": {
      "text/plain": [
       "'data/cars*.csv'"
      ]
     },
     "execution_count": 6,
     "metadata": {},
     "output_type": "execute_result"
    }
   ],
   "source": [
    "# Pfad zum Verzeichnis mit den CSV-Dateien\n",
    "folder_path = 'data'\n",
    "\n",
    "# Muster für die CSV-Dateien (cars*.csv)\n",
    "file_pattern = os.path.join(folder_path, \"cars*.csv\")\n",
    "\n",
    "file_pattern"
   ]
  },
  {
   "cell_type": "code",
   "execution_count": 7,
   "id": "9faacbc2-5136-42eb-982c-66a468ec81ee",
   "metadata": {},
   "outputs": [
    {
     "data": {
      "text/plain": [
       "['data/cars1.csv', 'data/cars2.csv', 'data/cars3.csv']"
      ]
     },
     "execution_count": 7,
     "metadata": {},
     "output_type": "execute_result"
    }
   ],
   "source": [
    "# Erstelle eine Liste aller CSV-Dateien, die dem Muster entsprechen\n",
    "csv_files = glob.glob(file_pattern)\n",
    "csv_files"
   ]
  },
  {
   "cell_type": "code",
   "execution_count": 8,
   "id": "d27f19cd-1be8-4fb4-812c-e13c7d36d054",
   "metadata": {},
   "outputs": [
    {
     "data": {
      "text/html": [
       "<div>\n",
       "<style scoped>\n",
       "    .dataframe tbody tr th:only-of-type {\n",
       "        vertical-align: middle;\n",
       "    }\n",
       "\n",
       "    .dataframe tbody tr th {\n",
       "        vertical-align: top;\n",
       "    }\n",
       "\n",
       "    .dataframe thead th {\n",
       "        text-align: right;\n",
       "    }\n",
       "</style>\n",
       "<table border=\"1\" class=\"dataframe\">\n",
       "  <thead>\n",
       "    <tr style=\"text-align: right;\">\n",
       "      <th></th>\n",
       "      <th>Type</th>\n",
       "      <th>Baujahr</th>\n",
       "      <th>Kilometerstand</th>\n",
       "    </tr>\n",
       "  </thead>\n",
       "  <tbody>\n",
       "    <tr>\n",
       "      <th>0</th>\n",
       "      <td>Volkswagen Golf</td>\n",
       "      <td>2015</td>\n",
       "      <td>75000</td>\n",
       "    </tr>\n",
       "    <tr>\n",
       "      <th>1</th>\n",
       "      <td>BMW 3er</td>\n",
       "      <td>2017</td>\n",
       "      <td>45000</td>\n",
       "    </tr>\n",
       "    <tr>\n",
       "      <th>2</th>\n",
       "      <td>Audi A4</td>\n",
       "      <td>2018</td>\n",
       "      <td>60000</td>\n",
       "    </tr>\n",
       "    <tr>\n",
       "      <th>3</th>\n",
       "      <td>Mercedes-Benz C-Klasse</td>\n",
       "      <td>2016</td>\n",
       "      <td>70000</td>\n",
       "    </tr>\n",
       "    <tr>\n",
       "      <th>4</th>\n",
       "      <td>Renault Clio</td>\n",
       "      <td>2019</td>\n",
       "      <td>30000</td>\n",
       "    </tr>\n",
       "    <tr>\n",
       "      <th>5</th>\n",
       "      <td>Peugeot 308</td>\n",
       "      <td>2018</td>\n",
       "      <td>50000</td>\n",
       "    </tr>\n",
       "    <tr>\n",
       "      <th>6</th>\n",
       "      <td>Volvo V60</td>\n",
       "      <td>2017</td>\n",
       "      <td>65000</td>\n",
       "    </tr>\n",
       "    <tr>\n",
       "      <th>7</th>\n",
       "      <td>Fiat 500</td>\n",
       "      <td>2020</td>\n",
       "      <td>15000</td>\n",
       "    </tr>\n",
       "    <tr>\n",
       "      <th>8</th>\n",
       "      <td>Skoda Octavia</td>\n",
       "      <td>2016</td>\n",
       "      <td>80000</td>\n",
       "    </tr>\n",
       "    <tr>\n",
       "      <th>9</th>\n",
       "      <td>Opel Astra</td>\n",
       "      <td>2014</td>\n",
       "      <td>85000</td>\n",
       "    </tr>\n",
       "    <tr>\n",
       "      <th>10</th>\n",
       "      <td>SEAT Leon</td>\n",
       "      <td>2017</td>\n",
       "      <td>55000</td>\n",
       "    </tr>\n",
       "    <tr>\n",
       "      <th>11</th>\n",
       "      <td>Alfa Romeo Giulia</td>\n",
       "      <td>2019</td>\n",
       "      <td>40000</td>\n",
       "    </tr>\n",
       "  </tbody>\n",
       "</table>\n",
       "</div>"
      ],
      "text/plain": [
       "                      Type  Baujahr  Kilometerstand\n",
       "0          Volkswagen Golf     2015           75000\n",
       "1                  BMW 3er     2017           45000\n",
       "2                  Audi A4     2018           60000\n",
       "3   Mercedes-Benz C-Klasse     2016           70000\n",
       "4             Renault Clio     2019           30000\n",
       "5              Peugeot 308     2018           50000\n",
       "6                Volvo V60     2017           65000\n",
       "7                 Fiat 500     2020           15000\n",
       "8            Skoda Octavia     2016           80000\n",
       "9               Opel Astra     2014           85000\n",
       "10               SEAT Leon     2017           55000\n",
       "11       Alfa Romeo Giulia     2019           40000"
      ]
     },
     "execution_count": 8,
     "metadata": {},
     "output_type": "execute_result"
    }
   ],
   "source": [
    "# Liste, um die einzelnen DataFrames zu speichern\n",
    "dataframes = []\n",
    "\n",
    "# Laufe durch alle CSV-Files und lade sie in eine Liste von DataFrames\n",
    "for file_path in csv_files:\n",
    "    df = pd.read_csv(file_path)\n",
    "    dataframes.append(df)\n",
    "\n",
    "# Alle DataFrames in der Liste zu einem einzigen DataFrame zusammenführen\n",
    "df_combined = pd.concat(dataframes, ignore_index=True)\n",
    "\n",
    "df_combined"
   ]
  },
  {
   "cell_type": "code",
   "execution_count": null,
   "id": "07e43e3f-4ecb-42ec-b4e5-22dbd103d6aa",
   "metadata": {},
   "outputs": [],
   "source": []
  }
 ],
 "metadata": {
  "kernelspec": {
   "display_name": "Python 3 (ipykernel)",
   "language": "python",
   "name": "python3"
  },
  "language_info": {
   "codemirror_mode": {
    "name": "ipython",
    "version": 3
   },
   "file_extension": ".py",
   "mimetype": "text/x-python",
   "name": "python",
   "nbconvert_exporter": "python",
   "pygments_lexer": "ipython3",
   "version": "3.12.5"
  }
 },
 "nbformat": 4,
 "nbformat_minor": 5
}
