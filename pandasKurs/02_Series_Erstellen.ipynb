{
 "cells": [
  {
   "cell_type": "markdown",
   "id": "478d259d4f4faee5",
   "metadata": {},
   "source": [
    "## Eine Series in Pandas erstellen\n",
    "*Erstellt von:* Thomas Schlögl\\\n",
    "*Datum:* 2024/08/10\n",
    "\n",
    "**Beispiel:** Eine Liste mit 5 Körpergrößen\\\n",
    "In der Series wird für jeden Wert ein Index abgespeichert."
   ]
  },
  {
   "cell_type": "code",
   "execution_count": null,
   "id": "60ab078a965cb9e1",
   "metadata": {
    "ExecuteTime": {
     "end_time": "2024-08-09T13:45:21.637028Z",
     "start_time": "2024-08-09T13:45:19.003385Z"
    }
   },
   "outputs": [],
   "source": [
    "import pandas as pd\n",
    "\n",
    "# Eine Series aus einer Liste erstellen\n",
    "heights = [170, 168, 181, 167, 192]\n",
    "series = pd.Series(heights)\n",
    "\n",
    "print(series)"
   ]
  },
  {
   "cell_type": "markdown",
   "id": "b3280a8032d8f5e8",
   "metadata": {},
   "source": [
    "Man kann beim Erzeugen einer Series auch selbst eine **Liste von Indizes** angeben, z. B. die Namen der Personen.\\\n",
    "Der Index hat daher den Datentyp *String*."
   ]
  },
  {
   "cell_type": "code",
   "execution_count": null,
   "id": "f3e1d2e0-419e-4cf0-856f-8fa6eb0419cb",
   "metadata": {},
   "outputs": [],
   "source": [
    "# Eine Series aus einer Liste erstellen\n",
    "heights = [170, 168, 181, 167, 192]\n",
    "series2 = pd.Series(heights, index=[\"Alex\", \"Bernd\", \"Chris\", \"Doris\", \"Emre\"])\n",
    "\n",
    "print(series2)"
   ]
  },
  {
   "cell_type": "markdown",
   "id": "7ddaf63a-b801-4174-a529-4e6b01db9af1",
   "metadata": {},
   "source": [
    "Ebenso ist es möglich eine Series aus einem **Dictionary** zu erstellen."
   ]
  },
  {
   "cell_type": "code",
   "execution_count": null,
   "id": "f981fc78-7ea3-4c30-90e2-e0c6e4410c6c",
   "metadata": {
    "scrolled": true
   },
   "outputs": [],
   "source": [
    "# Eine Series aus einem Dictionary erstellen\n",
    "dic = {'Alex': 170, 'Bernd': 168, 'Chris': 181, 'Doris': 167, 'Emre': 192}\n",
    "\n",
    "# Series aus dem Dictionary erstellen\n",
    "series = pd.Series(dic)\n",
    "\n",
    "print(series)"
   ]
  },
  {
   "cell_type": "markdown",
   "id": "432db878db2c9428",
   "metadata": {},
   "source": [
    "Auch aus einem **CSV-File** kann eine Series eingelesen werden. Dafür gibt es sehr viele Möglichkeiten.\\\n",
    "Siehe z. B. [https://www.geeksforgeeks.org/python-read-csv-using-pandas-read_csv](https://www.geeksforgeeks.org/python-read-csv-using-pandas-read_csv).\n",
    "\n",
    "Die Spalte der Namen wird als Index verwendet, die Körpergröße als Datenwert."
   ]
  },
  {
   "cell_type": "code",
   "execution_count": null,
   "id": "a26e1f85483dc0b9",
   "metadata": {
    "ExecuteTime": {
     "end_time": "2024-08-09T14:55:12.454785Z",
     "start_time": "2024-08-09T14:55:12.069927Z"
    }
   },
   "outputs": [],
   "source": [
    "# CSV-Datei einlesen und Spalte \"Name\" als Index setzen, Spalte \"Groesse\" als Daten verwenden\n",
    "series = pd.read_csv('data/personen.csv', index_col='Name', usecols=['Name', 'Groesse']).squeeze()\n",
    "\n",
    "print(series)"
   ]
  },
  {
   "cell_type": "markdown",
   "id": "4a68c1d3-042a-4482-b728-2626bc14ee6c",
   "metadata": {},
   "source": [
    "Auch aus einem **JSON-File** kann eine Series eingelesen werden. Dafür gibt es sehr viele Möglichkeiten.\\\n",
    "Siehe z. B. [https://www.geeksforgeeks.org/how-to-read-json-files-with-pandas](https://www.geeksforgeeks.org/how-to-read-json-files-with-pandas).\n",
    "\n",
    "Die Spalte der Namen wird als Index verwendet, die Körpergröße als Datenwert."
   ]
  },
  {
   "cell_type": "code",
   "execution_count": null,
   "id": "910a2e41-526a-4837-9259-1a802fef5d16",
   "metadata": {},
   "outputs": [],
   "source": [
    "df = pd.read_json('data/personen.json')\n",
    "\n",
    "# Name als Index setzen und die Spalte 'Groesse' als Series extrahieren\n",
    "series = df.set_index('Name')['Groesse']\n",
    "print(series)"
   ]
  },
  {
   "cell_type": "code",
   "execution_count": null,
   "id": "3f0a1c7e-b956-4d28-b8be-98141e22dde6",
   "metadata": {},
   "outputs": [],
   "source": []
  }
 ],
 "metadata": {
  "kernelspec": {
   "display_name": "Python 3 (ipykernel)",
   "language": "python",
   "name": "python3"
  },
  "language_info": {
   "codemirror_mode": {
    "name": "ipython",
    "version": 3
   },
   "file_extension": ".py",
   "mimetype": "text/x-python",
   "name": "python",
   "nbconvert_exporter": "python",
   "pygments_lexer": "ipython3",
   "version": "3.12.5"
  }
 },
 "nbformat": 4,
 "nbformat_minor": 5
}
